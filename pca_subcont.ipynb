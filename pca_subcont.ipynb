{
 "cells": [
  {
   "cell_type": "code",
   "execution_count": 1,
   "metadata": {},
   "outputs": [],
   "source": [
    "import hail as hl"
   ]
  },
  {
   "cell_type": "markdown",
   "metadata": {},
   "source": [
    "# *set up dataset* "
   ]
  },
  {
   "cell_type": "code",
   "execution_count": 2,
   "metadata": {},
   "outputs": [
    {
     "name": "stderr",
     "output_type": "stream",
     "text": [
      "Initializing Hail with default parameters...\n",
      "Running on Apache Spark version 3.1.1\n",
      "SparkUI available at http://mty-m.c.neurogap-analysis.internal:39245\n",
      "Welcome to\n",
      "     __  __     <>__\n",
      "    / /_/ /__  __/ /\n",
      "   / __  / _ `/ / /\n",
      "  /_/ /_/\\_,_/_/_/   version 0.2.65-367cf1874d85\n",
      "LOGGING: writing to /home/hail/hail-20210726-2222-0.2.65-367cf1874d85.log\n"
     ]
    }
   ],
   "source": [
    "# read in the dataset Zan produced \n",
    "# metadata from Alicia + sample QC metadata from Julia + densified mt from Konrad\n",
    "# no samples or variants removed yet  \n",
    "mt = hl.read_matrix_table('gs://african-seq-data/hgdp_tgp/hgdp_tgp_dense_meta_preQC.mt') # 211358784 snps & 4151 samples"
   ]
  },
  {
   "cell_type": "code",
   "execution_count": 3,
   "metadata": {},
   "outputs": [],
   "source": [
    "# read in variant QC metadata\n",
    "var_meta = hl.read_table('gs://gcp-public-data--gnomad/release/3.1.1/ht/genomes/gnomad.genomes.v3.1.1.sites.ht')\n",
    "\n",
    "# annotate variant QC metadata onto mt \n",
    "mt = mt.annotate_rows(**var_meta[mt.locus, mt.alleles]) "
   ]
  },
  {
   "cell_type": "code",
   "execution_count": 3,
   "metadata": {},
   "outputs": [],
   "source": [
    "# read in the new dataset (including samples that were removed unknowngly)  \n",
    "mt_post = hl.read_matrix_table('gs://african-seq-data/hgdp_tgp/new_hgdp_tgp_postQC.mt') # (155648020, 4099)"
   ]
  },
  {
   "cell_type": "markdown",
   "metadata": {},
   "source": [
    "# *gnomAD filter QC*"
   ]
  },
  {
   "cell_type": "code",
   "execution_count": 4,
   "metadata": {},
   "outputs": [],
   "source": [
    "# editing the format of the filter names and putting them together in a set so that we won't have an issue later when filtering the matrixTable using difference()\n",
    "# create a set of the gnomAD qc filters (column names under \"sample filters\") - looks like: {'sex_aneuploidy', 'insert_size', ...} but not in a certain order (randomly ordered)\n",
    "all_sample_filters = set(mt['sample_filters']) "
   ]
  },
  {
   "cell_type": "code",
   "execution_count": 5,
   "metadata": {},
   "outputs": [],
   "source": [
    "import re # for renaming purposes\n",
    "\n",
    "# bad_sample_filters are filters that removed whole populations despite them passing all other gnomAD filters (mostly AFR and OCE popns)\n",
    "# remove \"fail_\" from the filter names and pick those out (9 filters) - if the filter name starts with 'fail_' then replace it with ''\n",
    "bad_sample_filters = {re.sub('fail_', '', x) for x in all_sample_filters if x.startswith('fail_')} "
   ]
  },
  {
   "cell_type": "code",
   "execution_count": 6,
   "metadata": {},
   "outputs": [],
   "source": [
    "# this filters to only samples that passed all gnomad QC or only failed filters in bad_sample_filters\n",
    "# 'qc_metrics_filters' is under 'sample_filters' and includes a set of all qc filters a particular sample failed \n",
    "# if a sample passed all gnomAD qc filters then the column entry for that sample under 'qc_metrics_filters' is an empty set\n",
    "# so this line goes through the 'qc_metrics_filters'column and sees if there are any samples that passed all the other qc filters except for the ones in the \"bad_sample_filters\" set (difference()) \n",
    "# if a sample has an empty set for the 'qc_metrics_filters' column or if it only failed the filters that are found in the bad_sample_filters set, then a value of zero is returned and we would keep that sample \n",
    "# if a sample failed any filters that are not in the \"bad_sample_filters\" set, remove it\n",
    "# same as gs://african-seq-data/hgdp_tgp/hgdp_tgp_dense_meta_filt.mt - 211358784 snps & 4120 samples  \n",
    "mt_filt = mt.filter_cols(mt['sample_filters']['qc_metrics_filters'].difference(bad_sample_filters).length() == 0) "
   ]
  },
  {
   "cell_type": "code",
   "execution_count": 7,
   "metadata": {},
   "outputs": [
    {
     "name": "stdout",
     "output_type": "stream",
     "text": [
      "Num of samples before initial QC = 4151\n",
      "Num of samples after initial QC = 4120\n",
      "Samples removed = 31\n"
     ]
    }
   ],
   "source": [
    "# How many samples were removed by the initial QC?\n",
    "\n",
    "print('Num of samples before initial QC = ' + str(mt.count()[1])) # 4151\n",
    "print('Num of samples after initial QC = ' + str(mt_filt.count()[1])) # 4120\n",
    "print('Samples removed = ' + str(mt.count()[1] - mt_filt.count()[1])) # 31"
   ]
  },
  {
   "cell_type": "markdown",
   "metadata": {},
   "source": [
    "# *remove duplicate sample*"
   ]
  },
  {
   "cell_type": "code",
   "execution_count": 8,
   "metadata": {},
   "outputs": [
    {
     "name": "stdout",
     "output_type": "stream",
     "text": [
      "Num of samples after removal of duplicate sample = 4119\n"
     ]
    }
   ],
   "source": [
    "# duplicate sample - NA06985\n",
    "mt_filt = mt_filt.distinct_by_col()\n",
    "print('Num of samples after removal of duplicate sample = ' + str(mt_filt.count()[1])) # 4119"
   ]
  },
  {
   "cell_type": "markdown",
   "metadata": {},
   "source": [
    "# *keep only PASS variants*"
   ]
  },
  {
   "cell_type": "code",
   "execution_count": 9,
   "metadata": {},
   "outputs": [
    {
     "name": "stdout",
     "output_type": "stream",
     "text": [
      "Num of only PASS variants = 155648020\n"
     ]
    }
   ],
   "source": [
    "# subset to only PASS variants (those which passed variant QC) ~6min to run \n",
    "mt_filt = mt_filt.filter_rows(hl.len(mt_filt.filters) !=0, keep=False)\n",
    "print('Num of only PASS variants = ' + str(mt_filt.count()[0])) # 155648020"
   ]
  },
  {
   "cell_type": "markdown",
   "metadata": {},
   "source": [
    "# *variant filter and ld pruning* "
   ]
  },
  {
   "cell_type": "code",
   "execution_count": 10,
   "metadata": {},
   "outputs": [],
   "source": [
    "# run common variant statistics (quality control metrics) - more info https://hail.is/docs/0.2/methods/genetics.html#hail.methods.variant_qc  \n",
    "mt_var = hl.variant_qc(mt_filt) "
   ]
  },
  {
   "cell_type": "code",
   "execution_count": 11,
   "metadata": {},
   "outputs": [],
   "source": [
    "# trying to get down to ~100-300k SNPs - might need to change values later accordingly  \n",
    "# AF: allele freq and call_rate: fraction of calls neither missing nor filtered\n",
    "# mt.variant_qc.AF[0] is referring to the first element of the list under that column field  \n",
    "mt_var_filt = mt_var.filter_rows((mt_var.variant_qc.AF[0] > 0.05) & (mt_var.variant_qc.AF[0] < 0.95) & (mt_var.variant_qc.call_rate > 0.999))"
   ]
  },
  {
   "cell_type": "code",
   "execution_count": 12,
   "metadata": {},
   "outputs": [
    {
     "data": {
      "text/plain": [
       "(6787034, 4119)"
      ]
     },
     "execution_count": 12,
     "metadata": {},
     "output_type": "execute_result"
    }
   ],
   "source": [
    "# ~20min to run \n",
    "mt_var_filt.count() # started with 155648020 snps and ended up with 6787034 snps "
   ]
  },
  {
   "cell_type": "code",
   "execution_count": 13,
   "metadata": {},
   "outputs": [
    {
     "name": "stderr",
     "output_type": "stream",
     "text": [
      "2021-07-26 22:52:54 Hail: INFO: ld_prune: running local pruning stage with max queue size of 62138 variants\n",
      "2021-07-26 23:16:39 Hail: INFO: wrote table with 274800 rows in 5000 partitions to /tmp/SzTfV8GDfzsG9mBobMHawS\n",
      "    Total size: 9.59 MiB\n",
      "    * Rows: 9.59 MiB\n",
      "    * Globals: 11.00 B\n",
      "    * Smallest partition: 0 rows (21.00 B)\n",
      "    * Largest partition:  359 rows (11.46 KiB)\n",
      "2021-07-27 00:41:45 Hail: INFO: Wrote all 136 blocks of 274800 x 4119 matrix with block size 4096.\n",
      "2021-07-27 00:46:32 Hail: INFO: wrote table with 43257 rows in 135 partitions to /tmp/3kwmZug0i0cztPhCBfhJwk\n",
      "    Total size: 4.38 MiB\n",
      "    * Rows: 749.66 KiB\n",
      "    * Globals: 3.65 MiB\n",
      "    * Smallest partition: 0 rows (21.00 B)\n",
      "    * Largest partition:  1263 rows (22.23 KiB)\n"
     ]
    }
   ],
   "source": [
    "# LD pruning (~113 min to run) \n",
    "pruned = hl.ld_prune(mt_var_filt.GT, r2=0.1, bp_window_size=500000) "
   ]
  },
  {
   "cell_type": "code",
   "execution_count": 14,
   "metadata": {},
   "outputs": [],
   "source": [
    "# subset data even further   \n",
    "mt_var_pru_filt = mt_var_filt.filter_rows(hl.is_defined(pruned[mt_var_filt.row_key])) "
   ]
  },
  {
   "cell_type": "code",
   "execution_count": 16,
   "metadata": {},
   "outputs": [
    {
     "name": "stderr",
     "output_type": "stream",
     "text": [
      "2021-07-27 01:18:32 Hail: INFO: wrote matrix table with 248634 rows and 4119 columns in 5000 partitions to gs://african-seq-data/hgdp_tgp/filtered_n_pruned_output_updated.mt\n",
      "    Total size: 15.53 GiB\n",
      "    * Rows/entries: 15.53 GiB\n",
      "    * Columns: 1.70 MiB\n",
      "    * Globals: 11.00 B\n",
      "    * Smallest partition: 0 rows (20.00 B)\n",
      "    * Largest partition:  357 rows (23.90 MiB)\n"
     ]
    }
   ],
   "source": [
    "# write out the output as a temp file - make sure to save the file on this step b/c the pruning step takes a while to run\n",
    "# saving took ~23 min \n",
    "mt_var_pru_filt.write('gs://african-seq-data/hgdp_tgp/filtered_n_pruned_output_updated.mt', overwrite=False)"
   ]
  },
  {
   "cell_type": "code",
   "execution_count": 2,
   "metadata": {},
   "outputs": [
    {
     "name": "stderr",
     "output_type": "stream",
     "text": [
      "Initializing Hail with default parameters...\n",
      "Running on Apache Spark version 3.1.1\n",
      "SparkUI available at http://mty-m.c.neurogap-analysis.internal:40349\n",
      "Welcome to\n",
      "     __  __     <>__\n",
      "    / /_/ /__  __/ /\n",
      "   / __  / _ `/ / /\n",
      "  /_/ /_/\\_,_/_/_/   version 0.2.74-0c3a74d12093\n",
      "LOGGING: writing to /home/hail/hail-20210729-1724-0.2.74-0c3a74d12093.log\n"
     ]
    }
   ],
   "source": [
    "# after saving the pruned file to the cloud, reading it back in for the next steps \n",
    "mt_var_pru_filt = hl.read_matrix_table('gs://african-seq-data/hgdp_tgp/filtered_n_pruned_output_updated.mt') "
   ]
  },
  {
   "cell_type": "code",
   "execution_count": 3,
   "metadata": {},
   "outputs": [
    {
     "data": {
      "text/plain": [
       "(248634, 4119)"
      ]
     },
     "execution_count": 3,
     "metadata": {},
     "output_type": "execute_result"
    }
   ],
   "source": [
    "# how many snps are left after filtering and prunning? \n",
    "mt_var_pru_filt.count() # 248,634 snps \n",
    "# between ~100-300k so we proceed without any value adjustments  "
   ]
  },
  {
   "cell_type": "markdown",
   "metadata": {},
   "source": [
    "# *run pc_relate*  "
   ]
  },
  {
   "cell_type": "code",
   "execution_count": 11,
   "metadata": {},
   "outputs": [
    {
     "name": "stderr",
     "output_type": "stream",
     "text": [
      "2021-07-29 20:05:08 Hail: INFO: hwe_normalized_pca: running PCA using 248634 variants.\n",
      "2021-07-29 20:05:18 Hail: INFO: pca: running PCA with 20 components...\n",
      "2021-07-29 20:09:25 Hail: INFO: Wrote all 122 blocks of 248634 x 4119 matrix with block size 4096.\n"
     ]
    }
   ],
   "source": [
    "# compute relatedness estimates between individuals using a variant of the PC-Relate method (https://hail.is/docs/0.2/methods/relatedness.html#hail.methods.pc_relate)\n",
    "# only compute the kinship statistic using:\n",
    "# a minimum minor allele frequency filter of 0.05, \n",
    "# excluding sample-pairs with kinship less than 0.05, and \n",
    "# 20 principal components to control for population structure \n",
    "# a hail table is produced (~4min to run) \n",
    "relatedness_ht = hl.pc_relate(mt_var_pru_filt.GT, min_individual_maf=0.05, min_kinship=0.05, statistics='kin', k=20).key_by()"
   ]
  },
  {
   "cell_type": "code",
   "execution_count": 5,
   "metadata": {},
   "outputs": [
    {
     "name": "stderr",
     "output_type": "stream",
     "text": [
      "2021-07-29 17:30:34 Hail: INFO: wrote matrix with 21 rows and 248634 columns as 61 blocks of size 4096 to /tmp/pcrelate-write-read-OzfLBhWkelepw7GaY2fPwS.bm\n",
      "2021-07-29 17:30:39 Hail: INFO: wrote matrix with 248634 rows and 4119 columns as 122 blocks of size 4096 to /tmp/pcrelate-write-read-MH5U1wCqjkPwn4btHf78GX.bm\n",
      "2021-07-29 18:39:57 Hail: INFO: wrote matrix with 4119 rows and 4119 columns as 4 blocks of size 4096 to /tmp/pcrelate-write-read-17rZmsqlzGxTPJV4RYvzm6.bm\n",
      "2021-07-29 19:49:07 Hail: INFO: wrote matrix with 4119 rows and 4119 columns as 4 blocks of size 4096 to /tmp/pcrelate-write-read-KN9lD8cZysgwjNlZF99mMJ.bm\n",
      "2021-07-29 19:49:09 Hail: INFO: wrote matrix with 4119 rows and 4119 columns as 4 blocks of size 4096 to /tmp/pcrelate-write-read-jwgmibzfuGIFM1XojhxyfY.bm\n",
      "2021-07-29 19:49:09 Hail: INFO: Ordering unsorted dataset with network shuffle\n",
      "2021-07-29 19:49:14 Hail: INFO: wrote table with 1389 rows in 4 partitions to gs://african-seq-data/hgdp_tgp/relatedness.ht\n",
      "    Total size: 23.01 KiB\n",
      "    * Rows: 23.00 KiB\n",
      "    * Globals: 11.00 B\n",
      "    * Smallest partition: 0 rows (21.00 B)\n",
      "    * Largest partition:  849 rows (14.04 KiB)\n"
     ]
    }
   ],
   "source": [
    "# write out result - for Julia (~2hr 19min to run)\n",
    "# includes i – first sample, j – second sample, and kin – kinship estimate\n",
    "relatedness_ht.write('gs://african-seq-data/hgdp_tgp/relatedness.ht')"
   ]
  },
  {
   "cell_type": "code",
   "execution_count": 14,
   "metadata": {},
   "outputs": [],
   "source": [
    "# read back in\n",
    "relatedness_ht = hl.read_table('gs://african-seq-data/hgdp_tgp/relatedness.ht')"
   ]
  },
  {
   "cell_type": "code",
   "execution_count": 7,
   "metadata": {},
   "outputs": [
    {
     "name": "stderr",
     "output_type": "stream",
     "text": [
      "2021-07-29 20:03:45 Hail: INFO: wrote table with 1389 rows in 4 partitions to /tmp/Hj7jfbWKn4ZHoXUOs6merW\n",
      "    Total size: 13.54 KiB\n",
      "    * Rows: 13.53 KiB\n",
      "    * Globals: 11.00 B\n",
      "    * Smallest partition: 0 rows (21.00 B)\n",
      "    * Largest partition:  849 rows (8.15 KiB)\n"
     ]
    }
   ],
   "source": [
    "# identify related individuals in pairs to remove - returns a list of sample IDs (~2hr & 22 min to run) - previous one took ~13min\n",
    "related_samples_to_remove = hl.maximal_independent_set(relatedness_ht.i, relatedness_ht.j, False)"
   ]
  },
  {
   "cell_type": "code",
   "execution_count": 21,
   "metadata": {},
   "outputs": [
    {
     "name": "stderr",
     "output_type": "stream",
     "text": [
      "2021-07-27 04:20:36 Hail: INFO: Ordering unsorted dataset with network shuffle\n",
      "2021-07-27 04:20:37 Hail: INFO: merging 4 files totalling 5.8K...\n",
      "2021-07-27 04:20:37 Hail: INFO: while writing:\n",
      "    gs://african-seq-data/hgdp_tgp/related_sample_ids.txt\n",
      "  merge time: 167.695ms\n"
     ]
    }
   ],
   "source": [
    "# unkey table for exporting purposes - for Julia \n",
    "unkeyed_tbl = related_samples_to_remove.expand_types()\n",
    "\n",
    "# export sample IDs of related individuals  \n",
    "unkeyed_tbl.node.s.export('gs://african-seq-data/hgdp_tgp/related_sample_ids.txt', header=False)\n",
    "\n",
    "# import back to see if format is correct  \n",
    "#tbl = hl.import_table('gs://african-seq-data/hgdp_tgp/related_sample_ids.txt', impute=True, no_header=True)\n",
    "#tbl.show()"
   ]
  },
  {
   "cell_type": "code",
   "execution_count": 22,
   "metadata": {},
   "outputs": [
    {
     "name": "stderr",
     "output_type": "stream",
     "text": [
      "2021-07-27 04:30:06 Hail: WARN: cols(): Resulting column table is sorted by 'col_key'.\n",
      "    To preserve matrix table column order, first unkey columns with 'key_cols_by()'\n"
     ]
    }
   ],
   "source": [
    "# using sample IDs (col_key of the matrixTable), pick out the samples that are not found in 'related_samples_to_remove' (had 'False' values for the comparison)  \n",
    "# subset the mt to those only \n",
    "mt_unrel = mt_var_pru_filt.filter_cols(hl.is_defined(related_samples_to_remove[mt_var_pru_filt.col_key]), keep=False) "
   ]
  },
  {
   "cell_type": "code",
   "execution_count": 23,
   "metadata": {},
   "outputs": [],
   "source": [
    "# do the same as above but this time for the samples with 'True' values (found in 'related_samples_to_remove')  \n",
    "mt_rel = mt_var_pru_filt.filter_cols(hl.is_defined(related_samples_to_remove[mt_var_pru_filt.col_key]), keep=True) "
   ]
  },
  {
   "cell_type": "code",
   "execution_count": 25,
   "metadata": {},
   "outputs": [
    {
     "name": "stderr",
     "output_type": "stream",
     "text": [
      "2021-07-27 04:30:35 Hail: INFO: Coerced sorted dataset\n",
      "2021-07-27 04:30:35 Hail: INFO: Ordering unsorted dataset with network shuffle\n",
      "2021-07-27 04:31:36 Hail: INFO: wrote matrix table with 248634 rows and 3399 columns in 5000 partitions to gs://african-seq-data/hgdp_tgp/unrel_updated.mt\n",
      "    Total size: 13.14 GiB\n",
      "    * Rows/entries: 13.14 GiB\n",
      "    * Columns: 1.41 MiB\n",
      "    * Globals: 11.00 B\n",
      "    * Smallest partition: 0 rows (20.00 B)\n",
      "    * Largest partition:  357 rows (20.17 MiB)\n",
      "2021-07-27 04:31:38 Hail: INFO: Coerced sorted dataset\n",
      "2021-07-27 04:31:40 Hail: INFO: Ordering unsorted dataset with network shuffle\n",
      "2021-07-27 04:32:25 Hail: INFO: wrote matrix table with 248634 rows and 720 columns in 5000 partitions to gs://african-seq-data/hgdp_tgp/rel_updated.mt\n",
      "    Total size: 4.11 GiB\n",
      "    * Rows/entries: 4.11 GiB\n",
      "    * Columns: 301.36 KiB\n",
      "    * Globals: 11.00 B\n",
      "    * Smallest partition: 0 rows (20.00 B)\n",
      "    * Largest partition:  357 rows (6.21 MiB)\n"
     ]
    }
   ],
   "source": [
    "# write out mts of unrelated and related samples on to the cloud \n",
    "\n",
    "# unrelated mt\n",
    "mt_unrel.write('gs://african-seq-data/hgdp_tgp/unrel_updated.mt', overwrite=False) \n",
    "\n",
    "# related mt \n",
    "mt_rel.write('gs://african-seq-data/hgdp_tgp/rel_updated.mt', overwrite=False) "
   ]
  },
  {
   "cell_type": "code",
   "execution_count": 16,
   "metadata": {},
   "outputs": [],
   "source": [
    "# read saved mts back in \n",
    "\n",
    "# unrelated mt\n",
    "mt_unrel = hl.read_matrix_table('gs://african-seq-data/hgdp_tgp/unrel_updated.mt') \n",
    "\n",
    "# related mt \n",
    "mt_rel = hl.read_matrix_table('gs://african-seq-data/hgdp_tgp/rel_updated.mt') "
   ]
  },
  {
   "cell_type": "markdown",
   "metadata": {},
   "source": [
    "# PCA"
   ]
  },
  {
   "cell_type": "markdown",
   "metadata": {},
   "source": [
    "# *run pca* "
   ]
  },
  {
   "cell_type": "code",
   "execution_count": 8,
   "metadata": {},
   "outputs": [],
   "source": [
    "def run_pca(mt: hl.MatrixTable, reg_name:str, out_prefix: str, overwrite: bool = False):\n",
    "    \"\"\"\n",
    "    Runs PCA on a dataset\n",
    "    :param mt: dataset to run PCA on\n",
    "    :param reg_name: region name for saving output purposes\n",
    "    :param out_prefix: path for where to save the outputs\n",
    "    :return:\n",
    "    \"\"\"\n",
    "\n",
    "    pca_evals, pca_scores, pca_loadings = hl.hwe_normalized_pca(mt.GT, k=20, compute_loadings=True)\n",
    "    pca_mt = mt.annotate_rows(pca_af=hl.agg.mean(mt.GT.n_alt_alleles()) / 2)\n",
    "    pca_loadings = pca_loadings.annotate(pca_af=pca_mt.rows()[pca_loadings.key].pca_af)\n",
    "    pca_scores = pca_scores.transmute(**{f'PC{i}': pca_scores.scores[i - 1] for i in range(1, 21)})\n",
    "    \n",
    "    pca_scores.export(out_prefix + reg_name + '_scores.txt.bgz')  # save individual-level genetic region PCs\n",
    "    pca_loadings.write(out_prefix + reg_name + '_loadings.ht', overwrite)  # save PCA loadings"
   ]
  },
  {
   "cell_type": "markdown",
   "metadata": {},
   "source": [
    "# *project related individuals*"
   ]
  },
  {
   "cell_type": "code",
   "execution_count": 9,
   "metadata": {},
   "outputs": [],
   "source": [
    "#if running on GCP, need to add \"--packages gnomad\" when starting a cluster in order for the import to work  \n",
    "from gnomad.sample_qc.ancestry import *\n",
    "\n",
    "def project_individuals(pca_loadings, project_mt, reg_name:str, out_prefix: str, overwrite: bool = False):\n",
    "    \"\"\"\n",
    "    Project samples into predefined PCA space\n",
    "    :param pca_loadings: existing PCA space - unrelated samples \n",
    "    :param project_mt: matrixTable of data to project - related samples \n",
    "    :param reg_name: region name for saving output purposes\n",
    "    :param project_prefix: path for where to save PCA projection outputs\n",
    "    :return:\n",
    "    \"\"\"\n",
    "    ht_projections = pc_project(project_mt, pca_loadings)  \n",
    "    ht_projections = ht_projections.transmute(**{f'PC{i}': ht_projections.scores[i - 1] for i in range(1, 21)}) \n",
    "    ht_projections.export(out_prefix + reg_name + '_projected_scores.txt.bgz') # save output \n",
    "    #return ht_projections # return to user  "
   ]
  },
  {
   "cell_type": "markdown",
   "metadata": {},
   "source": [
    "# *global pca*"
   ]
  },
  {
   "cell_type": "code",
   "execution_count": 8,
   "metadata": {},
   "outputs": [
    {
     "name": "stderr",
     "output_type": "stream",
     "text": [
      "2021-07-27 16:05:30 Hail: INFO: hwe_normalized_pca: running PCA using 248634 variants.\n",
      "2021-07-27 16:05:41 Hail: INFO: pca: running PCA with 20 components...\n",
      "2021-07-27 16:07:59 Hail: INFO: Coerced sorted dataset\n",
      "2021-07-27 16:08:00 Hail: INFO: Ordering unsorted dataset with network shuffle\n",
      "2021-07-27 16:08:03 Hail: INFO: merging 16 files totalling 272.0K...\n",
      "2021-07-27 16:08:03 Hail: INFO: while writing:\n",
      "    gs://african-seq-data/hgdp_tgp/pca_preoutlier/global_scores.txt.bgz\n",
      "  merge time: 279.465ms\n",
      "2021-07-27 16:08:42 Hail: INFO: wrote table with 248634 rows in 4916 partitions to gs://african-seq-data/hgdp_tgp/pca_preoutlier/global_loadings.ht\n",
      "    Total size: 45.23 MiB\n",
      "    * Rows: 45.23 MiB\n",
      "    * Globals: 11.00 B\n",
      "    * Smallest partition: 1 rows (261.00 B)\n",
      "    * Largest partition:  357 rows (65.26 KiB)\n"
     ]
    }
   ],
   "source": [
    "# run 'run_pca' function for global pca   \n",
    "run_pca(mt_unrel, 'global', 'gs://african-seq-data/hgdp_tgp/pca_preoutlier/', False)"
   ]
  },
  {
   "cell_type": "code",
   "execution_count": 9,
   "metadata": {},
   "outputs": [
    {
     "name": "stderr",
     "output_type": "stream",
     "text": [
      "2021-07-27 16:10:42 Hail: WARN: cols(): Resulting column table is sorted by 'col_key'.\n",
      "    To preserve matrix table column order, first unkey columns with 'key_cols_by()'\n",
      "2021-07-27 16:11:02 Hail: INFO: Coerced sorted dataset\n",
      "2021-07-27 16:11:04 Hail: INFO: merging 16 files totalling 60.7K...\n",
      "2021-07-27 16:11:04 Hail: INFO: while writing:\n",
      "    gs://african-seq-data/hgdp_tgp/pca_preoutlier/global_projected_scores.txt.bgz\n",
      "  merge time: 211.694ms\n"
     ]
    }
   ],
   "source": [
    "# run 'project_relateds' function for global pca \n",
    "loadings = hl.read_table('gs://african-seq-data/hgdp_tgp/pca_preoutlier/global_loadings.ht') # read in the PCA loadings that were obtained from 'run_pca' function \n",
    "project_individuals(loadings, mt_rel, 'global', 'gs://african-seq-data/hgdp_tgp/pca_preoutlier/', False) "
   ]
  },
  {
   "cell_type": "markdown",
   "metadata": {},
   "source": [
    "# *subcontinental pca* "
   ]
  },
  {
   "cell_type": "code",
   "execution_count": null,
   "metadata": {},
   "outputs": [],
   "source": [
    "# obtain a list of the genetic regions in the dataset - used the unrelated dataset since it had more samples \n",
    "regions = mt_unrel['hgdp_tgp_meta']['Genetic']['region'].collect()\n",
    "regions = list(dict.fromkeys(regions)) # 7 regions - ['EUR', 'AFR', 'AMR', 'EAS', 'CSA', 'OCE', 'MID']"
   ]
  },
  {
   "cell_type": "code",
   "execution_count": 11,
   "metadata": {},
   "outputs": [],
   "source": [
    "# set argument values \n",
    "subcont_pca_prefix = 'gs://african-seq-data/hgdp_tgp/pca_preoutlier/subcont_pca/subcont_pca_' # path for outputs \n",
    "overwrite = False "
   ]
  },
  {
   "cell_type": "code",
   "execution_count": null,
   "metadata": {
    "scrolled": true
   },
   "outputs": [
    {
     "name": "stderr",
     "output_type": "stream",
     "text": [
      "2021-07-27 16:30:27 Hail: INFO: hwe_normalized_pca: running PCA using 245567 variants.\n",
      "2021-07-27 16:30:44 Hail: INFO: pca: running PCA with 20 components...\n",
      "2021-07-27 16:34:59 Hail: INFO: Coerced sorted dataset\n",
      "2021-07-27 16:35:00 Hail: INFO: Ordering unsorted dataset with network shuffle\n",
      "2021-07-27 16:35:01 Hail: INFO: merging 16 files totalling 55.6K...\n",
      "2021-07-27 16:35:01 Hail: INFO: while writing:\n",
      "    gs://african-seq-data/hgdp_tgp/pca_preoutlier/subcont_pca/subcont_pca_EUR_scores.txt.bgz\n",
      "  merge time: 202.187ms\n",
      "2021-07-27 16:35:40 Hail: INFO: wrote table with 245567 rows in 4916 partitions to gs://african-seq-data/hgdp_tgp/pca_preoutlier/subcont_pca/subcont_pca_EUR_loadings.ht\n",
      "    Total size: 44.42 MiB\n",
      "    * Rows: 44.42 MiB\n",
      "    * Globals: 11.00 B\n",
      "    * Smallest partition: 1 rows (261.00 B)\n",
      "    * Largest partition:  354 rows (64.04 KiB)\n",
      "2021-07-27 16:35:48 Hail: INFO: hwe_normalized_pca: running PCA using 247516 variants.\n",
      "2021-07-27 16:35:56 Hail: INFO: pca: running PCA with 20 components...\n",
      "2021-07-27 16:38:42 Hail: INFO: Coerced sorted dataset\n",
      "2021-07-27 16:38:43 Hail: INFO: Ordering unsorted dataset with network shuffle\n",
      "2021-07-27 16:38:45 Hail: INFO: merging 16 files totalling 63.4K...\n",
      "2021-07-27 16:38:45 Hail: INFO: while writing:\n",
      "    gs://african-seq-data/hgdp_tgp/pca_preoutlier/subcont_pca/subcont_pca_AFR_scores.txt.bgz\n",
      "  merge time: 212.289ms\n",
      "2021-07-27 16:39:23 Hail: INFO: wrote table with 247516 rows in 4916 partitions to gs://african-seq-data/hgdp_tgp/pca_preoutlier/subcont_pca/subcont_pca_AFR_loadings.ht\n",
      "    Total size: 44.71 MiB\n",
      "    * Rows: 44.71 MiB\n",
      "    * Globals: 11.00 B\n",
      "    * Smallest partition: 1 rows (261.00 B)\n",
      "    * Largest partition:  355 rows (64.15 KiB)\n",
      "2021-07-27 16:39:31 Hail: INFO: hwe_normalized_pca: running PCA using 248528 variants.\n",
      "2021-07-27 16:39:39 Hail: INFO: pca: running PCA with 20 components...\n",
      "2021-07-27 16:44:25 Hail: INFO: Coerced sorted dataset\n",
      "2021-07-27 16:44:25 Hail: INFO: Ordering unsorted dataset with network shuffle\n",
      "2021-07-27 16:44:26 Hail: INFO: merging 16 files totalling 34.1K...\n",
      "2021-07-27 16:44:27 Hail: INFO: while writing:\n",
      "    gs://african-seq-data/hgdp_tgp/pca_preoutlier/subcont_pca/subcont_pca_AMR_scores.txt.bgz\n",
      "  merge time: 187.341ms\n",
      "2021-07-27 16:45:02 Hail: INFO: wrote table with 248528 rows in 4916 partitions to gs://african-seq-data/hgdp_tgp/pca_preoutlier/subcont_pca/subcont_pca_AMR_loadings.ht\n",
      "    Total size: 44.95 MiB\n",
      "    * Rows: 44.95 MiB\n",
      "    * Globals: 11.00 B\n",
      "    * Smallest partition: 1 rows (261.00 B)\n",
      "    * Largest partition:  357 rows (64.56 KiB)\n",
      "2021-07-27 16:45:10 Hail: INFO: hwe_normalized_pca: running PCA using 238681 variants.\n",
      "2021-07-27 16:45:23 Hail: INFO: pca: running PCA with 20 components...\n",
      "2021-07-27 16:47:40 Hail: INFO: Coerced sorted dataset\n",
      "2021-07-27 16:47:41 Hail: INFO: Ordering unsorted dataset with network shuffle\n"
     ]
    }
   ],
   "source": [
    "# run 'run_pca' function for each region - nb freezes after printing the log for AMR  \n",
    "# don't restart it - just let it run and you can follow the progress through the SparkUI\n",
    "# even after all the outputs are produced and the run is complete, the code chunk will seem as if it's still running (* in the left square bracket)\n",
    "# can check if the run is complete by either checking the output files in the Google cloud bucket or using the SparkUI \n",
    "# after checking the desired outputs are generated and the run is done, exit the current nb, open a new session, and proceed to the next step\n",
    "# ~27min to run \n",
    "for i in regions:\n",
    "    subcont_unrel = mt_unrel.filter_cols(mt_unrel['hgdp_tgp_meta']['Genetic']['region'] == i)  # filter the unrelateds per region\n",
    "    run_pca(subcont_unrel, i, subcont_pca_prefix, overwrite)"
   ]
  },
  {
   "cell_type": "code",
   "execution_count": 13,
   "metadata": {},
   "outputs": [
    {
     "name": "stderr",
     "output_type": "stream",
     "text": [
      "2021-07-27 17:14:52 Hail: INFO: Coerced sorted dataset\n",
      "2021-07-27 17:14:52 Hail: INFO: merging 16 files totalling 10.3K...\n",
      "2021-07-27 17:14:52 Hail: INFO: while writing:\n",
      "    gs://african-seq-data/hgdp_tgp/pca_preoutlier/subcont_pca/subcont_pca_EUR_projected_scores.txt.bgz\n",
      "  merge time: 246.192ms\n",
      "2021-07-27 17:15:07 Hail: INFO: Coerced sorted dataset\n",
      "2021-07-27 17:15:08 Hail: INFO: merging 16 files totalling 20.7K...\n",
      "2021-07-27 17:15:08 Hail: INFO: while writing:\n",
      "    gs://african-seq-data/hgdp_tgp/pca_preoutlier/subcont_pca/subcont_pca_AFR_projected_scores.txt.bgz\n",
      "  merge time: 242.575ms\n",
      "2021-07-27 17:15:24 Hail: INFO: Coerced sorted dataset\n",
      "2021-07-27 17:15:25 Hail: INFO: merging 16 files totalling 14.2K...\n",
      "2021-07-27 17:15:25 Hail: INFO: while writing:\n",
      "    gs://african-seq-data/hgdp_tgp/pca_preoutlier/subcont_pca/subcont_pca_AMR_projected_scores.txt.bgz\n",
      "  merge time: 243.723ms\n",
      "2021-07-27 17:15:39 Hail: INFO: Coerced sorted dataset\n",
      "2021-07-27 17:15:40 Hail: INFO: merging 16 files totalling 9.1K...\n",
      "2021-07-27 17:15:40 Hail: INFO: while writing:\n",
      "    gs://african-seq-data/hgdp_tgp/pca_preoutlier/subcont_pca/subcont_pca_EAS_projected_scores.txt.bgz\n",
      "  merge time: 186.221ms\n",
      "2021-07-27 17:16:02 Hail: INFO: Coerced sorted dataset\n",
      "2021-07-27 17:16:02 Hail: INFO: merging 16 files totalling 10.6K...\n",
      "2021-07-27 17:16:03 Hail: INFO: while writing:\n",
      "    gs://african-seq-data/hgdp_tgp/pca_preoutlier/subcont_pca/subcont_pca_CSA_projected_scores.txt.bgz\n",
      "  merge time: 284.668ms\n",
      "2021-07-27 17:16:15 Hail: INFO: Coerced sorted dataset\n",
      "2021-07-27 17:16:15 Hail: INFO: merging 2 files totalling 394...\n",
      "2021-07-27 17:16:16 Hail: INFO: while writing:\n",
      "    gs://african-seq-data/hgdp_tgp/pca_preoutlier/subcont_pca/subcont_pca_OCE_projected_scores.txt.bgz\n",
      "  merge time: 178.652ms\n",
      "2021-07-27 17:16:28 Hail: INFO: Coerced sorted dataset\n",
      "2021-07-27 17:16:28 Hail: INFO: merging 16 files totalling 3.0K...\n",
      "2021-07-27 17:16:29 Hail: INFO: while writing:\n",
      "    gs://african-seq-data/hgdp_tgp/pca_preoutlier/subcont_pca/subcont_pca_MID_projected_scores.txt.bgz\n",
      "  merge time: 215.513ms\n"
     ]
    }
   ],
   "source": [
    "# run 'project_relateds' function for each region (~2min to run)\n",
    "for i in regions:\n",
    "    loadings = hl.read_table(subcont_pca_prefix + i + '_loadings.ht') # for each region, read in the PCA loadings that were obtained from 'run_pca' function \n",
    "    subcont_rel = mt_rel.filter_cols(mt_rel['hgdp_tgp_meta']['Genetic']['region'] == i)  # filter the relateds per region \n",
    "    project_individuals(loadings, subcont_rel, i, subcont_pca_prefix, overwrite) "
   ]
  },
  {
   "cell_type": "markdown",
   "metadata": {},
   "source": [
    "# *outlier removal* \n",
    "#### After plotting the PCs, 22 outliers that need to be removed were identified (the table below will be completed for the final report)\n",
    "\n",
    "\n",
    "| s | Genetic region | Population | Note |\n",
    "| --- | --- | --- | -- |\n",
    "| NA20314 | AFR | ASW | Clusters with AMR in global PCA | \n",
    "| NA20299 | - | - | - |\n",
    "| NA20274 | - | - | - |\n",
    "| HG01880 | - | - | - |\n",
    "| HG01881 | - | - | - |\n",
    "| HG01628 | - | - | - |\n",
    "| HG01629 | - | - | - |\n",
    "| HG01630 | - | - | - |\n",
    "| HG01694 | - | - | - |\n",
    "| HG01696 | - | - | - |\n",
    "| HGDP00013 | - | - | - |\n",
    "| HGDP00150 | - | - | - |\n",
    "| HGDP00029 | - | - | - |\n",
    "| HGDP01298 | - | - | - |\n",
    "| HGDP00130 | CSA | Makrani | Closer to AFR than most CSA |\n",
    "| HGDP01303 | - | - | - |\n",
    "| HGDP01300 | - | - | - |\n",
    "| HGDP00621 | MID | Bedouin | Closer to AFR than most MID |\n",
    "| HGDP01270 | MID | Mozabite | Closer to AFR than most MID |\n",
    "| HGDP01271 | MID | Mozabite | Closer to AFR than most MID |\n",
    "| HGDP00057 | - | - | - | \n",
    "| LP6005443-DNA_B02 | - | - | - |\n",
    "\n",
    "\n",
    "\n",
    "\n",
    "\n",
    "\n",
    "\n",
    "\n",
    "\n",
    "\n",
    "\n",
    "\n",
    "\n",
    "\n",
    "\n",
    "\n",
    "\n",
    "\n",
    "\t\n"
   ]
  },
  {
   "cell_type": "code",
   "execution_count": 2,
   "metadata": {},
   "outputs": [
    {
     "name": "stderr",
     "output_type": "stream",
     "text": [
      "Initializing Hail with default parameters...\n",
      "Running on Apache Spark version 3.1.1\n",
      "SparkUI available at http://mty-m.c.neurogap-analysis.internal:35449\n",
      "Welcome to\n",
      "     __  __     <>__\n",
      "    / /_/ /__  __/ /\n",
      "   / __  / _ `/ / /\n",
      "  /_/ /_/\\_,_/_/_/   version 0.2.74-0c3a74d12093\n",
      "LOGGING: writing to /home/hail/hail-20210803-1848-0.2.74-0c3a74d12093.log\n"
     ]
    }
   ],
   "source": [
    "# read back in the unrelated and related mts to remove outliers and run pca \n",
    "mt_unrel_unfiltered = hl.read_matrix_table('gs://african-seq-data/hgdp_tgp/unrel_updated.mt') # unrelated mt\n",
    "mt_rel_unfiltered = hl.read_matrix_table('gs://african-seq-data/hgdp_tgp/rel_updated.mt') # related mt  "
   ]
  },
  {
   "cell_type": "code",
   "execution_count": 3,
   "metadata": {},
   "outputs": [],
   "source": [
    "# read the outliers file into a list\n",
    "with hl.utils.hadoop_open('gs://african-seq-data/hgdp_tgp/pca_outliers_v2.txt') as file: \n",
    "    outliers = [line.rstrip('\\n') for line in file]\n",
    "    \n",
    "# capture and broadcast the list as an expression\n",
    "outliers_list = hl.literal(outliers)"
   ]
  },
  {
   "cell_type": "code",
   "execution_count": 4,
   "metadata": {},
   "outputs": [],
   "source": [
    "# remove 22 outliers \n",
    "mt_unrel = mt_unrel_unfiltered.filter_cols(~outliers_list.contains(mt_unrel_unfiltered['s']))\n",
    "mt_rel = mt_rel_unfiltered.filter_cols(~outliers_list.contains(mt_rel_unfiltered['s']))"
   ]
  },
  {
   "cell_type": "code",
   "execution_count": 5,
   "metadata": {},
   "outputs": [
    {
     "name": "stdout",
     "output_type": "stream",
     "text": [
      "Unrelated: Before filtering 3399 | After filtering 3380\n",
      "Related: Before filtering: 720 | After filtering 717\n",
      "Total samples removed = 22\n"
     ]
    }
   ],
   "source": [
    "# sanity check \n",
    "print('Unrelated: Before filtering ' + str(mt_unrel_unfiltered.count()[1]) + ' | After filtering ' + str(mt_unrel.count()[1]))\n",
    "print('Related: Before filtering: ' + str(mt_rel_unfiltered.count()[1]) + ' | After filtering ' + str(mt_rel.count()[1]))\n",
    "\n",
    "num_outliers = (mt_unrel_unfiltered.count()[1] - mt_unrel.count()[1]) + (mt_rel_unfiltered.count()[1] - mt_rel.count()[1])\n",
    "print('Total samples removed = ' + str(num_outliers))"
   ]
  },
  {
   "cell_type": "markdown",
   "metadata": {},
   "source": [
    "# rerun PCA\n",
    "### - The following steps are similar to the ones prior to removing the outliers except now we are using the updated unrelated & related dataset and a new GCS bucket path to save the outputs "
   ]
  },
  {
   "cell_type": "markdown",
   "metadata": {},
   "source": [
    "# *global pca*"
   ]
  },
  {
   "cell_type": "code",
   "execution_count": 10,
   "metadata": {},
   "outputs": [
    {
     "name": "stderr",
     "output_type": "stream",
     "text": [
      "2021-08-03 17:45:09 Hail: INFO: hwe_normalized_pca: running PCA using 248634 variants.\n",
      "2021-08-03 17:45:22 Hail: INFO: pca: running PCA with 20 components...\n",
      "2021-08-03 17:47:33 Hail: INFO: Coerced sorted dataset\n",
      "2021-08-03 17:47:34 Hail: INFO: Ordering unsorted dataset with network shuffle\n",
      "2021-08-03 17:47:37 Hail: INFO: merging 16 files totalling 270.3K...\n",
      "2021-08-03 17:47:37 Hail: INFO: while writing:\n",
      "    gs://african-seq-data/hgdp_tgp/pca_postoutlier/global_scores.txt.bgz\n",
      "  merge time: 621.536ms\n",
      "2021-08-03 17:48:11 Hail: INFO: wrote table with 248634 rows in 4916 partitions to gs://african-seq-data/hgdp_tgp/pca_postoutlier/global_loadings.ht\n",
      "    Total size: 45.21 MiB\n",
      "    * Rows: 45.21 MiB\n",
      "    * Globals: 11.00 B\n",
      "    * Smallest partition: 1 rows (261.00 B)\n",
      "    * Largest partition:  357 rows (65.13 KiB)\n"
     ]
    }
   ],
   "source": [
    "# run 'run_pca' function for global pca - make sure the code block for the function (located above) is run prior to running this    \n",
    "run_pca(mt_unrel, 'global', 'gs://african-seq-data/hgdp_tgp/pca_postoutlier/', False)"
   ]
  },
  {
   "cell_type": "code",
   "execution_count": 11,
   "metadata": {},
   "outputs": [
    {
     "name": "stderr",
     "output_type": "stream",
     "text": [
      "2021-08-03 17:50:20 Hail: WARN: cols(): Resulting column table is sorted by 'col_key'.\n",
      "    To preserve matrix table column order, first unkey columns with 'key_cols_by()'\n",
      "2021-08-03 17:51:23 Hail: INFO: Coerced sorted dataset\n",
      "2021-08-03 17:51:25 Hail: INFO: merging 16 files totalling 60.3K...\n",
      "2021-08-03 17:51:25 Hail: INFO: while writing:\n",
      "    gs://african-seq-data/hgdp_tgp/pca_postoutlier/global_projected_scores.txt.bgz\n",
      "  merge time: 205.077ms\n"
     ]
    }
   ],
   "source": [
    "# run 'project_relateds' function for global pca - make sure the code block for the function (located above) is run prior to running this    \n",
    "loadings = hl.read_table('gs://african-seq-data/hgdp_tgp/pca_postoutlier/global_loadings.ht') # read in the PCA loadings that were obtained from 'run_pca' function \n",
    "project_individuals(loadings, mt_rel, 'global', 'gs://african-seq-data/hgdp_tgp/pca_postoutlier/', False) "
   ]
  },
  {
   "cell_type": "markdown",
   "metadata": {},
   "source": [
    "# *subcontinental pca* "
   ]
  },
  {
   "cell_type": "code",
   "execution_count": 6,
   "metadata": {},
   "outputs": [],
   "source": [
    "# obtain a list of the genetic regions in the dataset - used the unrelated dataset since it had more samples  \n",
    "regions = mt_unrel['hgdp_tgp_meta']['Genetic']['region'].collect()\n",
    "regions = list(dict.fromkeys(regions)) # 7 regions - ['EUR', 'AFR', 'AMR', 'EAS', 'CSA', 'OCE', 'MID']"
   ]
  },
  {
   "cell_type": "code",
   "execution_count": 7,
   "metadata": {},
   "outputs": [],
   "source": [
    "# set argument values \n",
    "subcont_pca_prefix = 'gs://african-seq-data/hgdp_tgp/pca_postoutlier/subcont_pca/subcont_pca_' # path for outputs \n",
    "overwrite = False "
   ]
  },
  {
   "cell_type": "code",
   "execution_count": null,
   "metadata": {},
   "outputs": [],
   "source": [
    "# run 'run_pca' function (located above) for each region \n",
    "# notebook became slow and got stuck - don't restart it, just let it run and you can follow the progress through the SparkUI\n",
    "# after checking the desired outputs are generated (GCS bucket) and the run is done (SparkUI), exit the current nb, open a new session, and proceed to the next step\n",
    "# took roughly 25-27 min  \n",
    "for i in regions:\n",
    "    subcont_unrel = mt_unrel.filter_cols(mt_unrel['hgdp_tgp_meta']['Genetic']['region'] == i)  # filter the unrelateds per region\n",
    "    run_pca(subcont_unrel, i, subcont_pca_prefix, overwrite)"
   ]
  },
  {
   "cell_type": "code",
   "execution_count": 10,
   "metadata": {},
   "outputs": [
    {
     "name": "stderr",
     "output_type": "stream",
     "text": [
      "2021-08-03 18:49:41 Hail: WARN: cols(): Resulting column table is sorted by 'col_key'.\n",
      "    To preserve matrix table column order, first unkey columns with 'key_cols_by()'\n",
      "2021-08-03 18:50:38 Hail: INFO: Coerced sorted dataset\n",
      "2021-08-03 18:50:39 Hail: INFO: merging 16 files totalling 10.2K...\n",
      "2021-08-03 18:50:40 Hail: INFO: while writing:\n",
      "    gs://african-seq-data/hgdp_tgp/pca_postoutlier/subcont_pca/subcont_pca_EUR_projected_scores.txt.bgz\n",
      "  merge time: 439.201ms\n",
      "2021-08-03 18:51:13 Hail: INFO: Coerced sorted dataset\n",
      "2021-08-03 18:51:14 Hail: INFO: merging 16 files totalling 20.8K...\n",
      "2021-08-03 18:51:14 Hail: INFO: while writing:\n",
      "    gs://african-seq-data/hgdp_tgp/pca_postoutlier/subcont_pca/subcont_pca_AFR_projected_scores.txt.bgz\n",
      "  merge time: 205.399ms\n",
      "2021-08-03 18:51:45 Hail: INFO: Coerced sorted dataset\n",
      "2021-08-03 18:51:46 Hail: INFO: merging 16 files totalling 14.2K...\n",
      "2021-08-03 18:51:46 Hail: INFO: while writing:\n",
      "    gs://african-seq-data/hgdp_tgp/pca_postoutlier/subcont_pca/subcont_pca_AMR_projected_scores.txt.bgz\n",
      "  merge time: 209.273ms\n",
      "2021-08-03 18:52:15 Hail: INFO: Coerced sorted dataset\n",
      "2021-08-03 18:52:16 Hail: INFO: merging 16 files totalling 9.1K...\n",
      "2021-08-03 18:52:16 Hail: INFO: while writing:\n",
      "    gs://african-seq-data/hgdp_tgp/pca_postoutlier/subcont_pca/subcont_pca_EAS_projected_scores.txt.bgz\n",
      "  merge time: 182.984ms\n",
      "2021-08-03 18:52:44 Hail: INFO: Coerced sorted dataset\n",
      "2021-08-03 18:52:45 Hail: INFO: merging 16 files totalling 10.8K...\n",
      "2021-08-03 18:52:45 Hail: INFO: while writing:\n",
      "    gs://african-seq-data/hgdp_tgp/pca_postoutlier/subcont_pca/subcont_pca_CSA_projected_scores.txt.bgz\n",
      "  merge time: 208.388ms\n",
      "2021-08-03 18:53:12 Hail: INFO: Coerced sorted dataset\n",
      "2021-08-03 18:53:12 Hail: INFO: merging 2 files totalling 394...\n",
      "2021-08-03 18:53:12 Hail: INFO: while writing:\n",
      "    gs://african-seq-data/hgdp_tgp/pca_postoutlier/subcont_pca/subcont_pca_OCE_projected_scores.txt.bgz\n",
      "  merge time: 170.903ms\n",
      "2021-08-03 18:53:39 Hail: INFO: Coerced sorted dataset\n",
      "2021-08-03 18:53:40 Hail: INFO: merging 16 files totalling 3.0K...\n",
      "2021-08-03 18:53:40 Hail: INFO: while writing:\n",
      "    gs://african-seq-data/hgdp_tgp/pca_postoutlier/subcont_pca/subcont_pca_MID_projected_scores.txt.bgz\n",
      "  merge time: 207.426ms\n"
     ]
    }
   ],
   "source": [
    "# run 'project_relateds' function (located above) for each region - took ~3min \n",
    "for i in regions:\n",
    "    loadings = hl.read_table(subcont_pca_prefix + i + '_loadings.ht') # for each region, read in the PCA loadings that were obtained from 'run_pca' function \n",
    "    subcont_rel = mt_rel.filter_cols(mt_rel['hgdp_tgp_meta']['Genetic']['region'] == i)  # filter the relateds per region \n",
    "    project_individuals(loadings, subcont_rel, i, subcont_pca_prefix, overwrite) "
   ]
  },
  {
   "cell_type": "markdown",
   "metadata": {},
   "source": [
    "# FST\n",
    "### For FST, we are using the data we had prior to running pc_relate (*filtered_n_pruned_output_updated.mt*)"
   ]
  },
  {
   "cell_type": "code",
   "execution_count": 124,
   "metadata": {},
   "outputs": [
    {
     "name": "stdout",
     "output_type": "stream",
     "text": [
      "Before filtering: 4119\n"
     ]
    }
   ],
   "source": [
    "# read filtered and pruned mt (prior to pc_relate) back in for FST analysis   \n",
    "mt_var_pru_filt = hl.read_matrix_table('gs://african-seq-data/hgdp_tgp/filtered_n_pruned_output_updated.mt') \n",
    "\n",
    "# num of samples before outlier removal \n",
    "print('Before filtering: ' + str(mt_var_pru_filt.count()[1])) "
   ]
  },
  {
   "cell_type": "code",
   "execution_count": 125,
   "metadata": {},
   "outputs": [],
   "source": [
    "# read the outliers file into a list\n",
    "with hl.utils.hadoop_open('gs://african-seq-data/hgdp_tgp/pca_outliers_v2.txt') as file: \n",
    "    outliers = [line.rstrip('\\n') for line in file]\n",
    "    \n",
    "# capture and broadcast the list as an expression\n",
    "outliers_list = hl.literal(outliers)"
   ]
  },
  {
   "cell_type": "code",
   "execution_count": 126,
   "metadata": {},
   "outputs": [],
   "source": [
    "# remove 22 outliers \n",
    "mt_var_pru_filt = mt_var_pru_filt.filter_cols(~outliers_list.contains(mt_var_pru_filt['s']))"
   ]
  },
  {
   "cell_type": "code",
   "execution_count": 127,
   "metadata": {},
   "outputs": [
    {
     "name": "stdout",
     "output_type": "stream",
     "text": [
      "After filtering: 4097\n"
     ]
    }
   ],
   "source": [
    "# sanity check \n",
    "print('After filtering: ' + str(mt_var_pru_filt.count()[1]))"
   ]
  },
  {
   "cell_type": "markdown",
   "metadata": {},
   "source": [
    "## *pair-wise comparison*"
   ]
  },
  {
   "cell_type": "markdown",
   "metadata": {},
   "source": [
    "Formula to calculate number of pair-wise comparisons = (k * (k-1))/2\n",
    "\n",
    "So in our case, since we have 78 populations, we would expect = (78 * (78-1))/2 = 6006/2 = 3003 pair-wise comparisons"
   ]
  },
  {
   "cell_type": "code",
   "execution_count": 128,
   "metadata": {},
   "outputs": [
    {
     "data": {
      "text/plain": [
       "78"
      ]
     },
     "execution_count": 128,
     "metadata": {},
     "output_type": "execute_result"
    }
   ],
   "source": [
    "pop = mt_var_pru_filt['hgdp_tgp_meta']['Population'].collect()\n",
    "pop = list(dict.fromkeys(pop)) \n",
    "len(pop) # 78 populations in total "
   ]
  },
  {
   "cell_type": "code",
   "execution_count": 129,
   "metadata": {},
   "outputs": [
    {
     "data": {
      "text/plain": [
       "[['a', 'b'], ['a', 'c'], ['b', 'c']]"
      ]
     },
     "execution_count": 129,
     "metadata": {},
     "output_type": "execute_result"
    }
   ],
   "source": [
    "# example \n",
    "ex = ['a','b','c']\n",
    "# pair-wise comparison \n",
    "ex_pair_com = [[x,y] for i, x in enumerate(ex) for j,y in enumerate(ex) if i<j]\n",
    "ex_pair_com"
   ]
  },
  {
   "cell_type": "code",
   "execution_count": 130,
   "metadata": {},
   "outputs": [],
   "source": [
    "# pair-wise comparison - creating list of lists \n",
    "# enumerate gives index values for each population in the 'pop' list (ex. 0 CEU, 1 YRI, 2 LWK ...) and then by \n",
    "# comparing those index values, we create a pair-wise comparison between the populations \n",
    "# i < j so that it only does a single comparison among two different populations \n",
    "# ex. for a comparison between populations CEU and YRI, it only keeps CEU-YRI and discards YRI-CEU, CEU-CEU and YRI-YRI\n",
    "pair_com = [[x,y] for i, x in enumerate(pop) for j,y in enumerate(pop) if i<j]"
   ]
  },
  {
   "cell_type": "code",
   "execution_count": 131,
   "metadata": {},
   "outputs": [
    {
     "data": {
      "text/plain": [
       "[['CEU', 'YRI'],\n",
       " ['CEU', 'LWK'],\n",
       " ['CEU', 'ESN'],\n",
       " ['CEU', 'TSI'],\n",
       " ['CEU', 'CLM']]"
      ]
     },
     "execution_count": 131,
     "metadata": {},
     "output_type": "execute_result"
    }
   ],
   "source": [
    "# first 5 elements in the list  \n",
    "pair_com[0:5]"
   ]
  },
  {
   "cell_type": "code",
   "execution_count": 132,
   "metadata": {},
   "outputs": [
    {
     "data": {
      "text/plain": [
       "3003"
      ]
     },
     "execution_count": 132,
     "metadata": {},
     "output_type": "execute_result"
    }
   ],
   "source": [
    "# sanity check \n",
    "len(pair_com)"
   ]
  },
  {
   "cell_type": "markdown",
   "metadata": {},
   "source": [
    "## *subset mt into popns according to the pair-wise comparisons and run common variant statistics*"
   ]
  },
  {
   "cell_type": "code",
   "execution_count": 133,
   "metadata": {},
   "outputs": [
    {
     "data": {
      "text/plain": [
       "['CEU', 'YRI']"
      ]
     },
     "execution_count": 133,
     "metadata": {},
     "output_type": "execute_result"
    }
   ],
   "source": [
    "pair_com[0]"
   ]
  },
  {
   "cell_type": "code",
   "execution_count": 134,
   "metadata": {},
   "outputs": [],
   "source": [
    "## example - pair_com[0] = ['CEU', 'YRI'] and pair_com[0][0] = 'CEU'\n",
    "CEU_mt = mt_var_pru_filt.filter_cols(mt_var_pru_filt['hgdp_tgp_meta']['Population'] == pair_com[0][0])\n",
    "YRI_mt = mt_var_pru_filt.filter_cols(mt_var_pru_filt['hgdp_tgp_meta']['Population'] == pair_com[0][1])\n",
    "CEU_YRI_mt = mt_var_pru_filt.filter_cols((mt_var_pru_filt['hgdp_tgp_meta']['Population'] == pair_com[0][0]) | (mt_var_pru_filt['hgdp_tgp_meta']['Population'] == pair_com[0][1]))"
   ]
  },
  {
   "cell_type": "code",
   "execution_count": 135,
   "metadata": {},
   "outputs": [
    {
     "data": {
      "text/plain": [
       "True"
      ]
     },
     "execution_count": 135,
     "metadata": {},
     "output_type": "execute_result"
    }
   ],
   "source": [
    "# sanity check \n",
    "CEU_mt.count()[1] + YRI_mt.count()[1] == CEU_YRI_mt.count()[1] # 175 + 170 = 345"
   ]
  },
  {
   "cell_type": "code",
   "execution_count": 136,
   "metadata": {},
   "outputs": [],
   "source": [
    "# run common variant statistics for each population and their combined mt \n",
    "CEU_var = hl.variant_qc(CEU_mt) # individual \n",
    "YRI_var = hl.variant_qc(YRI_mt) # individual\n",
    "CEU_YRI_var = hl.variant_qc(CEU_YRI_mt) # total "
   ]
  },
  {
   "cell_type": "markdown",
   "metadata": {},
   "source": [
    "### *Set up mt table for FST calculation - the next code is run for each population and their combos*"
   ]
  },
  {
   "cell_type": "markdown",
   "metadata": {},
   "source": [
    "##### *population 1*"
   ]
  },
  {
   "cell_type": "code",
   "execution_count": 137,
   "metadata": {},
   "outputs": [
    {
     "name": "stdout",
     "output_type": "stream",
     "text": [
      "----------------------------------------\n",
      "Global fields:\n",
      "    None\n",
      "----------------------------------------\n",
      "Column fields:\n",
      "    's': str\n",
      "----------------------------------------\n",
      "Row fields:\n",
      "    'locus': locus<GRCh38>\n",
      "    'alleles': array<str>\n",
      "    'AF': array<float64>\n",
      "    'AN': int32\n",
      "----------------------------------------\n",
      "Entry fields:\n",
      "    None\n",
      "----------------------------------------\n",
      "Column key: ['s']\n",
      "Row key: ['locus', 'alleles']\n",
      "----------------------------------------\n"
     ]
    }
   ],
   "source": [
    "# drop certain fields first to make mt smaller \n",
    "\n",
    "# drop all entry fields\n",
    "# everything except for 's' (key) from the column fields\n",
    "# everything from the row fields except for the keys -'locus' and 'alleles' and row field 'variant_qc'  \n",
    "CEU_interm = CEU_var.drop(*list(CEU_var.entry), *list(CEU_var.col)[1:], *list(CEU_var.row)[2:-1])\n",
    "\n",
    "# only select the row field keys (locus and allele) and row fields 'AF' & 'AN' which are under 'variant_qc'\n",
    "CEU_interm2 = CEU_interm.select_rows(CEU_interm['variant_qc']['AF'], CEU_interm['variant_qc']['AN'])  \n",
    "\n",
    "# quick look at the condensed mt \n",
    "CEU_interm2.describe()"
   ]
  },
  {
   "cell_type": "code",
   "execution_count": 138,
   "metadata": {},
   "outputs": [
    {
     "data": {
      "text/html": [
       "<table><thead><tr><td style=\"white-space: nowrap; max-width: 500px; overflow: hidden; text-overflow: ellipsis; \" colspan=\"1\"><div style=\"text-align: left;\"></div></td><td style=\"white-space: nowrap; max-width: 500px; overflow: hidden; text-overflow: ellipsis; \" colspan=\"1\"><div style=\"text-align: left;\"></div></td><td style=\"white-space: nowrap; max-width: 500px; overflow: hidden; text-overflow: ellipsis; \" colspan=\"1\"><div style=\"text-align: left;\"></div></td><td style=\"white-space: nowrap; max-width: 500px; overflow: hidden; text-overflow: ellipsis; \" colspan=\"1\"><div style=\"text-align: left;\"></div></td></tr><tr><td style=\"white-space: nowrap; max-width: 500px; overflow: hidden; text-overflow: ellipsis; \" colspan=\"1\"><div style=\"text-align: left;border-bottom: solid 2px #000; padding-bottom: 5px\">locus</div></td><td style=\"white-space: nowrap; max-width: 500px; overflow: hidden; text-overflow: ellipsis; \" colspan=\"1\"><div style=\"text-align: left;border-bottom: solid 2px #000; padding-bottom: 5px\">alleles</div></td><td style=\"white-space: nowrap; max-width: 500px; overflow: hidden; text-overflow: ellipsis; \" colspan=\"1\"><div style=\"text-align: left;border-bottom: solid 2px #000; padding-bottom: 5px\">AF</div></td><td style=\"white-space: nowrap; max-width: 500px; overflow: hidden; text-overflow: ellipsis; \" colspan=\"1\"><div style=\"text-align: left;border-bottom: solid 2px #000; padding-bottom: 5px\">AN</div></td></tr><tr><td style=\"white-space: nowrap; max-width: 500px; overflow: hidden; text-overflow: ellipsis; text-align: left;\">locus&lt;GRCh38&gt;</td><td style=\"white-space: nowrap; max-width: 500px; overflow: hidden; text-overflow: ellipsis; text-align: left;\">array&lt;str&gt;</td><td style=\"white-space: nowrap; max-width: 500px; overflow: hidden; text-overflow: ellipsis; text-align: left;\">array&lt;float64&gt;</td><td style=\"white-space: nowrap; max-width: 500px; overflow: hidden; text-overflow: ellipsis; text-align: left;\">int32</td></tr>\n",
       "</thead><tbody><tr><td style=\"white-space: nowrap; max-width: 500px; overflow: hidden; text-overflow: ellipsis; \">chr1:16487</td><td style=\"white-space: nowrap; max-width: 500px; overflow: hidden; text-overflow: ellipsis; \">[&quot;T&quot;,&quot;C&quot;]</td><td style=\"white-space: nowrap; max-width: 500px; overflow: hidden; text-overflow: ellipsis; \">[8.43e-01,1.57e-01]</td><td style=\"white-space: nowrap; max-width: 500px; overflow: hidden; text-overflow: ellipsis; \">350</td></tr>\n",
       "<tr><td style=\"white-space: nowrap; max-width: 500px; overflow: hidden; text-overflow: ellipsis; \">chr1:133160</td><td style=\"white-space: nowrap; max-width: 500px; overflow: hidden; text-overflow: ellipsis; \">[&quot;G&quot;,&quot;A&quot;]</td><td style=\"white-space: nowrap; max-width: 500px; overflow: hidden; text-overflow: ellipsis; \">[8.89e-01,1.11e-01]</td><td style=\"white-space: nowrap; max-width: 500px; overflow: hidden; text-overflow: ellipsis; \">352</td></tr>\n",
       "<tr><td style=\"white-space: nowrap; max-width: 500px; overflow: hidden; text-overflow: ellipsis; \">chr1:138593</td><td style=\"white-space: nowrap; max-width: 500px; overflow: hidden; text-overflow: ellipsis; \">[&quot;G&quot;,&quot;T&quot;]</td><td style=\"white-space: nowrap; max-width: 500px; overflow: hidden; text-overflow: ellipsis; \">[8.98e-01,1.02e-01]</td><td style=\"white-space: nowrap; max-width: 500px; overflow: hidden; text-overflow: ellipsis; \">352</td></tr>\n",
       "<tr><td style=\"white-space: nowrap; max-width: 500px; overflow: hidden; text-overflow: ellipsis; \">chr1:736852</td><td style=\"white-space: nowrap; max-width: 500px; overflow: hidden; text-overflow: ellipsis; \">[&quot;C&quot;,&quot;T&quot;]</td><td style=\"white-space: nowrap; max-width: 500px; overflow: hidden; text-overflow: ellipsis; \">[9.20e-01,7.95e-02]</td><td style=\"white-space: nowrap; max-width: 500px; overflow: hidden; text-overflow: ellipsis; \">352</td></tr>\n",
       "<tr><td style=\"white-space: nowrap; max-width: 500px; overflow: hidden; text-overflow: ellipsis; \">chr1:771265</td><td style=\"white-space: nowrap; max-width: 500px; overflow: hidden; text-overflow: ellipsis; \">[&quot;A&quot;,&quot;C&quot;]</td><td style=\"white-space: nowrap; max-width: 500px; overflow: hidden; text-overflow: ellipsis; \">[1.00e+00,0.00e+00]</td><td style=\"white-space: nowrap; max-width: 500px; overflow: hidden; text-overflow: ellipsis; \">352</td></tr>\n",
       "</tbody></table><p style=\"background: #fdd; padding: 0.4em;\">showing top 5 rows</p>\n"
      ],
      "text/plain": [
       "+---------------+------------+---------------------+-------+\n",
       "| locus         | alleles    | AF                  |    AN |\n",
       "+---------------+------------+---------------------+-------+\n",
       "| locus<GRCh38> | array<str> | array<float64>      | int32 |\n",
       "+---------------+------------+---------------------+-------+\n",
       "| chr1:16487    | [\"T\",\"C\"]  | [8.43e-01,1.57e-01] |   350 |\n",
       "| chr1:133160   | [\"G\",\"A\"]  | [8.89e-01,1.11e-01] |   352 |\n",
       "| chr1:138593   | [\"G\",\"T\"]  | [8.98e-01,1.02e-01] |   352 |\n",
       "| chr1:736852   | [\"C\",\"T\"]  | [9.20e-01,7.95e-02] |   352 |\n",
       "| chr1:771265   | [\"A\",\"C\"]  | [1.00e+00,0.00e+00] |   352 |\n",
       "+---------------+------------+---------------------+-------+\n",
       "showing top 5 rows"
      ]
     },
     "metadata": {},
     "output_type": "display_data"
    }
   ],
   "source": [
    "CEU_interm2.rows().show(5)"
   ]
  },
  {
   "cell_type": "code",
   "execution_count": 139,
   "metadata": {},
   "outputs": [
    {
     "data": {
      "text/html": [
       "<table><thead><tr><td style=\"white-space: nowrap; max-width: 500px; overflow: hidden; text-overflow: ellipsis; \" colspan=\"1\"><div style=\"text-align: left;\"></div></td><td style=\"white-space: nowrap; max-width: 500px; overflow: hidden; text-overflow: ellipsis; \" colspan=\"1\"><div style=\"text-align: left;\"></div></td><td style=\"white-space: nowrap; max-width: 500px; overflow: hidden; text-overflow: ellipsis; \" colspan=\"1\"><div style=\"text-align: left;\"></div></td><td style=\"white-space: nowrap; max-width: 500px; overflow: hidden; text-overflow: ellipsis; \" colspan=\"1\"><div style=\"text-align: left;\"></div></td><td style=\"white-space: nowrap; max-width: 500px; overflow: hidden; text-overflow: ellipsis; \" colspan=\"1\"><div style=\"text-align: left;\"></div></td></tr><tr><td style=\"white-space: nowrap; max-width: 500px; overflow: hidden; text-overflow: ellipsis; \" colspan=\"1\"><div style=\"text-align: left;border-bottom: solid 2px #000; padding-bottom: 5px\">locus</div></td><td style=\"white-space: nowrap; max-width: 500px; overflow: hidden; text-overflow: ellipsis; \" colspan=\"1\"><div style=\"text-align: left;border-bottom: solid 2px #000; padding-bottom: 5px\">alleles</div></td><td style=\"white-space: nowrap; max-width: 500px; overflow: hidden; text-overflow: ellipsis; \" colspan=\"1\"><div style=\"text-align: left;border-bottom: solid 2px #000; padding-bottom: 5px\">AF</div></td><td style=\"white-space: nowrap; max-width: 500px; overflow: hidden; text-overflow: ellipsis; \" colspan=\"1\"><div style=\"text-align: left;border-bottom: solid 2px #000; padding-bottom: 5px\">AN</div></td><td style=\"white-space: nowrap; max-width: 500px; overflow: hidden; text-overflow: ellipsis; \" colspan=\"1\"><div style=\"text-align: left;border-bottom: solid 2px #000; padding-bottom: 5px\">pop</div></td></tr><tr><td style=\"white-space: nowrap; max-width: 500px; overflow: hidden; text-overflow: ellipsis; text-align: left;\">locus&lt;GRCh38&gt;</td><td style=\"white-space: nowrap; max-width: 500px; overflow: hidden; text-overflow: ellipsis; text-align: left;\">array&lt;str&gt;</td><td style=\"white-space: nowrap; max-width: 500px; overflow: hidden; text-overflow: ellipsis; text-align: left;\">float64</td><td style=\"white-space: nowrap; max-width: 500px; overflow: hidden; text-overflow: ellipsis; text-align: left;\">int32</td><td style=\"white-space: nowrap; max-width: 500px; overflow: hidden; text-overflow: ellipsis; text-align: left;\">str</td></tr>\n",
       "</thead><tbody><tr><td style=\"white-space: nowrap; max-width: 500px; overflow: hidden; text-overflow: ellipsis; \">chr1:16487</td><td style=\"white-space: nowrap; max-width: 500px; overflow: hidden; text-overflow: ellipsis; \">[&quot;T&quot;,&quot;C&quot;]</td><td style=\"white-space: nowrap; max-width: 500px; overflow: hidden; text-overflow: ellipsis; \">1.57e-01</td><td style=\"white-space: nowrap; max-width: 500px; overflow: hidden; text-overflow: ellipsis; \">350</td><td style=\"white-space: nowrap; max-width: 500px; overflow: hidden; text-overflow: ellipsis; \">&quot;CEU&quot;</td></tr>\n",
       "<tr><td style=\"white-space: nowrap; max-width: 500px; overflow: hidden; text-overflow: ellipsis; \">chr1:133160</td><td style=\"white-space: nowrap; max-width: 500px; overflow: hidden; text-overflow: ellipsis; \">[&quot;G&quot;,&quot;A&quot;]</td><td style=\"white-space: nowrap; max-width: 500px; overflow: hidden; text-overflow: ellipsis; \">1.11e-01</td><td style=\"white-space: nowrap; max-width: 500px; overflow: hidden; text-overflow: ellipsis; \">352</td><td style=\"white-space: nowrap; max-width: 500px; overflow: hidden; text-overflow: ellipsis; \">&quot;CEU&quot;</td></tr>\n",
       "<tr><td style=\"white-space: nowrap; max-width: 500px; overflow: hidden; text-overflow: ellipsis; \">chr1:138593</td><td style=\"white-space: nowrap; max-width: 500px; overflow: hidden; text-overflow: ellipsis; \">[&quot;G&quot;,&quot;T&quot;]</td><td style=\"white-space: nowrap; max-width: 500px; overflow: hidden; text-overflow: ellipsis; \">1.02e-01</td><td style=\"white-space: nowrap; max-width: 500px; overflow: hidden; text-overflow: ellipsis; \">352</td><td style=\"white-space: nowrap; max-width: 500px; overflow: hidden; text-overflow: ellipsis; \">&quot;CEU&quot;</td></tr>\n",
       "<tr><td style=\"white-space: nowrap; max-width: 500px; overflow: hidden; text-overflow: ellipsis; \">chr1:736852</td><td style=\"white-space: nowrap; max-width: 500px; overflow: hidden; text-overflow: ellipsis; \">[&quot;C&quot;,&quot;T&quot;]</td><td style=\"white-space: nowrap; max-width: 500px; overflow: hidden; text-overflow: ellipsis; \">7.95e-02</td><td style=\"white-space: nowrap; max-width: 500px; overflow: hidden; text-overflow: ellipsis; \">352</td><td style=\"white-space: nowrap; max-width: 500px; overflow: hidden; text-overflow: ellipsis; \">&quot;CEU&quot;</td></tr>\n",
       "<tr><td style=\"white-space: nowrap; max-width: 500px; overflow: hidden; text-overflow: ellipsis; \">chr1:771265</td><td style=\"white-space: nowrap; max-width: 500px; overflow: hidden; text-overflow: ellipsis; \">[&quot;A&quot;,&quot;C&quot;]</td><td style=\"white-space: nowrap; max-width: 500px; overflow: hidden; text-overflow: ellipsis; \">0.00e+00</td><td style=\"white-space: nowrap; max-width: 500px; overflow: hidden; text-overflow: ellipsis; \">352</td><td style=\"white-space: nowrap; max-width: 500px; overflow: hidden; text-overflow: ellipsis; \">&quot;CEU&quot;</td></tr>\n",
       "</tbody></table><p style=\"background: #fdd; padding: 0.4em;\">showing top 5 rows</p>\n"
      ],
      "text/plain": [
       "+---------------+------------+----------+-------+-------+\n",
       "| locus         | alleles    |       AF |    AN | pop   |\n",
       "+---------------+------------+----------+-------+-------+\n",
       "| locus<GRCh38> | array<str> |  float64 | int32 | str   |\n",
       "+---------------+------------+----------+-------+-------+\n",
       "| chr1:16487    | [\"T\",\"C\"]  | 1.57e-01 |   350 | \"CEU\" |\n",
       "| chr1:133160   | [\"G\",\"A\"]  | 1.11e-01 |   352 | \"CEU\" |\n",
       "| chr1:138593   | [\"G\",\"T\"]  | 1.02e-01 |   352 | \"CEU\" |\n",
       "| chr1:736852   | [\"C\",\"T\"]  | 7.95e-02 |   352 | \"CEU\" |\n",
       "| chr1:771265   | [\"A\",\"C\"]  | 0.00e+00 |   352 | \"CEU\" |\n",
       "+---------------+------------+----------+-------+-------+\n",
       "showing top 5 rows"
      ]
     },
     "metadata": {},
     "output_type": "display_data"
    }
   ],
   "source": [
    "# only include the second entry of the array from the row field 'AF' \n",
    "CEU_interm3 = CEU_interm2.transmute_rows(AF = CEU_interm2.AF[1])\n",
    "\n",
    "# previous code\n",
    "# key the rows only by 'locus' so that the 'allele' row field can be split into two row fields (one for each allele)\n",
    "# also, only include the second entry of the array from 'AF' row field  \n",
    "#CEU_interm3 = CEU_interm2.key_rows_by('locus')\n",
    "#CEU_interm3 = CEU_interm3.transmute_rows(AF = CEU_interm3.AF[1], A1 = CEU_interm3.alleles[0], A2 = CEU_interm3.alleles[1])\n",
    "\n",
    "# add a row field with population name to keep track of which mt it came from \n",
    "CEU_final = CEU_interm3.annotate_rows(pop = pair_com[0][0])\n",
    "CEU_final.rows().show(5)"
   ]
  },
  {
   "cell_type": "markdown",
   "metadata": {},
   "source": [
    "##### *population 2*"
   ]
  },
  {
   "cell_type": "code",
   "execution_count": 140,
   "metadata": {},
   "outputs": [
    {
     "name": "stdout",
     "output_type": "stream",
     "text": [
      "----------------------------------------\n",
      "Global fields:\n",
      "    None\n",
      "----------------------------------------\n",
      "Column fields:\n",
      "    's': str\n",
      "----------------------------------------\n",
      "Row fields:\n",
      "    'locus': locus<GRCh38>\n",
      "    'alleles': array<str>\n",
      "    'AF': array<float64>\n",
      "    'AN': int32\n",
      "----------------------------------------\n",
      "Entry fields:\n",
      "    None\n",
      "----------------------------------------\n",
      "Column key: ['s']\n",
      "Row key: ['locus', 'alleles']\n",
      "----------------------------------------\n"
     ]
    }
   ],
   "source": [
    "# drop fields  \n",
    "\n",
    "# drop all entry fields\n",
    "# everything except for 's' (key) from the column fields\n",
    "# everything from the row fields except for the keys -'locus' and 'alleles' and row field 'variant_qc'  \n",
    "CEU_YRI_interm = CEU_YRI_var.drop(*list(CEU_YRI_var.entry), *list(CEU_YRI_var.col)[1:], *list(CEU_YRI_var.row)[2:-1])\n",
    "\n",
    "# only select the row field keys (locus and allele) and row fields 'AF' & 'AN' which are under 'variant_qc'\n",
    "CEU_YRI_interm2 = CEU_YRI_interm.select_rows(CEU_YRI_interm['variant_qc']['AF'], CEU_YRI_interm['variant_qc']['AN'])  \n",
    "\n",
    "# quick look at the condensed mt \n",
    "CEU_YRI_interm2.describe()"
   ]
  },
  {
   "cell_type": "code",
   "execution_count": 141,
   "metadata": {},
   "outputs": [
    {
     "data": {
      "text/html": [
       "<table><thead><tr><td style=\"white-space: nowrap; max-width: 500px; overflow: hidden; text-overflow: ellipsis; \" colspan=\"1\"><div style=\"text-align: left;\"></div></td><td style=\"white-space: nowrap; max-width: 500px; overflow: hidden; text-overflow: ellipsis; \" colspan=\"1\"><div style=\"text-align: left;\"></div></td><td style=\"white-space: nowrap; max-width: 500px; overflow: hidden; text-overflow: ellipsis; \" colspan=\"1\"><div style=\"text-align: left;\"></div></td><td style=\"white-space: nowrap; max-width: 500px; overflow: hidden; text-overflow: ellipsis; \" colspan=\"1\"><div style=\"text-align: left;\"></div></td></tr><tr><td style=\"white-space: nowrap; max-width: 500px; overflow: hidden; text-overflow: ellipsis; \" colspan=\"1\"><div style=\"text-align: left;border-bottom: solid 2px #000; padding-bottom: 5px\">locus</div></td><td style=\"white-space: nowrap; max-width: 500px; overflow: hidden; text-overflow: ellipsis; \" colspan=\"1\"><div style=\"text-align: left;border-bottom: solid 2px #000; padding-bottom: 5px\">alleles</div></td><td style=\"white-space: nowrap; max-width: 500px; overflow: hidden; text-overflow: ellipsis; \" colspan=\"1\"><div style=\"text-align: left;border-bottom: solid 2px #000; padding-bottom: 5px\">AF</div></td><td style=\"white-space: nowrap; max-width: 500px; overflow: hidden; text-overflow: ellipsis; \" colspan=\"1\"><div style=\"text-align: left;border-bottom: solid 2px #000; padding-bottom: 5px\">AN</div></td></tr><tr><td style=\"white-space: nowrap; max-width: 500px; overflow: hidden; text-overflow: ellipsis; text-align: left;\">locus&lt;GRCh38&gt;</td><td style=\"white-space: nowrap; max-width: 500px; overflow: hidden; text-overflow: ellipsis; text-align: left;\">array&lt;str&gt;</td><td style=\"white-space: nowrap; max-width: 500px; overflow: hidden; text-overflow: ellipsis; text-align: left;\">array&lt;float64&gt;</td><td style=\"white-space: nowrap; max-width: 500px; overflow: hidden; text-overflow: ellipsis; text-align: left;\">int32</td></tr>\n",
       "</thead><tbody><tr><td style=\"white-space: nowrap; max-width: 500px; overflow: hidden; text-overflow: ellipsis; \">chr1:16487</td><td style=\"white-space: nowrap; max-width: 500px; overflow: hidden; text-overflow: ellipsis; \">[&quot;T&quot;,&quot;C&quot;]</td><td style=\"white-space: nowrap; max-width: 500px; overflow: hidden; text-overflow: ellipsis; \">[9.19e-01,8.14e-02]</td><td style=\"white-space: nowrap; max-width: 500px; overflow: hidden; text-overflow: ellipsis; \">700</td></tr>\n",
       "<tr><td style=\"white-space: nowrap; max-width: 500px; overflow: hidden; text-overflow: ellipsis; \">chr1:133160</td><td style=\"white-space: nowrap; max-width: 500px; overflow: hidden; text-overflow: ellipsis; \">[&quot;G&quot;,&quot;A&quot;]</td><td style=\"white-space: nowrap; max-width: 500px; overflow: hidden; text-overflow: ellipsis; \">[8.54e-01,1.46e-01]</td><td style=\"white-space: nowrap; max-width: 500px; overflow: hidden; text-overflow: ellipsis; \">700</td></tr>\n",
       "<tr><td style=\"white-space: nowrap; max-width: 500px; overflow: hidden; text-overflow: ellipsis; \">chr1:138593</td><td style=\"white-space: nowrap; max-width: 500px; overflow: hidden; text-overflow: ellipsis; \">[&quot;G&quot;,&quot;T&quot;]</td><td style=\"white-space: nowrap; max-width: 500px; overflow: hidden; text-overflow: ellipsis; \">[9.22e-01,7.83e-02]</td><td style=\"white-space: nowrap; max-width: 500px; overflow: hidden; text-overflow: ellipsis; \">702</td></tr>\n",
       "<tr><td style=\"white-space: nowrap; max-width: 500px; overflow: hidden; text-overflow: ellipsis; \">chr1:736852</td><td style=\"white-space: nowrap; max-width: 500px; overflow: hidden; text-overflow: ellipsis; \">[&quot;C&quot;,&quot;T&quot;]</td><td style=\"white-space: nowrap; max-width: 500px; overflow: hidden; text-overflow: ellipsis; \">[9.47e-01,5.30e-02]</td><td style=\"white-space: nowrap; max-width: 500px; overflow: hidden; text-overflow: ellipsis; \">698</td></tr>\n",
       "<tr><td style=\"white-space: nowrap; max-width: 500px; overflow: hidden; text-overflow: ellipsis; \">chr1:771265</td><td style=\"white-space: nowrap; max-width: 500px; overflow: hidden; text-overflow: ellipsis; \">[&quot;A&quot;,&quot;C&quot;]</td><td style=\"white-space: nowrap; max-width: 500px; overflow: hidden; text-overflow: ellipsis; \">[8.66e-01,1.34e-01]</td><td style=\"white-space: nowrap; max-width: 500px; overflow: hidden; text-overflow: ellipsis; \">702</td></tr>\n",
       "</tbody></table><p style=\"background: #fdd; padding: 0.4em;\">showing top 5 rows</p>\n"
      ],
      "text/plain": [
       "+---------------+------------+---------------------+-------+\n",
       "| locus         | alleles    | AF                  |    AN |\n",
       "+---------------+------------+---------------------+-------+\n",
       "| locus<GRCh38> | array<str> | array<float64>      | int32 |\n",
       "+---------------+------------+---------------------+-------+\n",
       "| chr1:16487    | [\"T\",\"C\"]  | [9.19e-01,8.14e-02] |   700 |\n",
       "| chr1:133160   | [\"G\",\"A\"]  | [8.54e-01,1.46e-01] |   700 |\n",
       "| chr1:138593   | [\"G\",\"T\"]  | [9.22e-01,7.83e-02] |   702 |\n",
       "| chr1:736852   | [\"C\",\"T\"]  | [9.47e-01,5.30e-02] |   698 |\n",
       "| chr1:771265   | [\"A\",\"C\"]  | [8.66e-01,1.34e-01] |   702 |\n",
       "+---------------+------------+---------------------+-------+\n",
       "showing top 5 rows"
      ]
     },
     "metadata": {},
     "output_type": "display_data"
    }
   ],
   "source": [
    "CEU_YRI_interm2.rows().show(5)"
   ]
  },
  {
   "cell_type": "code",
   "execution_count": 142,
   "metadata": {},
   "outputs": [
    {
     "data": {
      "text/html": [
       "<table><thead><tr><td style=\"white-space: nowrap; max-width: 500px; overflow: hidden; text-overflow: ellipsis; \" colspan=\"1\"><div style=\"text-align: left;\"></div></td><td style=\"white-space: nowrap; max-width: 500px; overflow: hidden; text-overflow: ellipsis; \" colspan=\"1\"><div style=\"text-align: left;\"></div></td><td style=\"white-space: nowrap; max-width: 500px; overflow: hidden; text-overflow: ellipsis; \" colspan=\"1\"><div style=\"text-align: left;\"></div></td><td style=\"white-space: nowrap; max-width: 500px; overflow: hidden; text-overflow: ellipsis; \" colspan=\"1\"><div style=\"text-align: left;\"></div></td><td style=\"white-space: nowrap; max-width: 500px; overflow: hidden; text-overflow: ellipsis; \" colspan=\"1\"><div style=\"text-align: left;\"></div></td></tr><tr><td style=\"white-space: nowrap; max-width: 500px; overflow: hidden; text-overflow: ellipsis; \" colspan=\"1\"><div style=\"text-align: left;border-bottom: solid 2px #000; padding-bottom: 5px\">locus</div></td><td style=\"white-space: nowrap; max-width: 500px; overflow: hidden; text-overflow: ellipsis; \" colspan=\"1\"><div style=\"text-align: left;border-bottom: solid 2px #000; padding-bottom: 5px\">alleles</div></td><td style=\"white-space: nowrap; max-width: 500px; overflow: hidden; text-overflow: ellipsis; \" colspan=\"1\"><div style=\"text-align: left;border-bottom: solid 2px #000; padding-bottom: 5px\">AF</div></td><td style=\"white-space: nowrap; max-width: 500px; overflow: hidden; text-overflow: ellipsis; \" colspan=\"1\"><div style=\"text-align: left;border-bottom: solid 2px #000; padding-bottom: 5px\">AN</div></td><td style=\"white-space: nowrap; max-width: 500px; overflow: hidden; text-overflow: ellipsis; \" colspan=\"1\"><div style=\"text-align: left;border-bottom: solid 2px #000; padding-bottom: 5px\">pop</div></td></tr><tr><td style=\"white-space: nowrap; max-width: 500px; overflow: hidden; text-overflow: ellipsis; text-align: left;\">locus&lt;GRCh38&gt;</td><td style=\"white-space: nowrap; max-width: 500px; overflow: hidden; text-overflow: ellipsis; text-align: left;\">array&lt;str&gt;</td><td style=\"white-space: nowrap; max-width: 500px; overflow: hidden; text-overflow: ellipsis; text-align: left;\">float64</td><td style=\"white-space: nowrap; max-width: 500px; overflow: hidden; text-overflow: ellipsis; text-align: left;\">int32</td><td style=\"white-space: nowrap; max-width: 500px; overflow: hidden; text-overflow: ellipsis; text-align: left;\">str</td></tr>\n",
       "</thead><tbody><tr><td style=\"white-space: nowrap; max-width: 500px; overflow: hidden; text-overflow: ellipsis; \">chr1:16487</td><td style=\"white-space: nowrap; max-width: 500px; overflow: hidden; text-overflow: ellipsis; \">[&quot;T&quot;,&quot;C&quot;]</td><td style=\"white-space: nowrap; max-width: 500px; overflow: hidden; text-overflow: ellipsis; \">8.14e-02</td><td style=\"white-space: nowrap; max-width: 500px; overflow: hidden; text-overflow: ellipsis; \">700</td><td style=\"white-space: nowrap; max-width: 500px; overflow: hidden; text-overflow: ellipsis; \">&quot;CEU-YRI&quot;</td></tr>\n",
       "<tr><td style=\"white-space: nowrap; max-width: 500px; overflow: hidden; text-overflow: ellipsis; \">chr1:133160</td><td style=\"white-space: nowrap; max-width: 500px; overflow: hidden; text-overflow: ellipsis; \">[&quot;G&quot;,&quot;A&quot;]</td><td style=\"white-space: nowrap; max-width: 500px; overflow: hidden; text-overflow: ellipsis; \">1.46e-01</td><td style=\"white-space: nowrap; max-width: 500px; overflow: hidden; text-overflow: ellipsis; \">700</td><td style=\"white-space: nowrap; max-width: 500px; overflow: hidden; text-overflow: ellipsis; \">&quot;CEU-YRI&quot;</td></tr>\n",
       "<tr><td style=\"white-space: nowrap; max-width: 500px; overflow: hidden; text-overflow: ellipsis; \">chr1:138593</td><td style=\"white-space: nowrap; max-width: 500px; overflow: hidden; text-overflow: ellipsis; \">[&quot;G&quot;,&quot;T&quot;]</td><td style=\"white-space: nowrap; max-width: 500px; overflow: hidden; text-overflow: ellipsis; \">7.83e-02</td><td style=\"white-space: nowrap; max-width: 500px; overflow: hidden; text-overflow: ellipsis; \">702</td><td style=\"white-space: nowrap; max-width: 500px; overflow: hidden; text-overflow: ellipsis; \">&quot;CEU-YRI&quot;</td></tr>\n",
       "<tr><td style=\"white-space: nowrap; max-width: 500px; overflow: hidden; text-overflow: ellipsis; \">chr1:736852</td><td style=\"white-space: nowrap; max-width: 500px; overflow: hidden; text-overflow: ellipsis; \">[&quot;C&quot;,&quot;T&quot;]</td><td style=\"white-space: nowrap; max-width: 500px; overflow: hidden; text-overflow: ellipsis; \">5.30e-02</td><td style=\"white-space: nowrap; max-width: 500px; overflow: hidden; text-overflow: ellipsis; \">698</td><td style=\"white-space: nowrap; max-width: 500px; overflow: hidden; text-overflow: ellipsis; \">&quot;CEU-YRI&quot;</td></tr>\n",
       "<tr><td style=\"white-space: nowrap; max-width: 500px; overflow: hidden; text-overflow: ellipsis; \">chr1:771265</td><td style=\"white-space: nowrap; max-width: 500px; overflow: hidden; text-overflow: ellipsis; \">[&quot;A&quot;,&quot;C&quot;]</td><td style=\"white-space: nowrap; max-width: 500px; overflow: hidden; text-overflow: ellipsis; \">1.34e-01</td><td style=\"white-space: nowrap; max-width: 500px; overflow: hidden; text-overflow: ellipsis; \">702</td><td style=\"white-space: nowrap; max-width: 500px; overflow: hidden; text-overflow: ellipsis; \">&quot;CEU-YRI&quot;</td></tr>\n",
       "</tbody></table><p style=\"background: #fdd; padding: 0.4em;\">showing top 5 rows</p>\n"
      ],
      "text/plain": [
       "+---------------+------------+----------+-------+-----------+\n",
       "| locus         | alleles    |       AF |    AN | pop       |\n",
       "+---------------+------------+----------+-------+-----------+\n",
       "| locus<GRCh38> | array<str> |  float64 | int32 | str       |\n",
       "+---------------+------------+----------+-------+-----------+\n",
       "| chr1:16487    | [\"T\",\"C\"]  | 8.14e-02 |   700 | \"CEU-YRI\" |\n",
       "| chr1:133160   | [\"G\",\"A\"]  | 1.46e-01 |   700 | \"CEU-YRI\" |\n",
       "| chr1:138593   | [\"G\",\"T\"]  | 7.83e-02 |   702 | \"CEU-YRI\" |\n",
       "| chr1:736852   | [\"C\",\"T\"]  | 5.30e-02 |   698 | \"CEU-YRI\" |\n",
       "| chr1:771265   | [\"A\",\"C\"]  | 1.34e-01 |   702 | \"CEU-YRI\" |\n",
       "+---------------+------------+----------+-------+-----------+\n",
       "showing top 5 rows"
      ]
     },
     "metadata": {},
     "output_type": "display_data"
    }
   ],
   "source": [
    "# only include the second entry of the array from the row field 'AF' \n",
    "CEU_YRI_interm3 = CEU_YRI_interm2.transmute_rows(AF = CEU_YRI_interm2.AF[1])\n",
    "\n",
    "# previous code \n",
    "# key the rows only by 'locus' so that the 'allele' row field can be split into two row fields (one for each allele)\n",
    "# also, only include the second entry of the array from 'AF' row field  \n",
    "#CEU_YRI_interm3 = CEU_YRI_interm2.key_rows_by('locus')\n",
    "#CEU_YRI_interm3 = CEU_YRI_interm3.transmute_rows(AF = CEU_YRI_interm3.AF[1], A1 = CEU_YRI_interm3.alleles[0], A2 = CEU_YRI_interm3.alleles[1])\n",
    "\n",
    "# add a row field with population name to keep track of which mt it came from \n",
    "CEU_YRI_final = CEU_YRI_interm3.annotate_rows(pop = f'{pair_com[0][0]}-{pair_com[0][1]}')\n",
    "CEU_YRI_final.rows().show(5)"
   ]
  },
  {
   "cell_type": "markdown",
   "metadata": {},
   "source": [
    "### *FST formula pre-setup* - trial run"
   ]
  },
  {
   "cell_type": "markdown",
   "metadata": {},
   "source": [
    "#### *Variables needed for FST calculation* "
   ]
  },
  {
   "cell_type": "code",
   "execution_count": 285,
   "metadata": {},
   "outputs": [],
   "source": [
    "# converting lists into numpy arrarys cause it is easier to work with and more readable\n",
    "\n",
    "# assign populations to formula variables \n",
    "pop1 = CEU_final\n",
    "pop2 = CEU_YRI_final\n",
    "\n",
    "# number of alleles \n",
    "n1 = np.array(pop1.AN.collect())\n",
    "n2 = np.array(pop2.AN.collect())\n",
    "\n",
    "# allele frequencies \n",
    "FREQpop1 = np.array(pop1.AF.collect()) \n",
    "FREQpop2 = np.array(pop2.AF.collect())  "
   ]
  },
  {
   "cell_type": "markdown",
   "metadata": {},
   "source": [
    "#### *Weighted average allele frequency*"
   ]
  },
  {
   "cell_type": "code",
   "execution_count": 286,
   "metadata": {},
   "outputs": [
    {
     "name": "stdout",
     "output_type": "stream",
     "text": [
      "True\n",
      "True\n"
     ]
    }
   ],
   "source": [
    "FREQ = ((n1*FREQpop1) + (n2*FREQpop2)) / (n1+n2)\n",
    "\n",
    "# sanity checks\n",
    "print(((n1[0]*FREQpop1[0]) + (n2[0]*FREQpop2[0])) / (n1[0]+n2[0]) == FREQ[0])\n",
    "print(len(FREQ) == len(FREQpop1)) # length of output should be equal to the length of arrays we started with"
   ]
  },
  {
   "cell_type": "markdown",
   "metadata": {},
   "source": [
    "#### *Filter to only freqs between 0 and 1*"
   ]
  },
  {
   "cell_type": "code",
   "execution_count": 287,
   "metadata": {},
   "outputs": [
    {
     "name": "stdout",
     "output_type": "stream",
     "text": [
      "246984\n",
      "True\n",
      "True\n"
     ]
    }
   ],
   "source": [
    "INCLUDE=(FREQ>0) & (FREQ<1) # only include ave freq between 0 and 1 - started with FREQ = 248634\n",
    "print(np.count_nonzero(INCLUDE)) # 246984 ave freq values were between 0 and 1 - returned True to the conditions above; 248634 - 246984 = 1650 were False \n",
    "\n",
    "# subset allele frequencies \n",
    "FREQpop1=FREQpop1[INCLUDE]\n",
    "FREQpop2=FREQpop2[INCLUDE]\n",
    "FREQ=FREQ[INCLUDE]\n",
    "\n",
    "# sanity check \n",
    "print(len(FREQpop1) == np.count_nonzero(INCLUDE)) # TRUE\n",
    "\n",
    "# subset the number of alleles \n",
    "n1 = n1[INCLUDE]\n",
    "n2 = n2[INCLUDE]\n",
    "\n",
    "# sanity check \n",
    "print(len(n1) == np.count_nonzero(INCLUDE)) # TRUE"
   ]
  },
  {
   "cell_type": "markdown",
   "metadata": {},
   "source": [
    "#### *FST Estimate -  W&C ESTIMATOR*"
   ]
  },
  {
   "cell_type": "code",
   "execution_count": 290,
   "metadata": {},
   "outputs": [
    {
     "name": "stdout",
     "output_type": "stream",
     "text": [
      "True\n"
     ]
    }
   ],
   "source": [
    "## average sample size that incorporates variance\n",
    "nc =((1/(s-1)) * (n1+n2)) - ((np.square(n1) + np.square(n2))/(n1+n2))\n",
    "\n",
    "msa= (1/(s-1))*((n1*(np.square(FREQpop1-FREQ)))+(n2*(np.square(FREQpop2-FREQ))))\n",
    "\n",
    "msw =  (1/((n1-1)+(n2-1))) * ((n1*(FREQpop1*(1-FREQpop1))) + (n2*(FREQpop2*(1-FREQpop2))))\n",
    "\n",
    "numer = msa-msw\n",
    "\n",
    "denom = msa + ((nc-1)*msw)\n",
    "\n",
    "FST_val = numer/denom\n",
    "\n",
    "# sanity check using the first element \n",
    "nc_0 =((1/(s-1)) * (n1[0]+n2[0])) - ((np.square(n1[0]) + np.square(n2[0]))/(n1[0]+n2[0]))\n",
    "\n",
    "msa_0= (1/(s-1))*((n1[0]*(np.square(FREQpop1[0]-FREQ[0])))+(n2[0]*(np.square(FREQpop2[0]-FREQ[0]))))\n",
    "\n",
    "msw_0 =  (1/((n1[0]-1)+(n2[0]-1))) * ((n1[0]*(FREQpop1[0]*(1-FREQpop1[0]))) + (n2[0]*(FREQpop2[0]*(1-FREQpop2[0]))))\n",
    "\n",
    "numer_0 = msa_0-msw_0\n",
    "\n",
    "denom_0 = msa_0 + ((nc_0-1)*msw_0)\n",
    "\n",
    "FST_0 = numer_0/denom_0\n",
    "\n",
    "print(FST_0 == FST_val[0]) # TRUE"
   ]
  },
  {
   "cell_type": "code",
   "execution_count": 291,
   "metadata": {},
   "outputs": [
    {
     "data": {
      "text/plain": [
       "array([ 0.02750891,  0.00311057,  0.00149225, ..., -0.00213329,\n",
       "       -0.00203709, -0.00171703])"
      ]
     },
     "execution_count": 291,
     "metadata": {},
     "output_type": "execute_result"
    }
   ],
   "source": [
    "FST_val"
   ]
  },
  {
   "cell_type": "markdown",
   "metadata": {},
   "source": [
    "## *Which FST value is for which locus-allele?* - actual run"
   ]
  },
  {
   "cell_type": "code",
   "execution_count": 293,
   "metadata": {},
   "outputs": [],
   "source": [
    "# resetting variables for the actual FST run \n",
    "\n",
    "# assign populations to formula variables \n",
    "pop1 = CEU_final\n",
    "pop2 = CEU_YRI_final\n",
    "\n",
    "# number of alleles \n",
    "n1 = np.array(pop1.AN.collect())\n",
    "n2 = np.array(pop2.AN.collect())\n",
    "\n",
    "# allele frequencies \n",
    "FREQpop1 = np.array(pop1.AF.collect()) \n",
    "FREQpop2 = np.array(pop2.AF.collect())  \n",
    "\n",
    "# locus + alleles = keys - needed for reference purposes - these values are uniform across all populations \n",
    "locus = np.array(hl.str(pop1.locus).collect())\n",
    "alleles = np.array(hl.str(pop1.alleles).collect())\n",
    "key = np.array([i + ' ' + j for i, j in zip(locus, alleles)])"
   ]
  },
  {
   "cell_type": "code",
   "execution_count": 294,
   "metadata": {},
   "outputs": [],
   "source": [
    "s=2   # s is the number of populations - since we are calculating pair-wise FSTs, this is always 2 \n",
    "key_FST = {}\n",
    "for i in range(len(key)):\n",
    "    FREQ = ((n1[i]*FREQpop1[i]) + (n2[i]*FREQpop2[i])) / (n1[i]+n2[i])\n",
    "    \n",
    "    if (FREQ>0) & (FREQ<1): # only include ave freq between 0 and 1\n",
    "        \n",
    "    ## average sample size that incorporates variance\n",
    "        nc = ((1/(s-1)) * (n1[i]+n2[i])) - ((np.square(n1[i]) + np.square(n2[i]))/(n1[i]+n2[i]))\n",
    "\n",
    "        msa= (1/(s-1))*((n1[i]*(np.square(FREQpop1[i]-FREQ)))+(n2[i]*(np.square(FREQpop2[i]-FREQ))))\n",
    "\n",
    "        msw = (1/((n1[i]-1)+(n2[i]-1))) * ((n1[i]*(FREQpop1[i]*(1-FREQpop1[i]))) + (n2[i]*(FREQpop2[i]*(1-FREQpop2[i]))))\n",
    "\n",
    "        numer = msa-msw\n",
    "\n",
    "        denom = msa + ((nc-1)*msw)\n",
    "\n",
    "        FST = numer/denom\n",
    "        \n",
    "        key_FST[key[i]] = FST"
   ]
  },
  {
   "cell_type": "code",
   "execution_count": 331,
   "metadata": {},
   "outputs": [
    {
     "data": {
      "text/plain": [
       "{'chr1:16487 [\"T\",\"C\"]': 0.02750890602075159,\n",
       " 'chr1:133160 [\"G\",\"A\"]': 0.003110568631892113,\n",
       " 'chr1:138593 [\"G\",\"T\"]': 0.0014922480633877278,\n",
       " 'chr1:736852 [\"C\",\"T\"]': 0.0039158145324851654,\n",
       " 'chr1:771265 [\"A\",\"C\"]': 0.10210109418003628,\n",
       " 'chr1:797421 [\"A\",\"G\"]': 0.06245896580362819,\n",
       " 'chr1:800302 [\"G\",\"C\"]': 0.00937832955004036,\n",
       " 'chr1:807641 [\"T\",\"C\"]': 0.06553706304863907,\n",
       " 'chr1:817186 [\"G\",\"A\"]': 0.13830272811268304,\n",
       " 'chr1:817416 [\"C\",\"T\"]': 0.00950978566989048,\n",
       " 'chr1:826950 [\"G\",\"T\"]': 0.0503733032652502,\n",
       " 'chr1:841166 [\"A\",\"G\"]': 0.06400455020158805,\n",
       " 'chr1:841852 [\"C\",\"T\"]': 0.015736655613342882,\n",
       " 'chr1:859236 [\"T\",\"C\"]': 0.10210109418003628,\n",
       " 'chr1:861347 [\"G\",\"T\"]': 0.030561140126427164,\n",
       " 'chr1:890030 [\"G\",\"A\"]': 0.05004725217012239,\n",
       " 'chr1:893503 [\"G\",\"A\"]': -0.0021285987364131295,\n",
       " 'chr1:908025 [\"A\",\"G\"]': -0.0021047665547462274,\n",
       " 'chr1:910958 [\"A\",\"G\"]': 0.017644994411523802,\n",
       " 'chr1:919397 [\"A\",\"G\"]': 0.0004297609524191273,\n",
       " 'chr1:928119 [\"T\",\"C\"]': 0.021022915546556022,\n",
       " 'chr1:929235 [\"G\",\"A\"]': 0.008620198451783053,\n",
       " 'chr1:931558 [\"G\",\"A\"]': -0.0016792787866702612,\n",
       " 'chr1:933024 [\"C\",\"T\"]': 0.05495472876822381,\n",
       " 'chr1:953858 [\"G\",\"A\"]': 5.982232865034237e-05,\n",
       " 'chr1:973693 [\"C\",\"T\"]': 0.013447992612905017,\n",
       " 'chr1:973929 [\"T\",\"C\"]': 0.007270540265508053,\n",
       " 'chr1:974039 [\"C\",\"T\"]': 0.026510099896563916,\n",
       " 'chr1:974175 [\"A\",\"G\"]': 0.09362672892313768,\n",
       " 'chr1:975147 [\"GAGAGA\",\"G\"]': 0.013526072238567364,\n",
       " 'chr1:978812 [\"G\",\"C\"]': 0.030300804576954377,\n",
       " 'chr1:985123 [\"G\",\"A\"]': 0.006416638352909171,\n",
       " 'chr1:999666 [\"G\",\"A\"]': 0.0736822850301094,\n",
       " 'chr1:1001333 [\"G\",\"T\"]': 0.020195579043029686,\n",
       " 'chr1:1024129 [\"T\",\"G\"]': 9.539291620394074e-05,\n",
       " 'chr1:1042813 [\"G\",\"A\"]': 0.027294761402995787,\n",
       " 'chr1:1049467 [\"G\",\"C\"]': 0.06603231631922622,\n",
       " 'chr1:1055137 [\"C\",\"T\"]': -0.0020871488299007194,\n",
       " 'chr1:1083324 [\"A\",\"G\"]': 0.00020229492014821204,\n",
       " 'chr1:1091930 [\"AAG\",\"A\"]': -0.00046505728215476803,\n",
       " 'chr1:1092879 [\"C\",\"T\"]': 0.08124153971212139,\n",
       " 'chr1:1100425 [\"G\",\"A\"]': 0.023886585762005155,\n",
       " 'chr1:1103805 [\"C\",\"T\"]': 0.004898016763849046,\n",
       " 'chr1:1110226 [\"A\",\"C\"]': 0.049244174991082225,\n",
       " 'chr1:1127664 [\"A\",\"G\"]': -0.0019814777396333478,\n",
       " 'chr1:1129751 [\"C\",\"A\"]': 0.09181042864102334,\n",
       " 'chr1:1130420 [\"C\",\"T\"]': 0.02074145468037224,\n",
       " 'chr1:1142582 [\"C\",\"T\"]': 0.08878601041319732,\n",
       " 'chr1:1168009 [\"GGGGCGGAGGGCCGAGCGGGGCCAGCAGACGGGTGA\",\"G\"]': 0.03515010645588043,\n",
       " 'chr1:1169204 [\"T\",\"C\"]': 0.030974456626554004,\n",
       " 'chr1:1169858 [\"T\",\"C\"]': 0.012032721986629465,\n",
       " 'chr1:1170341 [\"C\",\"T\"]': 0.015736655613342882,\n",
       " 'chr1:1170681 [\"G\",\"A\"]': 0.014315903845602865,\n",
       " 'chr1:1171093 [\"G\",\"A\"]': 0.20523571308209893,\n",
       " 'chr1:1171404 [\"T\",\"C\"]': 0.009688805952415912,\n",
       " 'chr1:1173138 [\"T\",\"C\"]': 0.008725092158917603,\n",
       " 'chr1:1177602 [\"C\",\"T\"]': 0.10712571428026818,\n",
       " 'chr1:1185978 [\"A\",\"C\"]': 0.0008435737347592002,\n",
       " 'chr1:1195100 [\"G\",\"A\"]': 0.005031999822299143,\n",
       " 'chr1:1200271 [\"C\",\"T\"]': 0.09104381964180404,\n",
       " 'chr1:1208816 [\"T\",\"C\"]': 0.04439135574239779,\n",
       " 'chr1:1220424 [\"T\",\"C\"]': -0.0014071819020661865,\n",
       " 'chr1:1245992 [\"C\",\"T\"]': 0.021725712013358694,\n",
       " 'chr1:1251356 [\"AT\",\"A\"]': -0.0021397741643717585,\n",
       " 'chr1:1258096 [\"G\",\"C\"]': 0.027111665936510723,\n",
       " 'chr1:1304857 [\"C\",\"G\"]': 0.034753409249513555,\n",
       " 'chr1:1409847 [\"G\",\"T\"]': 0.05896687264306217,\n",
       " 'chr1:1411592 [\"G\",\"C\"]': 0.01999045927154938,\n",
       " 'chr1:1438906 [\"C\",\"T\"]': 0.026640280399067944,\n",
       " 'chr1:1451968 [\"C\",\"T\"]': 0.10186851331569123,\n",
       " 'chr1:1517958 [\"C\",\"T\"]': 0.040707878748782456,\n",
       " 'chr1:1522693 [\"A\",\"G\"]': 0.06863790466426782,\n",
       " 'chr1:1534402 [\"G\",\"C\"]': -0.0018474771454296034,\n",
       " 'chr1:1542280 [\"A\",\"G\"]': 0.0502069090714053,\n",
       " 'chr1:1544846 [\"C\",\"T\"]': -0.0014938635415326599,\n",
       " 'chr1:1545968 [\"T\",\"C\"]': -0.001585462090088961,\n",
       " 'chr1:1583446 [\"C\",\"CG\"]': 0.053786763135705455,\n",
       " 'chr1:1583688 [\"A\",\"C\"]': -0.0017251028696732321,\n",
       " 'chr1:1585173 [\"C\",\"T\"]': 0.005540004506592742,\n",
       " 'chr1:1585290 [\"TTTTG\",\"T\"]': 0.06222703463277563,\n",
       " 'chr1:1585589 [\"A\",\"G\"]': 0.030254109982668406,\n",
       " 'chr1:1586962 [\"C\",\"T\"]': 0.03912128650455478,\n",
       " 'chr1:1614370 [\"C\",\"A\"]': 0.0032480256333975487,\n",
       " 'chr1:1620016 [\"C\",\"T\"]': 0.00502335804751793,\n",
       " 'chr1:1624086 [\"G\",\"A\"]': 0.03381035834003781,\n",
       " 'chr1:1638449 [\"A\",\"G\"]': 0.06422478589231485,\n",
       " 'chr1:1671724 [\"C\",\"T\"]': 0.06840149185692258,\n",
       " 'chr1:1679085 [\"T\",\"C\"]': 0.01783147542406052,\n",
       " 'chr1:1680214 [\"T\",\"C\"]': -0.0016510470255169667,\n",
       " 'chr1:1688102 [\"G\",\"A\"]': 0.06678081814831806,\n",
       " 'chr1:1692535 [\"G\",\"T\"]': 0.05394458757027857,\n",
       " 'chr1:1742587 [\"G\",\"C\"]': 0.10001575459506284,\n",
       " 'chr1:1762287 [\"A\",\"G\"]': 0.11972092012986961,\n",
       " 'chr1:1842235 [\"C\",\"A\"]': 0.041639264880484486,\n",
       " 'chr1:1843736 [\"A\",\"G\"]': 0.0027016089321134783,\n",
       " 'chr1:1845301 [\"C\",\"A\"]': 0.04356489448419528,\n",
       " 'chr1:1948037 [\"T\",\"A\"]': 0.007405032557314727,\n",
       " 'chr1:1949564 [\"T\",\"TG\"]': 0.00262184980668208,\n",
       " 'chr1:1954913 [\"C\",\"T\"]': 0.09449201076614437,\n",
       " 'chr1:1960038 [\"A\",\"G\"]': 0.06616847019856265,\n",
       " 'chr1:1960609 [\"G\",\"C\"]': -0.0005070372105250113,\n",
       " 'chr1:1963306 [\"C\",\"T\"]': 0.0061563722359452904,\n",
       " 'chr1:1971864 [\"C\",\"T\"]': -0.0020381378219556097,\n",
       " 'chr1:1985090 [\"C\",\"T\"]': 0.053881037396944956,\n",
       " 'chr1:1991767 [\"T\",\"C\"]': 0.044835747256431004,\n",
       " 'chr1:1991778 [\"A\",\"G\"]': 0.022697599114900747,\n",
       " 'chr1:1991841 [\"T\",\"C\"]': 0.040035641179596786,\n",
       " 'chr1:1991867 [\"A\",\"G\"]': 0.01602449657977543,\n",
       " 'chr1:1992535 [\"G\",\"A\"]': 0.05254811225396405,\n",
       " 'chr1:1993764 [\"C\",\"CTT\"]': -0.0020520646823693595,\n",
       " 'chr1:1993851 [\"G\",\"A\"]': 0.022815553765987408,\n",
       " 'chr1:1993854 [\"C\",\"T\"]': 0.015033025075344346,\n",
       " 'chr1:1993899 [\"G\",\"C\"]': 0.07030672502720078,\n",
       " 'chr1:1993969 [\"A\",\"G\"]': 0.00016030939547378122,\n",
       " 'chr1:1997290 [\"C\",\"T\"]': 0.08271990226797504,\n",
       " 'chr1:1999114 [\"T\",\"C\"]': 0.0330417157675545,\n",
       " 'chr1:2004141 [\"A\",\"C\"]': 0.04729530172514538,\n",
       " 'chr1:2012662 [\"C\",\"G\"]': 0.007876619385991488,\n",
       " 'chr1:2021579 [\"G\",\"A\"]': 0.01498927051754228,\n",
       " 'chr1:2025860 [\"C\",\"T\"]': 0.023786576089798676,\n",
       " 'chr1:2041023 [\"T\",\"C\"]': 0.057344526976339995,\n",
       " 'chr1:2045412 [\"G\",\"T\"]': -0.0012901094158751058,\n",
       " 'chr1:2046210 [\"C\",\"T\"]': 0.08385331509226204,\n",
       " 'chr1:2047216 [\"G\",\"A\"]': 0.049811418637881764,\n",
       " 'chr1:2047625 [\"C\",\"T\"]': 0.04098360885788422,\n",
       " 'chr1:2047814 [\"G\",\"A\"]': 0.010828665442990965,\n",
       " 'chr1:2051721 [\"C\",\"A\"]': 0.0019948044329369,\n",
       " 'chr1:2053249 [\"C\",\"T\"]': 0.0005336122741403888,\n",
       " 'chr1:2053253 [\"A\",\"G\"]': -0.0019927569465730856,\n",
       " 'chr1:2053372 [\"G\",\"T\"]': 0.07057479134108027,\n",
       " 'chr1:2053731 [\"G\",\"A\"]': 0.06798934217386682,\n",
       " 'chr1:2057679 [\"A\",\"C\"]': -0.0020241130641970575,\n",
       " 'chr1:2068268 [\"A\",\"AC\"]': 0.006007049969898254,\n",
       " 'chr1:2074301 [\"T\",\"C\"]': 0.022948328557601847,\n",
       " 'chr1:2089896 [\"T\",\"TA\"]': 0.09067120350127704,\n",
       " 'chr1:2102495 [\"G\",\"A\"]': -0.001591210586898154,\n",
       " 'chr1:2102611 [\"T\",\"C\"]': 0.03604561222582299,\n",
       " 'chr1:2104245 [\"C\",\"T\"]': 0.03720522406032612,\n",
       " 'chr1:2121289 [\"T\",\"A\"]': 0.00542111321754996,\n",
       " 'chr1:2126311 [\"A\",\"C\"]': 0.0005653097059281486,\n",
       " 'chr1:2132990 [\"A\",\"C\"]': 0.018705653407513772,\n",
       " 'chr1:2212668 [\"A\",\"G\"]': 0.00847793038648531,\n",
       " 'chr1:2213349 [\"A\",\"G\"]': 0.07856464188402688,\n",
       " 'chr1:2231217 [\"C\",\"CCA\"]': 0.05705782604701949,\n",
       " 'chr1:2246853 [\"TGG\",\"T\"]': 0.05826959695976435,\n",
       " 'chr1:2254781 [\"C\",\"T\"]': 0.00937832955004036,\n",
       " 'chr1:2276041 [\"C\",\"G\"]': -0.0013157924856585874,\n",
       " 'chr1:2284470 [\"A\",\"C\"]': 0.002139000237750372,\n",
       " 'chr1:2284474 [\"G\",\"C\"]': 0.01888276212434686,\n",
       " 'chr1:2284929 [\"T\",\"G\"]': -0.0021371927259644496,\n",
       " 'chr1:2284952 [\"A\",\"G\"]': 0.0029057778598926528,\n",
       " 'chr1:2286690 [\"T\",\"C\"]': 0.0013468411255900402,\n",
       " 'chr1:2287526 [\"C\",\"T\"]': 0.04562756180757479,\n",
       " 'chr1:2287876 [\"C\",\"G\"]': 0.03499813252233208,\n",
       " 'chr1:2288174 [\"A\",\"T\"]': -0.0013098791875375971,\n",
       " 'chr1:2288631 [\"T\",\"A\"]': 0.03424250275271141,\n",
       " 'chr1:2288952 [\"C\",\"T\"]': 0.09362672892313761,\n",
       " 'chr1:2289783 [\"A\",\"C\"]': 0.000993294596762746,\n",
       " 'chr1:2290738 [\"G\",\"A\"]': 0.03230211473763358,\n",
       " 'chr1:2293973 [\"T\",\"C\"]': -0.0016792787866702612,\n",
       " 'chr1:2302812 [\"A\",\"G\"]': -0.001473871531868858,\n",
       " 'chr1:2306798 [\"A\",\"T\"]': 0.0001234661783309839,\n",
       " 'chr1:2313466 [\"C\",\"T\"]': 0.04691751596067843,\n",
       " 'chr1:2323070 [\"C\",\"T\"]': 0.02392183038851147,\n",
       " 'chr1:2323471 [\"T\",\"C\"]': -0.001047378417550841,\n",
       " 'chr1:2325494 [\"G\",\"A\"]': 0.11160816493418554,\n",
       " 'chr1:2336118 [\"T\",\"C\"]': 0.0804555558101698,\n",
       " 'chr1:2337239 [\"T\",\"C\"]': 0.06248379283899182,\n",
       " 'chr1:2340235 [\"T\",\"C\"]': 0.005219335015366874,\n",
       " 'chr1:2340267 [\"T\",\"C\"]': 0.00787018875626301,\n",
       " 'chr1:2340787 [\"C\",\"T\"]': 0.007294635760168675,\n",
       " 'chr1:2342734 [\"T\",\"C\"]': 0.005289747865138649,\n",
       " 'chr1:2358373 [\"A\",\"T\"]': 0.06878132022194426,\n",
       " 'chr1:2370170 [\"G\",\"T\"]': 0.011031554867664228,\n",
       " 'chr1:2370252 [\"G\",\"A\"]': 0.009617598239567239,\n",
       " 'chr1:2371032 [\"C\",\"T\"]': 0.002536020815272762,\n",
       " 'chr1:2372073 [\"G\",\"A\"]': 0.049175602704809106,\n",
       " 'chr1:2372127 [\"A\",\"G\"]': 0.021839026453581163,\n",
       " 'chr1:2375471 [\"C\",\"T\"]': 0.002556934466230554,\n",
       " 'chr1:2376590 [\"G\",\"A\"]': 0.00740360623599365,\n",
       " 'chr1:2393442 [\"G\",\"C\"]': 0.03595466408889182,\n",
       " 'chr1:2395479 [\"G\",\"A\"]': 0.01854119580813705,\n",
       " 'chr1:2395521 [\"A\",\"C\"]': 0.01565172629286651,\n",
       " 'chr1:2407956 [\"A\",\"G\"]': 0.00510015664899801,\n",
       " 'chr1:2414527 [\"T\",\"G\"]': -0.0017145695198573037,\n",
       " 'chr1:2415043 [\"T\",\"C\"]': 0.006380587253519918,\n",
       " 'chr1:2415085 [\"T\",\"C\"]': 0.0019899844892814745,\n",
       " 'chr1:2416026 [\"T\",\"C\"]': 0.04403521338079884,\n",
       " 'chr1:2416293 [\"G\",\"A\"]': 0.009008034640576099,\n",
       " 'chr1:2423169 [\"TTTTG\",\"T\"]': 0.02371153071080474,\n",
       " 'chr1:2424298 [\"TA\",\"T\"]': 0.0015503035235571322,\n",
       " 'chr1:2427316 [\"G\",\"C\"]': -0.0011199185631724116,\n",
       " 'chr1:2427841 [\"C\",\"T\"]': 0.0005081040597015437,\n",
       " 'chr1:2433984 [\"T\",\"TC\"]': -0.0017064384948076894,\n",
       " 'chr1:2434446 [\"T\",\"A\"]': 0.01978216289627935,\n",
       " 'chr1:2435078 [\"G\",\"A\"]': -0.0014072651489734568,\n",
       " 'chr1:2437267 [\"T\",\"C\"]': 0.13159788764676167,\n",
       " 'chr1:2437459 [\"CA\",\"C\"]': -9.240689927060107e-05,\n",
       " 'chr1:2437582 [\"T\",\"C\"]': -0.0010573064790229743,\n",
       " 'chr1:2437952 [\"C\",\"G\"]': 0.001998309185787747,\n",
       " 'chr1:2440882 [\"C\",\"T\"]': 0.025143256746391274,\n",
       " 'chr1:2441501 [\"C\",\"T\"]': -0.001968691789947362,\n",
       " 'chr1:2451653 [\"G\",\"T\"]': 0.008762571117093266,\n",
       " 'chr1:2472817 [\"C\",\"T\"]': 0.03446879206760916,\n",
       " 'chr1:2474395 [\"AG\",\"A\"]': 0.02131343078621595,\n",
       " 'chr1:2475448 [\"C\",\"T\"]': -0.0017004873180452925,\n",
       " 'chr1:2491175 [\"G\",\"A\"]': 0.0018174839572196045,\n",
       " 'chr1:2493455 [\"T\",\"C\"]': 0.10526891386119942,\n",
       " 'chr1:2536988 [\"CGT\",\"C\"]': 0.004898016763849046,\n",
       " 'chr1:2569625 [\"G\",\"A\"]': 0.025419056588304824,\n",
       " 'chr1:2589991 [\"C\",\"T\"]': 0.004615377593577845,\n",
       " 'chr1:2590765 [\"G\",\"T\"]': 0.040996117577762434,\n",
       " 'chr1:2600541 [\"A\",\"G\"]': 0.028286096275981217,\n",
       " 'chr1:2646174 [\"T\",\"C\"]': 0.09362672892313761,\n",
       " 'chr1:2797592 [\"T\",\"C\"]': 0.011089276582646359,\n",
       " 'chr1:2807625 [\"C\",\"T\"]': 0.07255628005169827,\n",
       " 'chr1:2833356 [\"T\",\"C\"]': 0.011706435412364222,\n",
       " 'chr1:2840538 [\"C\",\"T\"]': 0.04439135574239779,\n",
       " 'chr1:2846345 [\"T\",\"C\"]': -0.0020258071498960462,\n",
       " 'chr1:2847577 [\"ATTGTCTGC\",\"A\"]': 0.024144300117195715,\n",
       " 'chr1:2857816 [\"G\",\"A\"]': 0.030315274929476985,\n",
       " 'chr1:2859151 [\"A\",\"G\"]': 0.0018973557677005811,\n",
       " 'chr1:2864428 [\"G\",\"C\"]': 0.02919022909407069,\n",
       " 'chr1:2866744 [\"T\",\"C\"]': 0.0022843836838061494,\n",
       " 'chr1:2885411 [\"G\",\"A\"]': -0.0008070375034983056,\n",
       " 'chr1:2888443 [\"C\",\"G\"]': -0.0010649540852652952,\n",
       " 'chr1:2888463 [\"C\",\"T\"]': 0.08061212591433972,\n",
       " 'chr1:2889331 [\"C\",\"T\"]': -0.00021258784029674143,\n",
       " 'chr1:2891983 [\"C\",\"T\"]': 0.0015904552466529478,\n",
       " 'chr1:2912255 [\"C\",\"T\"]': 0.11015207822006862,\n",
       " 'chr1:2919453 [\"A\",\"G\"]': 0.06022405775085424,\n",
       " 'chr1:2920879 [\"G\",\"A\"]': 0.018088115879064674,\n",
       " 'chr1:2930923 [\"T\",\"C\"]': 0.1029504542880109,\n",
       " 'chr1:2931311 [\"C\",\"T\"]': 0.03038085805979092,\n",
       " 'chr1:2962895 [\"G\",\"C\"]': 0.04787984028771425,\n",
       " 'chr1:2963075 [\"G\",\"A\"]': 0.02126417578012224,\n",
       " 'chr1:2963558 [\"C\",\"T\"]': 0.00018861812346011064,\n",
       " 'chr1:2963819 [\"A\",\"G\"]': 0.002090805532916167,\n",
       " 'chr1:2969901 [\"C\",\"T\"]': 0.014495353829860606,\n",
       " 'chr1:2970239 [\"C\",\"T\"]': 0.0076843376087741165,\n",
       " 'chr1:2970424 [\"G\",\"A\"]': 0.06757316098940509,\n",
       " 'chr1:2971311 [\"G\",\"A\"]': 0.028177956555399446,\n",
       " 'chr1:2980529 [\"G\",\"A\"]': 0.039853039951198786,\n",
       " 'chr1:2981286 [\"GC\",\"G\"]': 0.1028948637333468,\n",
       " 'chr1:2985564 [\"C\",\"T\"]': -0.0019978840645545606,\n",
       " 'chr1:2994895 [\"G\",\"A\"]': 0.13075454225052255,\n",
       " 'chr1:2995636 [\"C\",\"T\"]': 0.006456021949048846,\n",
       " 'chr1:3000247 [\"C\",\"G\"]': 0.07593675438760718,\n",
       " 'chr1:3065277 [\"G\",\"A\"]': 0.07288676472291318,\n",
       " 'chr1:3066754 [\"T\",\"C\"]': 0.005391661090990557,\n",
       " 'chr1:3067523 [\"C\",\"A\"]': 0.028362864078832657,\n",
       " 'chr1:3076470 [\"T\",\"C\"]': -0.001724180497833467,\n",
       " 'chr1:3077074 [\"G\",\"A\"]': 0.003532886644062202,\n",
       " 'chr1:3081458 [\"C\",\"T\"]': 0.027924372721336382,\n",
       " 'chr1:3082068 [\"G\",\"A\"]': 0.03722830750342902,\n",
       " 'chr1:3082639 [\"G\",\"A\"]': 0.006369026571732175,\n",
       " 'chr1:3082928 [\"C\",\"T\"]': 0.0356552685834116,\n",
       " 'chr1:3089063 [\"G\",\"A\"]': -0.0019076975635803205,\n",
       " 'chr1:3092123 [\"C\",\"G\"]': 0.016890589205996665,\n",
       " 'chr1:3092498 [\"CTG\",\"C\"]': 0.04089031543707113,\n",
       " 'chr1:3096416 [\"A\",\"G\"]': -0.0017886472236383435,\n",
       " 'chr1:3096581 [\"A\",\"C\"]': 0.08303089134810708,\n",
       " 'chr1:3097556 [\"ATTC\",\"A\"]': 0.019907476167011013,\n",
       " 'chr1:3098129 [\"A\",\"G\"]': -0.001836609053612735,\n",
       " 'chr1:3098959 [\"G\",\"A\"]': 0.00854764843415834,\n",
       " 'chr1:3100672 [\"G\",\"A\"]': 0.0183676344193586,\n",
       " 'chr1:3102956 [\"C\",\"A\"]': 0.007956852246353811,\n",
       " 'chr1:3119513 [\"C\",\"T\"]': 0.1567621060473827,\n",
       " 'chr1:3122584 [\"C\",\"A\"]': 0.0041321865596881885,\n",
       " 'chr1:3128668 [\"CTCCCACCATGCTACTGGAGACCA\",\"C\"]': 0.01695041280262851,\n",
       " 'chr1:3135937 [\"C\",\"T\"]': 0.08246765563656022,\n",
       " 'chr1:3140916 [\"G\",\"T\"]': 0.008811794157833062,\n",
       " 'chr1:3141224 [\"T\",\"C\"]': -0.002046506495854949,\n",
       " 'chr1:3143617 [\"C\",\"T\"]': 0.0001333777984566637,\n",
       " 'chr1:3145931 [\"G\",\"A\"]': 0.00824713327340109,\n",
       " 'chr1:3146121 [\"G\",\"C\"]': 0.09319433276648156,\n",
       " 'chr1:3146311 [\"G\",\"T\"]': 0.0012252523700780936,\n",
       " 'chr1:3146345 [\"C\",\"T\"]': 0.14749116261846137,\n",
       " 'chr1:3148062 [\"C\",\"T\"]': 0.05687775995236757,\n",
       " 'chr1:3149004 [\"C\",\"T\"]': -0.001610803705469335,\n",
       " 'chr1:3151141 [\"C\",\"A\"]': 0.04656528299574877,\n",
       " 'chr1:3153373 [\"C\",\"T\"]': -0.0018315985206543636,\n",
       " 'chr1:3169666 [\"G\",\"A\"]': -0.0019542958040750357,\n",
       " 'chr1:3173412 [\"G\",\"A\"]': 0.12299541784718473,\n",
       " 'chr1:3187262 [\"C\",\"T\"]': 0.01277230276045664,\n",
       " 'chr1:3189786 [\"A\",\"C\"]': 0.02390395265327962,\n",
       " 'chr1:3190723 [\"C\",\"T\"]': 0.06776303360398557,\n",
       " 'chr1:3194171 [\"T\",\"C\"]': 0.05294128751323395,\n",
       " 'chr1:3198388 [\"G\",\"A\"]': 0.010780891714556854,\n",
       " 'chr1:3199157 [\"C\",\"G\"]': -0.0020147451863303267,\n",
       " 'chr1:3200403 [\"T\",\"C\"]': 0.09704255462786256,\n",
       " 'chr1:3200880 [\"A\",\"G\"]': 0.06814304868363306,\n",
       " 'chr1:3201241 [\"G\",\"A\"]': 0.07847064753820894,\n",
       " 'chr1:3201565 [\"G\",\"A\"]': 0.0027016089321134696,\n",
       " 'chr1:3202554 [\"G\",\"A\"]': 0.0016569204143656352,\n",
       " 'chr1:3203590 [\"C\",\"G\"]': 0.026667345906204155,\n",
       " 'chr1:3209526 [\"G\",\"A\"]': 0.038051775400212456,\n",
       " 'chr1:3214468 [\"G\",\"A\"]': 0.044150736910347155,\n",
       " 'chr1:3232029 [\"C\",\"T\"]': 0.04293542680927244,\n",
       " 'chr1:3233411 [\"G\",\"A\"]': -0.0015313068134193118,\n",
       " 'chr1:3233464 [\"A\",\"C\"]': 0.11015207822006862,\n",
       " 'chr1:3234461 [\"G\",\"A\"]': 0.01908744253443916,\n",
       " 'chr1:3235534 [\"C\",\"T\"]': 0.03915281272096427,\n",
       " 'chr1:3243487 [\"C\",\"A\"]': 0.08316918413322805,\n",
       " 'chr1:3248417 [\"T\",\"C\"]': 0.06806043730314512,\n",
       " 'chr1:3249064 [\"A\",\"G\"]': 0.007541481478957484,\n",
       " 'chr1:3250639 [\"C\",\"G\"]': 0.0028799496634884327,\n",
       " 'chr1:3251639 [\"G\",\"A\"]': 0.14434147074148354,\n",
       " 'chr1:3253580 [\"T\",\"A\"]': -0.0006224435749578399,\n",
       " 'chr1:3280516 [\"G\",\"A\"]': 0.02111755230946465,\n",
       " 'chr1:3288280 [\"G\",\"A\"]': 0.0011975222865618093,\n",
       " 'chr1:3291216 [\"G\",\"A\"]': 0.02941626530879357,\n",
       " 'chr1:3292266 [\"T\",\"G\"]': 0.004706938986910626,\n",
       " 'chr1:3295629 [\"A\",\"G\"]': 0.06487841462004261,\n",
       " 'chr1:3304519 [\"T\",\"C\"]': 0.00705496027895432,\n",
       " 'chr1:3307945 [\"G\",\"A\"]': 0.07819450891899937,\n",
       " 'chr1:3324552 [\"G\",\"A\"]': 0.05777059759366328,\n",
       " 'chr1:3324571 [\"C\",\"T\"]': 0.039573982358940274,\n",
       " 'chr1:3325497 [\"C\",\"T\"]': 4.859657755789857e-05,\n",
       " 'chr1:3330469 [\"G\",\"A\"]': 0.001476063073948496,\n",
       " 'chr1:3340801 [\"T\",\"G\"]': -0.0010110944691046689,\n",
       " 'chr1:3344952 [\"C\",\"T\"]': 0.008223387353987739,\n",
       " 'chr1:3349979 [\"T\",\"TGGAGGA\"]': 0.03311989765479116,\n",
       " 'chr1:3351262 [\"G\",\"A\"]': 0.0314131611004688,\n",
       " 'chr1:3352496 [\"C\",\"T\"]': 0.024798160071292902,\n",
       " 'chr1:3354590 [\"G\",\"T\"]': 0.031438981655180644,\n",
       " 'chr1:3355035 [\"A\",\"T\"]': 0.027443919785400176,\n",
       " 'chr1:3356191 [\"G\",\"A\"]': -0.00018998938651248621,\n",
       " 'chr1:3356261 [\"C\",\"A\"]': 0.002133479562643828,\n",
       " 'chr1:3356499 [\"G\",\"A\"]': 0.09187499340750196,\n",
       " 'chr1:3356904 [\"G\",\"A\"]': 0.0017685521500321064,\n",
       " 'chr1:3358142 [\"T\",\"C\"]': 0.05517605089558746,\n",
       " 'chr1:3362395 [\"C\",\"T\"]': 0.00022672297748265827,\n",
       " 'chr1:3378408 [\"G\",\"A\"]': 0.004625900352165384,\n",
       " 'chr1:3380586 [\"T\",\"C\"]': -0.002070508879887505,\n",
       " 'chr1:3383605 [\"C\",\"T\"]': -0.0020760645185287645,\n",
       " 'chr1:3384389 [\"G\",\"A\"]': 0.0018813236090212393,\n",
       " 'chr1:3384470 [\"G\",\"C\"]': 0.0849875555203211,\n",
       " 'chr1:3385157 [\"C\",\"T\"]': 0.057101145996238487,\n",
       " 'chr1:3405151 [\"G\",\"C\"]': 0.002624148544285622,\n",
       " 'chr1:3407052 [\"C\",\"T\"]': 0.013184721565062067,\n",
       " 'chr1:3409570 [\"A\",\"G\"]': 0.04705067880805801,\n",
       " 'chr1:3411794 [\"T\",\"C\"]': 0.029826497487661068,\n",
       " 'chr1:3413826 [\"C\",\"T\"]': 0.012844865181532045,\n",
       " 'chr1:3416161 [\"T\",\"C\"]': -0.0014126062896253953,\n",
       " 'chr1:3421072 [\"G\",\"A\"]': -0.0018380140505699913,\n",
       " 'chr1:3423705 [\"C\",\"T\"]': 0.11632618421181985,\n",
       " 'chr1:3425227 [\"A\",\"G\"]': 0.010337831092113363,\n",
       " 'chr1:3425545 [\"G\",\"T\"]': 0.011801665575541933,\n",
       " 'chr1:3426404 [\"G\",\"A\"]': 0.013937281857959755,\n",
       " 'chr1:3426792 [\"G\",\"T\"]': 0.13966616042839355,\n",
       " 'chr1:3427371 [\"T\",\"C\"]': 0.020486591715780014,\n",
       " 'chr1:3429141 [\"T\",\"C\"]': 0.05047968691259214,\n",
       " 'chr1:3435783 [\"T\",\"C\"]': 0.015148869589092612,\n",
       " 'chr1:3435852 [\"G\",\"A\"]': 0.0736822850301094,\n",
       " 'chr1:3436298 [\"A\",\"G\"]': 0.05080836572476832,\n",
       " 'chr1:3436301 [\"C\",\"T\"]': 0.016074535643054923,\n",
       " 'chr1:3439463 [\"G\",\"A\"]': 0.06245896580362819,\n",
       " 'chr1:3446243 [\"A\",\"G\"]': 0.025419056588304824,\n",
       " 'chr1:3446672 [\"C\",\"G\"]': 0.033447842692881896,\n",
       " 'chr1:3466474 [\"G\",\"A\"]': 0.09083115495859719,\n",
       " 'chr1:3488146 [\"A\",\"G\"]': 0.03689290877783629,\n",
       " 'chr1:3493657 [\"C\",\"G\"]': 0.037011724328107835,\n",
       " 'chr1:3494803 [\"T\",\"C\"]': 0.07137306646274041,\n",
       " 'chr1:3496862 [\"A\",\"G\"]': 0.010053667631709059,\n",
       " 'chr1:3497304 [\"C\",\"G\"]': 0.017877751387414143,\n",
       " 'chr1:3497541 [\"C\",\"T\"]': 0.040781714164368515,\n",
       " 'chr1:3501607 [\"A\",\"G\"]': 0.03528320967304215,\n",
       " 'chr1:3503376 [\"AAG\",\"A\"]': -0.0020170139012276995,\n",
       " 'chr1:3507349 [\"A\",\"G\"]': 0.010257767010874032,\n",
       " 'chr1:3521615 [\"C\",\"T\"]': 0.0241794139826459,\n",
       " 'chr1:3541333 [\"C\",\"T\"]': -0.0020822605031345165,\n",
       " 'chr1:3542087 [\"A\",\"T\"]': 0.11226116757618629,\n",
       " 'chr1:3542580 [\"G\",\"A\"]': 0.016668598542038213,\n",
       " 'chr1:3543079 [\"C\",\"T\"]': 0.007816472012603718,\n",
       " 'chr1:3543648 [\"G\",\"T\"]': 0.011495295366243828,\n",
       " 'chr1:3547239 [\"A\",\"G\"]': 0.043725075871744706,\n",
       " 'chr1:3548329 [\"C\",\"T\"]': 0.07476284416055118,\n",
       " 'chr1:3551586 [\"G\",\"A\"]': 0.02329865570177313,\n",
       " 'chr1:3558062 [\"G\",\"A\"]': 0.010917592757241287,\n",
       " 'chr1:3563598 [\"C\",\"T\"]': 0.0036092831936223478,\n",
       " 'chr1:3567694 [\"G\",\"A\"]': 0.018516132189889397,\n",
       " 'chr1:3567789 [\"C\",\"T\"]': -0.0013648097018761729,\n",
       " 'chr1:3569559 [\"A\",\"G\"]': -0.001977137874403119,\n",
       " 'chr1:3575632 [\"A\",\"ATCTTATG\"]': 0.0038949513565272515,\n",
       " 'chr1:3575654 [\"C\",\"T\"]': 0.003648120001398819,\n",
       " 'chr1:3575728 [\"G\",\"A\"]': -0.0020932432215523327,\n",
       " 'chr1:3575989 [\"TCTC\",\"T\"]': 0.0717717919943059,\n",
       " 'chr1:3580623 [\"A\",\"G\"]': 0.018321007001048373,\n",
       " 'chr1:3581431 [\"A\",\"G\"]': 0.05193103890445088,\n",
       " 'chr1:3586518 [\"G\",\"C\"]': 0.044864909224513624,\n",
       " 'chr1:3595370 [\"A\",\"G\"]': 0.013082554392885656,\n",
       " 'chr1:3595774 [\"G\",\"A\"]': 0.0027016089321134696,\n",
       " 'chr1:3595777 [\"C\",\"T\"]': 0.011088674567740056,\n",
       " 'chr1:3595905 [\"G\",\"A\"]': -0.0020872479586733408,\n",
       " 'chr1:3596058 [\"G\",\"A\"]': 0.06581740976645435,\n",
       " 'chr1:3597402 [\"C\",\"T\"]': 0.09866332515417126,\n",
       " 'chr1:3601851 [\"G\",\"A\"]': 0.1422666083408165,\n",
       " 'chr1:3605148 [\"ACACT\",\"A\"]': -0.002073095098933821,\n",
       " 'chr1:3610147 [\"T\",\"G\"]': 0.09751908237048705,\n",
       " 'chr1:3616063 [\"G\",\"A\"]': 0.013899006290350875,\n",
       " 'chr1:3616079 [\"A\",\"G\"]': 0.09067120350127704,\n",
       " 'chr1:3616145 [\"G\",\"A\"]': 0.004299656491435197,\n",
       " 'chr1:3623588 [\"A\",\"C\"]': -1.887422227873968e-05,\n",
       " 'chr1:3658540 [\"TG\",\"T\"]': 0.009772223383444934,\n",
       " 'chr1:3658626 [\"T\",\"C\"]': 0.012016177307629546,\n",
       " 'chr1:3660098 [\"T\",\"A\"]': -0.0015154287255726517,\n",
       " 'chr1:3667128 [\"G\",\"C\"]': 0.050326307301862355,\n",
       " 'chr1:3668477 [\"T\",\"C\"]': 0.00628164618949384,\n",
       " 'chr1:3669018 [\"G\",\"A\"]': 0.09113858902781934,\n",
       " 'chr1:3670702 [\"A\",\"G\"]': 0.017511999879056567,\n",
       " 'chr1:3673861 [\"G\",\"A\"]': -0.0008225539400935482,\n",
       " 'chr1:3675919 [\"C\",\"T\"]': 0.0815873161419932,\n",
       " 'chr1:3679204 [\"C\",\"G\"]': -0.0010369399267408912,\n",
       " 'chr1:3680453 [\"G\",\"A\"]': 0.06037616323866633,\n",
       " 'chr1:3680660 [\"G\",\"A\"]': 0.030973053832422007,\n",
       " 'chr1:3681854 [\"GTAACAGACCACAGGCCTCACACACTTGTTCCGGCCCAAGCATCCCCCAGGCCAAACCTAGACACAGTGGATCA\",\"G\"]': 0.024672827791241945,\n",
       " 'chr1:3687327 [\"T\",\"C\"]': 0.013979230147904882,\n",
       " 'chr1:3687362 [\"C\",\"G\"]': 0.019045856693368356,\n",
       " 'chr1:3687571 [\"AAT\",\"A\"]': -0.00036454872049113607,\n",
       " 'chr1:3688533 [\"G\",\"A\"]': 0.051761754759784916,\n",
       " 'chr1:3689386 [\"C\",\"T\"]': 0.028443848726938534,\n",
       " 'chr1:3690968 [\"G\",\"A\"]': 0.016170259255131235,\n",
       " 'chr1:3691663 [\"A\",\"G\"]': 0.055096035222459025,\n",
       " 'chr1:3695869 [\"T\",\"C\"]': 0.019305538400838027,\n",
       " 'chr1:3701671 [\"A\",\"AT\"]': 0.011322581843994919,\n",
       " 'chr1:3713028 [\"A\",\"G\"]': -0.0021020472305440267,\n",
       " 'chr1:3718548 [\"GGCAGGGGCCTAGGGGAGGGGCT\",\"G\"]': 9.614993218356187e-05,\n",
       " 'chr1:3721049 [\"T\",\"G\"]': 0.00013035009417481416,\n",
       " 'chr1:3727363 [\"A\",\"G\"]': 0.001818107281535882,\n",
       " 'chr1:3756428 [\"C\",\"A\"]': 0.06785817375888416,\n",
       " 'chr1:3762913 [\"G\",\"T\"]': 0.19908987485779295,\n",
       " 'chr1:3764079 [\"G\",\"A\"]': 0.008336406856376087,\n",
       " 'chr1:3764165 [\"C\",\"T\"]': 0.09577334342528325,\n",
       " 'chr1:3764499 [\"A\",\"G\"]': 0.010999145318037916,\n",
       " 'chr1:3771466 [\"C\",\"G\"]': 0.02417934219955752,\n",
       " 'chr1:3771760 [\"T\",\"A\"]': -0.0004018166092930918,\n",
       " 'chr1:3786773 [\"G\",\"C\"]': 0.051212661553160774,\n",
       " 'chr1:3787146 [\"G\",\"A\"]': 0.0027016089321134696,\n",
       " 'chr1:3792923 [\"A\",\"G\"]': 0.004134086982757848,\n",
       " 'chr1:3801923 [\"G\",\"A\"]': 0.0037962266599726744,\n",
       " 'chr1:3816597 [\"C\",\"G\"]': 0.07741978449953132,\n",
       " 'chr1:3825996 [\"G\",\"A\"]': 0.03807675996638539,\n",
       " 'chr1:3826786 [\"G\",\"C\"]': -0.00206531789672329,\n",
       " 'chr1:3867005 [\"CCA\",\"C\"]': 0.049708167807652054,\n",
       " 'chr1:3867099 [\"T\",\"G\"]': 0.11958829542907427,\n",
       " 'chr1:3867890 [\"T\",\"C\"]': 0.003088794447312492,\n",
       " 'chr1:3868811 [\"G\",\"A\"]': -0.0020306865356715447,\n",
       " 'chr1:3868859 [\"C\",\"G\"]': 0.026042114763793877,\n",
       " 'chr1:3870415 [\"TG\",\"T\"]': 0.022335967146581127,\n",
       " 'chr1:3871935 [\"A\",\"G\"]': 0.003104316731017735,\n",
       " 'chr1:3881634 [\"T\",\"TGGGAGGCCAAGGTC\"]': 0.08448440567482987,\n",
       " 'chr1:3890079 [\"T\",\"A\"]': 0.041561899949267636,\n",
       " 'chr1:3910934 [\"A\",\"G\"]': 0.061725772072633446,\n",
       " 'chr1:3918389 [\"C\",\"T\"]': 0.0002771518773005722,\n",
       " 'chr1:3918524 [\"TC\",\"T\"]': 0.07370783162842191,\n",
       " 'chr1:3918555 [\"T\",\"C\"]': 0.019416659575178123,\n",
       " 'chr1:3918900 [\"A\",\"T\"]': 0.07213311445956484,\n",
       " 'chr1:3919403 [\"G\",\"A\"]': -0.001674671912478673,\n",
       " 'chr1:3919685 [\"TCA\",\"T\"]': -0.0008460252668452869,\n",
       " 'chr1:3924081 [\"A\",\"G\"]': 0.0201883964190769,\n",
       " 'chr1:3934160 [\"C\",\"T\"]': 0.001215851354544475,\n",
       " 'chr1:3935706 [\"A\",\"G\"]': 0.07030672502720078,\n",
       " 'chr1:3935713 [\"G\",\"A\"]': 0.009739894463851408,\n",
       " 'chr1:3936016 [\"C\",\"T\"]': 0.006007049969898254,\n",
       " 'chr1:3936075 [\"T\",\"C\"]': 0.009946748799762482,\n",
       " 'chr1:3936886 [\"A\",\"G\"]': 0.08591235934477041,\n",
       " 'chr1:3942540 [\"T\",\"C\"]': 0.01999045927154938,\n",
       " 'chr1:3942760 [\"C\",\"T\"]': -0.0021192322034848865,\n",
       " 'chr1:3942772 [\"G\",\"A\"]': 0.01272905183935102,\n",
       " 'chr1:3942898 [\"G\",\"A\"]': 0.06360727349630822,\n",
       " 'chr1:3943224 [\"G\",\"A\"]': 0.01164470571883119,\n",
       " 'chr1:3943968 [\"C\",\"T\"]': -0.0012248569739306643,\n",
       " 'chr1:3944985 [\"G\",\"T\"]': -0.001719786461122223,\n",
       " 'chr1:3947645 [\"TC\",\"T\"]': 0.026703920762084096,\n",
       " 'chr1:3948609 [\"G\",\"T\"]': 0.08953281142596876,\n",
       " 'chr1:3949896 [\"C\",\"T\"]': 0.006442490964335078,\n",
       " 'chr1:3949901 [\"G\",\"A\"]': 0.026977245661524606,\n",
       " 'chr1:3949997 [\"CT\",\"C\"]': 0.007038390033597047,\n",
       " 'chr1:3950184 [\"C\",\"T\"]': -0.002071930987502822,\n",
       " 'chr1:3950249 [\"C\",\"T\"]': 0.10200598222788629,\n",
       " 'chr1:3950282 [\"A\",\"G\"]': 0.006007049969898254,\n",
       " 'chr1:3950609 [\"C\",\"T\"]': 0.07480910951042205,\n",
       " 'chr1:3950683 [\"A\",\"G\"]': 0.046408723127566956,\n",
       " 'chr1:3950829 [\"C\",\"T\"]': 0.005375490295539047,\n",
       " 'chr1:3951025 [\"C\",\"A\"]': -0.001957027770042954,\n",
       " 'chr1:3951330 [\"G\",\"A\"]': 0.057699287503317855,\n",
       " 'chr1:3951381 [\"T\",\"G\"]': 0.00417513455813255,\n",
       " 'chr1:3955453 [\"T\",\"C\"]': 0.04356489448419528,\n",
       " 'chr1:3956599 [\"G\",\"T\"]': 0.07143109368151898,\n",
       " 'chr1:3958719 [\"T\",\"G\"]': 0.055763940985246306,\n",
       " 'chr1:3959177 [\"T\",\"C\"]': 0.07409508734314818,\n",
       " 'chr1:3965298 [\"CA\",\"C\"]': 0.003215649162060026,\n",
       " 'chr1:3982989 [\"C\",\"T\"]': 0.031332573475585095,\n",
       " 'chr1:3995220 [\"G\",\"C\"]': 0.1232401084711448,\n",
       " 'chr1:3995567 [\"T\",\"C\"]': -0.0019300487061429373,\n",
       " 'chr1:4004723 [\"A\",\"G\"]': -0.0006501842801257726,\n",
       " 'chr1:4004926 [\"C\",\"T\"]': 0.0762075960879151,\n",
       " 'chr1:4005559 [\"T\",\"C\"]': -0.0003293295263305824,\n",
       " 'chr1:4028706 [\"A\",\"C\"]': 0.04446315899827861,\n",
       " 'chr1:4032844 [\"T\",\"C\"]': 0.09398406476618204,\n",
       " 'chr1:4046640 [\"A\",\"G\"]': 0.012452968383109884,\n",
       " 'chr1:4047106 [\"T\",\"C\"]': 0.04380194496634329,\n",
       " 'chr1:4052405 [\"G\",\"A\"]': 0.06854171954608575,\n",
       " 'chr1:4053858 [\"A\",\"G\"]': 0.03695152961668179,\n",
       " 'chr1:4057178 [\"C\",\"T\"]': 0.09909874923197606,\n",
       " 'chr1:4060149 [\"C\",\"T\"]': 0.05131670996885957,\n",
       " 'chr1:4063039 [\"C\",\"T\"]': 0.0017999338368131228,\n",
       " 'chr1:4072717 [\"C\",\"T\"]': 0.001977207665886094,\n",
       " 'chr1:4080437 [\"G\",\"A\"]': 0.005946801832227307,\n",
       " 'chr1:4085555 [\"T\",\"C\"]': 0.005612519895904346,\n",
       " 'chr1:4091076 [\"T\",\"C\"]': 0.021230447539103345,\n",
       " 'chr1:4092868 [\"C\",\"A\"]': 0.019531094842538007,\n",
       " 'chr1:4093027 [\"T\",\"G\"]': 0.011904349590669253,\n",
       " 'chr1:4093202 [\"T\",\"C\"]': 0.018297868985517267,\n",
       " 'chr1:4094488 [\"T\",\"C\"]': 0.048377318697296744,\n",
       " 'chr1:4095860 [\"C\",\"T\"]': 0.006569820242815721,\n",
       " 'chr1:4096118 [\"G\",\"A\"]': 0.00956053594429736,\n",
       " 'chr1:4099621 [\"T\",\"A\"]': -0.0011276461364285713,\n",
       " 'chr1:4102188 [\"T\",\"C\"]': 0.004898016763849046,\n",
       " 'chr1:4102503 [\"A\",\"G\"]': 0.039331032274422494,\n",
       " 'chr1:4104862 [\"G\",\"A\"]': 0.12722551531168283,\n",
       " 'chr1:4120496 [\"T\",\"C\"]': 0.049191001115968115,\n",
       " 'chr1:4121336 [\"T\",\"C\"]': -0.0017304045170847293,\n",
       " 'chr1:4131710 [\"T\",\"C\"]': 0.004372463227799932,\n",
       " 'chr1:4146150 [\"T\",\"C\"]': -0.0008749739037993542,\n",
       " 'chr1:4151656 [\"A\",\"AG\"]': -0.0019310856458710018,\n",
       " 'chr1:4161691 [\"T\",\"C\"]': -4.778622420567433e-05,\n",
       " 'chr1:4162946 [\"A\",\"G\"]': 0.10669658238166067,\n",
       " 'chr1:4170403 [\"T\",\"C\"]': 0.01456306443280997,\n",
       " 'chr1:4175623 [\"C\",\"T\"]': -0.0001346213084364032,\n",
       " 'chr1:4178590 [\"T\",\"G\"]': 0.009266491436923126,\n",
       " 'chr1:4187033 [\"T\",\"C\"]': 0.010003934133810429,\n",
       " 'chr1:4188403 [\"C\",\"T\"]': 0.031149118511317492,\n",
       " 'chr1:4189251 [\"C\",\"G\"]': 0.05034370371985593,\n",
       " 'chr1:4216596 [\"C\",\"T\"]': 0.024137083164923457,\n",
       " 'chr1:4222726 [\"C\",\"T\"]': 0.014360985323956243,\n",
       " 'chr1:4225960 [\"T\",\"TA\"]': 0.02744309494243771,\n",
       " 'chr1:4227354 [\"C\",\"T\"]': 0.036242894398002934,\n",
       " 'chr1:4228452 [\"T\",\"G\"]': 0.0021175405223565554,\n",
       " 'chr1:4229875 [\"C\",\"T\"]': 0.026667345906204155,\n",
       " 'chr1:4233216 [\"A\",\"G\"]': 0.06806043730314512,\n",
       " 'chr1:4235857 [\"A\",\"G\"]': 0.048638868863168774,\n",
       " 'chr1:4235897 [\"T\",\"G\"]': 0.04789575026029078,\n",
       " 'chr1:4238524 [\"G\",\"C\"]': -0.00021053252781186128,\n",
       " 'chr1:4238615 [\"A\",\"G\"]': 0.08717007067738504,\n",
       " 'chr1:4239236 [\"C\",\"T\"]': 0.00434622076621157,\n",
       " 'chr1:4242554 [\"T\",\"G\"]': 0.060278955488487315,\n",
       " 'chr1:4277032 [\"CTT\",\"C\"]': 0.036465710880266664,\n",
       " 'chr1:4301387 [\"C\",\"A\"]': 0.05010037089105521,\n",
       " 'chr1:4304504 [\"A\",\"G\"]': 0.005864738017326397,\n",
       " 'chr1:4307263 [\"G\",\"A\"]': -0.001226752251351536,\n",
       " 'chr1:4307522 [\"A\",\"G\"]': 0.037011724328107835,\n",
       " 'chr1:4307750 [\"C\",\"T\"]': -0.0008070375034983056,\n",
       " 'chr1:4307862 [\"T\",\"C\"]': 0.07223315877156,\n",
       " 'chr1:4307920 [\"G\",\"A\"]': 0.0011221861137617774,\n",
       " 'chr1:4307966 [\"A\",\"G\"]': 0.0022910187559217455,\n",
       " 'chr1:4308211 [\"G\",\"A\"]': 0.012978858093541483,\n",
       " 'chr1:4308244 [\"C\",\"A\"]': -0.0011900728028107477,\n",
       " 'chr1:4308882 [\"T\",\"C\"]': 0.003076971233103431,\n",
       " 'chr1:4309040 [\"C\",\"T\"]': 0.017933733352946506,\n",
       " 'chr1:4310014 [\"C\",\"T\"]': -0.0020400935697797106,\n",
       " 'chr1:4310429 [\"G\",\"A\"]': 0.059096554553967486,\n",
       " 'chr1:4320135 [\"C\",\"T\"]': 0.011803664563680625,\n",
       " 'chr1:4320284 [\"C\",\"A\"]': 0.004903166921857108,\n",
       " 'chr1:4320569 [\"C\",\"T\"]': 0.009731380100059752,\n",
       " 'chr1:4321228 [\"T\",\"C\"]': 0.04798970942313401,\n",
       " 'chr1:4322182 [\"C\",\"T\"]': -0.0013001684702431805,\n",
       " 'chr1:4324203 [\"C\",\"T\"]': -0.002117319146679542,\n",
       " 'chr1:4388140 [\"C\",\"T\"]': 0.09133593018526523,\n",
       " 'chr1:4389144 [\"A\",\"G\"]': 0.007123397937241717,\n",
       " 'chr1:4392337 [\"G\",\"A\"]': 0.01233491016949756,\n",
       " 'chr1:4394120 [\"G\",\"A\"]': 0.02669231374171587,\n",
       " 'chr1:4407914 [\"G\",\"A\"]': 0.09181042864102334,\n",
       " 'chr1:4423343 [\"T\",\"C\"]': 0.01296321489307167,\n",
       " 'chr1:4433302 [\"G\",\"A\"]': 0.016156573266506727,\n",
       " 'chr1:4435618 [\"T\",\"C\"]': 0.002323477142107039,\n",
       " 'chr1:4436269 [\"C\",\"T\"]': -0.00157860047373018,\n",
       " 'chr1:4453393 [\"A\",\"C\"]': 0.025261522396153105,\n",
       " 'chr1:4457274 [\"A\",\"T\"]': 0.008196419114209895,\n",
       " 'chr1:4457422 [\"A\",\"G\"]': 0.007851069532758721,\n",
       " 'chr1:4463033 [\"G\",\"A\"]': 0.003225045921209849,\n",
       " 'chr1:4475668 [\"T\",\"A\"]': 0.007442880957849313,\n",
       " 'chr1:4480983 [\"C\",\"A\"]': 0.02358243966258571,\n",
       " 'chr1:4481365 [\"T\",\"C\"]': 0.1279877089402528,\n",
       " 'chr1:4484118 [\"T\",\"C\"]': -0.0017969053123330569,\n",
       " 'chr1:4486123 [\"C\",\"T\"]': 0.00029131506156554444,\n",
       " 'chr1:4488393 [\"A\",\"G\"]': -0.00013546376858547014,\n",
       " 'chr1:4497967 [\"T\",\"C\"]': 0.0007617355272280331,\n",
       " 'chr1:4498198 [\"G\",\"A\"]': 0.039331032274422494,\n",
       " 'chr1:4505137 [\"G\",\"A\"]': 0.0375334138630507,\n",
       " 'chr1:4514381 [\"G\",\"A\"]': 0.0849875555203211,\n",
       " 'chr1:4531020 [\"G\",\"A\"]': 0.06485061513486672,\n",
       " 'chr1:4542926 [\"G\",\"A\"]': -0.002136771919597819,\n",
       " 'chr1:4572500 [\"A\",\"G\"]': 0.011515746412427544,\n",
       " 'chr1:4572637 [\"C\",\"G\"]': 0.034875456501145236,\n",
       " 'chr1:4572768 [\"C\",\"A\"]': 0.08154555196761552,\n",
       " 'chr1:4575495 [\"G\",\"GC\"]': 0.002647363982501225,\n",
       " 'chr1:4581739 [\"G\",\"T\"]': 0.024743919642639098,\n",
       " 'chr1:4583412 [\"G\",\"T\"]': 0.0005556380455048757,\n",
       " 'chr1:4585868 [\"C\",\"T\"]': 0.003411161875657929,\n",
       " 'chr1:4604577 [\"G\",\"A\"]': 0.09750139834337461,\n",
       " 'chr1:4614378 [\"G\",\"GA\"]': 0.04488165885685242,\n",
       " 'chr1:4614587 [\"T\",\"TTCCTCTAATGC\"]': 1.2845686204181669e-06,\n",
       " 'chr1:4615495 [\"G\",\"A\"]': 0.07055562388566212,\n",
       " 'chr1:4615781 [\"G\",\"T\"]': 0.027294761402995787,\n",
       " 'chr1:4618063 [\"T\",\"C\"]': 0.016185437308501423,\n",
       " 'chr1:4622743 [\"A\",\"T\"]': 0.06715885978382154,\n",
       " 'chr1:4630658 [\"C\",\"G\"]': 0.041023993842121714,\n",
       " 'chr1:4634410 [\"G\",\"A\"]': 0.058032391127272306,\n",
       " 'chr1:4636032 [\"C\",\"T\"]': 0.015570099516969685,\n",
       " 'chr1:4639800 [\"C\",\"T\"]': 0.02381001075765819,\n",
       " 'chr1:4641830 [\"G\",\"A\"]': 0.0021082820987416502,\n",
       " 'chr1:4652381 [\"G\",\"T\"]': 0.006953553285256222,\n",
       " 'chr1:4653161 [\"C\",\"A\"]': -0.002137044567741321,\n",
       " 'chr1:4657280 [\"T\",\"C\"]': 0.10432454626221178,\n",
       " 'chr1:4662387 [\"G\",\"A\"]': 0.0013121878821141884,\n",
       " 'chr1:4664074 [\"A\",\"G\"]': 0.020977744986923102,\n",
       " 'chr1:4673179 [\"T\",\"C\"]': 0.0016376805425180867,\n",
       " 'chr1:4673733 [\"G\",\"A\"]': 0.0024065118973708227,\n",
       " 'chr1:4676396 [\"G\",\"T\"]': -0.0019359797796756804,\n",
       " 'chr1:4677606 [\"A\",\"G\"]': 0.003217567191651618,\n",
       " 'chr1:4690970 [\"A\",\"G\"]': 0.0068560701339517895,\n",
       " 'chr1:4691704 [\"C\",\"A\"]': 0.004319289720448029,\n",
       " 'chr1:4691935 [\"G\",\"A\"]': -0.002038873750055461,\n",
       " 'chr1:4692028 [\"C\",\"G\"]': -0.001594356166815278,\n",
       " 'chr1:4692218 [\"A\",\"G\"]': -0.0019216202882463046,\n",
       " 'chr1:4692389 [\"C\",\"G\"]': -0.0021149228984345307,\n",
       " 'chr1:4694043 [\"T\",\"C\"]': 0.007169880975395072,\n",
       " 'chr1:4697138 [\"G\",\"A\"]': 0.0007282851994176419,\n",
       " 'chr1:4698261 [\"C\",\"G\"]': -0.0013633312754365167,\n",
       " 'chr1:4698267 [\"C\",\"T\"]': 0.0006200246215820924,\n",
       " 'chr1:4699258 [\"A\",\"G\"]': 0.0349983829777357,\n",
       " 'chr1:4704546 [\"T\",\"C\"]': 0.002909299648329879,\n",
       " 'chr1:4712656 [\"C\",\"T\"]': 0.0194545536235791,\n",
       " 'chr1:4712657 [\"G\",\"A\"]': 0.10320228854735583,\n",
       " 'chr1:4714176 [\"G\",\"A\"]': 0.06107665080568349,\n",
       " 'chr1:4715768 [\"G\",\"A\"]': 0.03301149839392079,\n",
       " 'chr1:4721091 [\"C\",\"T\"]': 0.005576397930307276,\n",
       " 'chr1:4725389 [\"C\",\"T\"]': 0.007175665916461313,\n",
       " 'chr1:4732124 [\"T\",\"C\"]': -0.0017055471604408292,\n",
       " 'chr1:4735734 [\"T\",\"C\"]': 0.004701591069805955,\n",
       " 'chr1:4737698 [\"G\",\"A\"]': 0.0010684140622254385,\n",
       " 'chr1:4738379 [\"A\",\"G\"]': 0.013567911477978511,\n",
       " 'chr1:4742263 [\"G\",\"C\"]': 0.0009133553468072044,\n",
       " 'chr1:4755767 [\"A\",\"T\"]': 0.07272927728232019,\n",
       " 'chr1:4756127 [\"C\",\"G\"]': -0.0010582833887710734,\n",
       " 'chr1:4762213 [\"T\",\"G\"]': -0.0015451730500587058,\n",
       " 'chr1:4770725 [\"A\",\"G\"]': 0.003422903521256188,\n",
       " 'chr1:4791732 [\"C\",\"T\"]': 0.027084796357300652,\n",
       " 'chr1:4794265 [\"A\",\"T\"]': 0.0013167672071593222,\n",
       " 'chr1:4794339 [\"G\",\"A\"]': 0.011201367260342437,\n",
       " 'chr1:4797117 [\"C\",\"T\"]': 0.06271428253678749,\n",
       " 'chr1:4798331 [\"A\",\"G\"]': 0.056808507959132754,\n",
       " 'chr1:4799428 [\"G\",\"A\"]': -0.0010764998144294103,\n",
       " 'chr1:4819385 [\"C\",\"T\"]': 0.013979230147904882,\n",
       " 'chr1:4826460 [\"A\",\"G\"]': 0.005791116752821075,\n",
       " 'chr1:4827952 [\"G\",\"T\"]': -0.0020912782028067694,\n",
       " 'chr1:4840415 [\"T\",\"C\"]': 0.01217609048248735,\n",
       " 'chr1:4841677 [\"C\",\"A\"]': 0.00393432739662558,\n",
       " 'chr1:4846556 [\"G\",\"GC\"]': 0.02982649748766105,\n",
       " 'chr1:4850082 [\"A\",\"G\"]': 0.05353871825107543,\n",
       " 'chr1:4873094 [\"T\",\"G\"]': -0.0013014731955114072,\n",
       " 'chr1:4873464 [\"G\",\"A\"]': 0.007803588821584275,\n",
       " 'chr1:4874007 [\"C\",\"T\"]': 0.011035196301841623,\n",
       " 'chr1:4877993 [\"T\",\"C\"]': 0.04441355776582072,\n",
       " 'chr1:4889555 [\"C\",\"A\"]': 0.0804555558101698,\n",
       " 'chr1:4912349 [\"A\",\"G\"]': 0.004146612570973689,\n",
       " 'chr1:4921010 [\"G\",\"A\"]': 0.11099204728068905,\n",
       " 'chr1:4921047 [\"C\",\"T\"]': -0.0018963555739592187,\n",
       " 'chr1:4931752 [\"GGACT\",\"G\"]': 0.013475868174450335,\n",
       " 'chr1:4941428 [\"T\",\"G\"]': 0.023694173425757806,\n",
       " 'chr1:4941993 [\"T\",\"G\"]': 0.10787866093762542,\n",
       " 'chr1:4942307 [\"C\",\"T\"]': 0.0008692875507631821,\n",
       " 'chr1:4949533 [\"C\",\"G\"]': -6.283331490920311e-05,\n",
       " 'chr1:4951087 [\"T\",\"C\"]': 0.02982649748766105,\n",
       " 'chr1:4951960 [\"A\",\"G\"]': 0.0210798091185941,\n",
       " 'chr1:4953320 [\"A\",\"AT\"]': 0.08252121284188385,\n",
       " 'chr1:4957286 [\"G\",\"A\"]': 0.02250535204446142,\n",
       " 'chr1:4961019 [\"A\",\"G\"]': 0.017185362849412814,\n",
       " 'chr1:4961399 [\"C\",\"T\"]': -0.002115989183063522,\n",
       " 'chr1:4965526 [\"G\",\"A\"]': 0.055940889269203785,\n",
       " 'chr1:4969471 [\"A\",\"C\"]': 0.023768868556491258,\n",
       " 'chr1:4973270 [\"T\",\"C\"]': 0.05681655998461529,\n",
       " 'chr1:4974114 [\"G\",\"A\"]': 0.01563153016830755,\n",
       " 'chr1:4978564 [\"G\",\"A\"]': 0.02183387016272418,\n",
       " 'chr1:4979033 [\"C\",\"T\"]': 0.0036846735430239763,\n",
       " 'chr1:4979734 [\"C\",\"G\"]': 0.0356552685834116,\n",
       " 'chr1:4984029 [\"C\",\"G\"]': 0.0005945582357822966,\n",
       " 'chr1:4986950 [\"C\",\"T\"]': 0.011089276582646359,\n",
       " 'chr1:5016738 [\"C\",\"CGTTTGTTT\"]': 0.000571734198526907,\n",
       " 'chr1:5021453 [\"A\",\"T\"]': -0.0021368573000096814,\n",
       " 'chr1:5024856 [\"AAAC\",\"A\"]': 0.020647745826672052,\n",
       " 'chr1:5030655 [\"C\",\"T\"]': 0.05432383708438636,\n",
       " 'chr1:5030802 [\"AC\",\"A\"]': 0.029354546395938257,\n",
       " 'chr1:5030937 [\"A\",\"G\"]': 0.027989478824261404,\n",
       " 'chr1:5031172 [\"G\",\"C\"]': 0.02957265814743933,\n",
       " 'chr1:5031767 [\"A\",\"G\"]': 0.017766591780288766,\n",
       " 'chr1:5035802 [\"C\",\"T\"]': 0.03635298184040415,\n",
       " 'chr1:5043561 [\"A\",\"G\"]': 0.005851466118882062,\n",
       " 'chr1:5051418 [\"G\",\"A\"]': 0.013397356804939056,\n",
       " 'chr1:5076584 [\"T\",\"C\"]': 0.0046636401862498135,\n",
       " 'chr1:5076783 [\"T\",\"A\"]': 0.0015115022949883019,\n",
       " 'chr1:5076784 [\"T\",\"A\"]': 0.040983608857884234,\n",
       " 'chr1:5077161 [\"C\",\"G\"]': -0.0021009266650377782,\n",
       " 'chr1:5078193 [\"G\",\"T\"]': -0.0001400420232853274,\n",
       " 'chr1:5078732 [\"T\",\"C\"]': -0.0017391145612946995,\n",
       " 'chr1:5080232 [\"G\",\"T\"]': 0.018861312202904254,\n",
       " 'chr1:5089006 [\"A\",\"T\"]': 0.05751156331848891,\n",
       " 'chr1:5100671 [\"T\",\"G\"]': 0.0035176385141603306,\n",
       " 'chr1:5106606 [\"T\",\"A\"]': 0.00029136824551004645,\n",
       " 'chr1:5111934 [\"T\",\"A\"]': -0.0008952850982423202,\n",
       " 'chr1:5115399 [\"G\",\"A\"]': 0.015365249845408059,\n",
       " 'chr1:5116114 [\"T\",\"C\"]': 0.025332246657555308,\n",
       " 'chr1:5120760 [\"A\",\"G\"]': 0.02855320266208592,\n",
       " 'chr1:5133613 [\"C\",\"T\"]': 0.0008326458348122704,\n",
       " 'chr1:5155225 [\"A\",\"G\"]': 0.00434622076621157,\n",
       " 'chr1:5165092 [\"G\",\"A\"]': 0.005814007292576443,\n",
       " 'chr1:5166745 [\"G\",\"A\"]': -0.00030228472877904275,\n",
       " 'chr1:5167063 [\"A\",\"G\"]': 0.004638938262269036,\n",
       " 'chr1:5183281 [\"A\",\"G\"]': 0.04400051440031913,\n",
       " 'chr1:5188481 [\"T\",\"C\"]': 0.05027588024208411,\n",
       " 'chr1:5193472 [\"T\",\"C\"]': 0.009012693602689132,\n",
       " 'chr1:5196206 [\"G\",\"C\"]': 0.012833691075901514,\n",
       " 'chr1:5208531 [\"G\",\"T\"]': 0.0638296855306675,\n",
       " 'chr1:5222491 [\"T\",\"C\"]': 0.030905967797446563,\n",
       " 'chr1:5237827 [\"T\",\"C\"]': -0.00017706665112974748,\n",
       " 'chr1:5251254 [\"T\",\"C\"]': -0.0008806093432359792,\n",
       " 'chr1:5251324 [\"T\",\"C\"]': 0.04622764644436834,\n",
       " 'chr1:5251978 [\"C\",\"A\"]': 0.003344155180371813,\n",
       " 'chr1:5252035 [\"TG\",\"T\"]': 0.005903074365191602,\n",
       " 'chr1:5253385 [\"C\",\"A\"]': 0.04503707824339588,\n",
       " 'chr1:5256753 [\"G\",\"C\"]': 0.02459575824463537,\n",
       " 'chr1:5258011 [\"C\",\"G\"]': 0.021197398230384464,\n",
       " 'chr1:5258492 [\"C\",\"T\"]': -0.0007873288421157622,\n",
       " 'chr1:5258890 [\"A\",\"T\"]': 0.06951407919853944,\n",
       " 'chr1:5265402 [\"G\",\"C\"]': 0.012453138284166013,\n",
       " 'chr1:5270807 [\"G\",\"C\"]': 0.001530439533924064,\n",
       " 'chr1:5278227 [\"T\",\"G\"]': 0.048597951838323716,\n",
       " 'chr1:5287919 [\"C\",\"A\"]': 0.00381748570802593,\n",
       " 'chr1:5289556 [\"G\",\"A\"]': 0.0008045514684754632,\n",
       " 'chr1:5294339 [\"G\",\"T\"]': 0.09295048775998527,\n",
       " 'chr1:5298199 [\"C\",\"G\"]': 0.049468417126241254,\n",
       " 'chr1:5298324 [\"A\",\"G\"]': -0.0020585452050248237,\n",
       " 'chr1:5301887 [\"C\",\"A\"]': 0.05016135208995026,\n",
       " 'chr1:5302285 [\"A\",\"G\"]': -0.000806799581249198,\n",
       " 'chr1:5302568 [\"G\",\"A\"]': 0.07823724177308322,\n",
       " 'chr1:5328116 [\"C\",\"T\"]': 0.0011624077107763777,\n",
       " 'chr1:5343766 [\"TGG\",\"T\"]': -0.001352931722256771,\n",
       " 'chr1:5344793 [\"A\",\"G\"]': 0.029971766890945724,\n",
       " 'chr1:5386831 [\"A\",\"ATG\"]': 0.037506940714527884,\n",
       " 'chr1:5387868 [\"A\",\"T\"]': 0.05885143466537569,\n",
       " 'chr1:5401803 [\"T\",\"C\"]': 0.04519971890156262,\n",
       " 'chr1:5404213 [\"T\",\"C\"]': 0.03342545445424399,\n",
       " 'chr1:5404272 [\"T\",\"C\"]': -0.0021358884986059493,\n",
       " 'chr1:5415199 [\"G\",\"C\"]': 0.0032428704619159145,\n",
       " 'chr1:5415272 [\"G\",\"A\"]': 0.0031515044357159,\n",
       " 'chr1:5415422 [\"C\",\"T\"]': 0.05305217156652643,\n",
       " 'chr1:5428743 [\"G\",\"A\"]': -0.0008355437446698433,\n",
       " 'chr1:5431416 [\"C\",\"CA\"]': 0.014187899177612156,\n",
       " 'chr1:5444493 [\"G\",\"A\"]': 0.02465594045274739,\n",
       " 'chr1:5459462 [\"A\",\"C\"]': 0.07030672502720078,\n",
       " 'chr1:5474888 [\"T\",\"G\"]': -3.259985311365856e-05,\n",
       " 'chr1:5480747 [\"A\",\"C\"]': 0.006326809959060532,\n",
       " 'chr1:5481145 [\"C\",\"A\"]': 0.1567544093038961,\n",
       " 'chr1:5481712 [\"A\",\"C\"]': -0.0007774477080817358,\n",
       " 'chr1:5481957 [\"G\",\"A\"]': 0.009121549465739325,\n",
       " 'chr1:5482647 [\"A\",\"G\"]': 0.000571734198526907,\n",
       " 'chr1:5514835 [\"A\",\"G\"]': 0.02747175521747404,\n",
       " 'chr1:5515098 [\"G\",\"A\"]': -0.0009116215514848045,\n",
       " 'chr1:5515677 [\"A\",\"C\"]': 0.049175602704809106,\n",
       " 'chr1:5527190 [\"A\",\"G\"]': 0.0067440651354858695,\n",
       " 'chr1:5538108 [\"T\",\"C\"]': 0.017898152367445547,\n",
       " 'chr1:5553707 [\"G\",\"A\"]': -0.0018772301183616073,\n",
       " 'chr1:5566115 [\"T\",\"C\"]': 0.018107810704135474,\n",
       " 'chr1:5568297 [\"C\",\"T\"]': 0.017423329943189427,\n",
       " 'chr1:5571302 [\"T\",\"A\"]': -0.001941412996909753,\n",
       " 'chr1:5571485 [\"A\",\"T\"]': 0.02983564214055049,\n",
       " 'chr1:5572869 [\"G\",\"C\"]': 0.004889974547663582,\n",
       " 'chr1:5576281 [\"G\",\"C\"]': 0.1047441870096894,\n",
       " 'chr1:5578613 [\"C\",\"G\"]': 0.002584370566108464,\n",
       " 'chr1:5578942 [\"G\",\"A\"]': 0.006077658997060694,\n",
       " 'chr1:5579124 [\"A\",\"G\"]': 0.08422829573849928,\n",
       " 'chr1:5580272 [\"C\",\"G\"]': -0.001996164163266167,\n",
       " 'chr1:5581725 [\"T\",\"C\"]': 0.06015652043125685,\n",
       " 'chr1:5585652 [\"G\",\"A\"]': 0.011145101255819514,\n",
       " 'chr1:5586044 [\"G\",\"T\"]': -0.0016065209278129907,\n",
       " 'chr1:5591614 [\"T\",\"C\"]': 0.07255628005169827,\n",
       " 'chr1:5597741 [\"T\",\"G\"]': -0.0014145127454008569,\n",
       " 'chr1:5602604 [\"T\",\"C\"]': 0.03174880526603288,\n",
       " 'chr1:5602685 [\"C\",\"T\"]': 0.019294418541145133,\n",
       " 'chr1:5602712 [\"A\",\"G\"]': 0.029845955039061307,\n",
       " 'chr1:5605710 [\"T\",\"C\"]': -0.0003544702339722018,\n",
       " 'chr1:5617715 [\"T\",\"C\"]': -0.0011060590893557393,\n",
       " 'chr1:5618890 [\"T\",\"C\"]': 0.01299809521989902,\n",
       " 'chr1:5619058 [\"A\",\"C\"]': 0.0006616263148977575,\n",
       " 'chr1:5620748 [\"A\",\"G\"]': 0.03892762277912982,\n",
       " 'chr1:5620866 [\"C\",\"T\"]': 0.038859649807137076,\n",
       " 'chr1:5623447 [\"G\",\"T\"]': -0.002124520420057805,\n",
       " 'chr1:5630793 [\"C\",\"G\"]': 0.052422737454147515,\n",
       " 'chr1:5632295 [\"T\",\"TCAGGAAATATCACTCCTCGGGGG\"]': 0.025965273964030394,\n",
       " 'chr1:5649168 [\"C\",\"A\"]': 0.032885909526634304,\n",
       " 'chr1:5649668 [\"C\",\"T\"]': -0.0014018082919267216,\n",
       " 'chr1:5656800 [\"T\",\"C\"]': 0.13091270704399297,\n",
       " 'chr1:5660004 [\"A\",\"G\"]': 0.05687775995236757,\n",
       " 'chr1:5663503 [\"G\",\"C\"]': 0.09910097203890045,\n",
       " 'chr1:5666767 [\"T\",\"A\"]': 0.09219315205661391,\n",
       " 'chr1:5671494 [\"CTT\",\"C\"]': 0.002157668194761163,\n",
       " 'chr1:5677259 [\"T\",\"C\"]': 0.05353871825107543,\n",
       " 'chr1:5677636 [\"A\",\"C\"]': 0.020097539296671373,\n",
       " 'chr1:5683449 [\"A\",\"G\"]': 0.034343837278648356,\n",
       " 'chr1:5689023 [\"G\",\"A\"]': -0.0021062056571616783,\n",
       " 'chr1:5689953 [\"G\",\"A\"]': 0.01325745945061845,\n",
       " 'chr1:5691531 [\"A\",\"G\"]': 0.016388633118327237,\n",
       " 'chr1:5705087 [\"C\",\"T\"]': -0.0014749270278933025,\n",
       " 'chr1:5706219 [\"G\",\"A\"]': 0.05465092737587128,\n",
       " 'chr1:5722667 [\"G\",\"A\"]': -0.0004119458793056703,\n",
       " 'chr1:5723072 [\"T\",\"C\"]': 0.123973344548026,\n",
       " 'chr1:5726264 [\"G\",\"A\"]': 0.0012149832113272216,\n",
       " 'chr1:5728064 [\"C\",\"T\"]': 0.00632092224467534,\n",
       " 'chr1:5751222 [\"G\",\"A\"]': 0.010347286132279565,\n",
       " 'chr1:5751483 [\"A\",\"G\"]': 0.09409138177428028,\n",
       " 'chr1:5767880 [\"G\",\"A\"]': 0.08448440567482987,\n",
       " 'chr1:5779872 [\"C\",\"T\"]': 0.004391251567265859,\n",
       " 'chr1:5787179 [\"C\",\"T\"]': 0.04909565376600483,\n",
       " 'chr1:5798883 [\"G\",\"T\"]': -0.0020996972128927258,\n",
       " 'chr1:5803266 [\"A\",\"AACACACAC\"]': 0.023900924014737937,\n",
       " 'chr1:5821983 [\"G\",\"A\"]': 0.06639904109816173,\n",
       " 'chr1:5832118 [\"G\",\"C\"]': 0.010517061319022468,\n",
       " 'chr1:5832554 [\"TTC\",\"T\"]': 0.04930440020534458,\n",
       " 'chr1:5839254 [\"T\",\"C\"]': 0.048093207930974206,\n",
       " 'chr1:5841228 [\"T\",\"C\"]': 0.01656495718929595,\n",
       " 'chr1:5841912 [\"T\",\"C\"]': 0.07825530466554713,\n",
       " 'chr1:5850941 [\"C\",\"T\"]': -0.001959228237792708,\n",
       " 'chr1:5854043 [\"C\",\"T\"]': 0.018107810704135474,\n",
       " 'chr1:5854232 [\"A\",\"G\"]': 0.03861695566487261,\n",
       " 'chr1:5854555 [\"G\",\"A\"]': 0.014392137708570438,\n",
       " 'chr1:5855773 [\"G\",\"A\"]': -0.0020688494416996306,\n",
       " 'chr1:5856103 [\"T\",\"C\"]': 0.016015822555703604,\n",
       " 'chr1:5875102 [\"T\",\"A\"]': 0.011511073350044875,\n",
       " 'chr1:5875162 [\"T\",\"C\"]': 0.007597592990833965,\n",
       " 'chr1:5875334 [\"G\",\"GT\"]': 0.027284388212971473,\n",
       " 'chr1:5875610 [\"C\",\"G\"]': -0.0018563067857526175,\n",
       " 'chr1:5896849 [\"C\",\"A\"]': 0.018833266211910143,\n",
       " 'chr1:5947386 [\"C\",\"T\"]': -0.0006082386892236654,\n",
       " 'chr1:5947414 [\"G\",\"A\"]': 0.03692541143847158,\n",
       " 'chr1:5951717 [\"G\",\"A\"]': 0.09706945087036524,\n",
       " 'chr1:5980650 [\"C\",\"T\"]': 0.04147177004910009,\n",
       " 'chr1:6007201 [\"T\",\"TG\"]': -0.0017347674387789543,\n",
       " 'chr1:6015862 [\"G\",\"A\"]': 0.017806994722443566,\n",
       " 'chr1:6017406 [\"C\",\"CTG\"]': 0.03597332436475089,\n",
       " 'chr1:6017406 [\"CTGTG\",\"C\"]': 0.012691884122823642,\n",
       " 'chr1:6040253 [\"A\",\"G\"]': 0.04230149759693242,\n",
       " 'chr1:6043942 [\"T\",\"C\"]': 0.021126489849648388,\n",
       " 'chr1:6043969 [\"A\",\"G\"]': 0.009300918077712307,\n",
       " 'chr1:6044170 [\"T\",\"C\"]': 0.13650613351735022,\n",
       " 'chr1:6078496 [\"C\",\"A\"]': 0.0035840467579613543,\n",
       " 'chr1:6078599 [\"C\",\"T\"]': 0.05640305644165835,\n",
       " 'chr1:6078882 [\"G\",\"C\"]': -0.0019868275529741123,\n",
       " 'chr1:6079473 [\"T\",\"C\"]': 0.004976696515362065,\n",
       " 'chr1:6080494 [\"G\",\"A\"]': 0.03690591257184857,\n",
       " 'chr1:6081265 [\"G\",\"A\"]': 0.00632680995906059,\n",
       " 'chr1:6084634 [\"A\",\"G\"]': 0.08117675489922964,\n",
       " 'chr1:6084675 [\"G\",\"A\"]': 0.026673552378944795,\n",
       " 'chr1:6085305 [\"A\",\"G\"]': 0.0007287583303166252,\n",
       " 'chr1:6085347 [\"G\",\"A\"]': 0.00024235065674314674,\n",
       " 'chr1:6085623 [\"A\",\"G\"]': 0.02087726829908285,\n",
       " 'chr1:6097222 [\"C\",\"T\"]': -0.002131170022293564,\n",
       " 'chr1:6102541 [\"T\",\"C\"]': 0.015174713424361694,\n",
       " 'chr1:6122261 [\"A\",\"G\"]': 0.03380726538451297,\n",
       " 'chr1:6141658 [\"C\",\"T\"]': 0.0016569204143656352,\n",
       " 'chr1:6144162 [\"C\",\"G\"]': 0.005946801832227307,\n",
       " 'chr1:6147157 [\"T\",\"C\"]': 0.10677692290669283,\n",
       " 'chr1:6160974 [\"G\",\"T\"]': -0.0014657389723032686,\n",
       " 'chr1:6162301 [\"G\",\"A\"]': 0.0015805281404646988,\n",
       " 'chr1:6162441 [\"C\",\"A\"]': 0.026406270131046395,\n",
       " 'chr1:6177045 [\"A\",\"C\"]': 0.05365291513658533,\n",
       " 'chr1:6183672 [\"T\",\"A\"]': 0.05419708133466614,\n",
       " 'chr1:6197766 [\"T\",\"C\"]': 0.0202540246734066,\n",
       " 'chr1:6198734 [\"A\",\"G\"]': 0.018399094740731245,\n",
       " 'chr1:6204712 [\"T\",\"C\"]': 0.024593403664888595,\n",
       " 'chr1:6209280 [\"A\",\"G\"]': 0.07390940430606799,\n",
       " 'chr1:6210151 [\"A\",\"C\"]': 0.051484490864283305,\n",
       " 'chr1:6223329 [\"G\",\"C\"]': 0.09637567816005313,\n",
       " 'chr1:6231687 [\"A\",\"T\"]': 0.03174880526603288,\n",
       " 'chr1:6240444 [\"G\",\"C\"]': 0.0008821309013815514,\n",
       " 'chr1:6243564 [\"C\",\"T\"]': -0.0012878428685164365,\n",
       " 'chr1:6262459 [\"G\",\"C\"]': 0.010517061319022468,\n",
       " 'chr1:6264017 [\"A\",\"G\"]': 0.006477325738562552,\n",
       " 'chr1:6268423 [\"A\",\"G\"]': 0.017511999879056567,\n",
       " 'chr1:6269929 [\"C\",\"T\"]': 0.0038360398321409,\n",
       " 'chr1:6269955 [\"T\",\"C\"]': 0.029108005119030948,\n",
       " 'chr1:6272849 [\"T\",\"C\"]': 0.022071375195061225,\n",
       " 'chr1:6276541 [\"G\",\"C\"]': 0.03232639259103318,\n",
       " 'chr1:6307159 [\"T\",\"G\"]': 0.03830646282397394,\n",
       " 'chr1:6314000 [\"C\",\"T\"]': 0.12521449522827366,\n",
       " 'chr1:6440984 [\"C\",\"G\"]': 0.01834173387653134,\n",
       " 'chr1:6463518 [\"T\",\"A\"]': 0.04814944955506854,\n",
       " 'chr1:6463542 [\"C\",\"T\"]': -0.0013159629489035017,\n",
       " 'chr1:6465860 [\"C\",\"T\"]': 0.008811794157833062,\n",
       " 'chr1:6480956 [\"G\",\"A\"]': 0.1113056065170922,\n",
       " 'chr1:6481110 [\"C\",\"T\"]': 0.007011883896178795,\n",
       " 'chr1:6500979 [\"C\",\"T\"]': 0.03631811179618521,\n",
       " 'chr1:6502431 [\"A\",\"C\"]': -0.0001015400716071728,\n",
       " 'chr1:6503007 [\"G\",\"A\"]': -0.0021227004183307623,\n",
       " 'chr1:6503661 [\"C\",\"T\"]': 0.06495984069563843,\n",
       " 'chr1:6504081 [\"G\",\"T\"]': 0.02205647538722111,\n",
       " 'chr1:6509831 [\"C\",\"T\"]': 0.0519457071732244,\n",
       " 'chr1:6518052 [\"C\",\"T\"]': 0.0736822850301094,\n",
       " 'chr1:6524167 [\"G\",\"C\"]': -0.0010740704031910612,\n",
       " 'chr1:6556385 [\"T\",\"TTCTA\"]': 0.09942505116417032,\n",
       " 'chr1:6568959 [\"A\",\"AG\"]': -0.0015566215699163528,\n",
       " 'chr1:6573170 [\"G\",\"A\"]': 0.04540976624030773,\n",
       " 'chr1:6580376 [\"TC\",\"T\"]': 0.010006354277817615,\n",
       " 'chr1:6586899 [\"GCCTGCCTTC\",\"G\"]': 0.008882261007030618,\n",
       " 'chr1:6623074 [\"T\",\"C\"]': 0.09181042864102334,\n",
       " 'chr1:6641918 [\"T\",\"C\"]': 0.011420099350567581,\n",
       " 'chr1:6743432 [\"G\",\"T\"]': 0.02369175915250853,\n",
       " 'chr1:6786419 [\"T\",\"G\"]': 0.028672270893839922,\n",
       " 'chr1:6791251 [\"G\",\"GT\"]': 0.025153215097349173,\n",
       " 'chr1:6813872 [\"T\",\"C\"]': 0.050379485528268236,\n",
       " 'chr1:6853421 [\"T\",\"G\"]': 0.00434622076621157,\n",
       " 'chr1:6908948 [\"C\",\"T\"]': -0.0018104749775998217,\n",
       " 'chr1:6916448 [\"TC\",\"T\"]': -0.0021033690510520596,\n",
       " 'chr1:6921427 [\"A\",\"G\"]': 0.02356280716990641,\n",
       " 'chr1:6943715 [\"C\",\"T\"]': -0.0009443178021316245,\n",
       " 'chr1:6955284 [\"T\",\"C\"]': 0.088019968385925,\n",
       " 'chr1:6976742 [\"A\",\"G\"]': 0.047487047737180946,\n",
       " 'chr1:6977525 [\"A\",\"G\"]': 0.007666475522053616,\n",
       " 'chr1:6979668 [\"C\",\"T\"]': 0.020511477260802147,\n",
       " 'chr1:7007909 [\"C\",\"T\"]': 0.036011140284049455,\n",
       " 'chr1:7019197 [\"G\",\"T\"]': 0.0038662832912987406,\n",
       " 'chr1:7032369 [\"C\",\"G\"]': -0.0010419873057671207,\n",
       " 'chr1:7035162 [\"G\",\"C\"]': 0.04007576002912727,\n",
       " 'chr1:7053847 [\"T\",\"G\"]': 0.06337716787716599,\n",
       " 'chr1:7068406 [\"C\",\"T\"]': -0.000757601994923748,\n",
       " 'chr1:7069445 [\"G\",\"A\"]': -0.0018289814647319705,\n",
       " 'chr1:7069560 [\"T\",\"A\"]': 0.015418072485366866,\n",
       " 'chr1:7070909 [\"T\",\"C\"]': -0.0006021807327068791,\n",
       " 'chr1:7075208 [\"A\",\"G\"]': 0.06385796043508787,\n",
       " 'chr1:7075312 [\"A\",\"G\"]': 0.020041591778373405,\n",
       " 'chr1:7078234 [\"T\",\"G\"]': -0.001559112767594517,\n",
       " 'chr1:7098099 [\"T\",\"TTG\"]': -0.0013720807900040187,\n",
       " 'chr1:7107278 [\"A\",\"ATGTGTGTGTG\"]': 0.03819111210494005,\n",
       " 'chr1:7107278 [\"A\",\"ATGTGTGTGTGTG\"]': 0.05465092737587128,\n",
       " 'chr1:7110279 [\"C\",\"T\"]': 0.0018384939352322658,\n",
       " 'chr1:7110659 [\"A\",\"G\"]': -0.001864314994764351,\n",
       " 'chr1:7110990 [\"G\",\"A\"]': 0.04188101243668879,\n",
       " 'chr1:7112129 [\"G\",\"A\"]': 0.025755345120591078,\n",
       " 'chr1:7121132 [\"A\",\"G\"]': 0.008289935069493909,\n",
       " 'chr1:7125025 [\"G\",\"A\"]': 0.0064568736670389815,\n",
       " 'chr1:7136885 [\"C\",\"T\"]': 0.049175602704809106,\n",
       " 'chr1:7140965 [\"C\",\"G\"]': 0.06749291249717226,\n",
       " 'chr1:7145890 [\"C\",\"T\"]': 0.0022723817999675076,\n",
       " 'chr1:7151280 [\"T\",\"G\"]': 0.055051693282245275,\n",
       " 'chr1:7161398 [\"T\",\"C\"]': -0.0020968625482027385,\n",
       " 'chr1:7176750 [\"A\",\"G\"]': -0.0014566750292984937,\n",
       " 'chr1:7187275 [\"G\",\"A\"]': -0.001907390251255594,\n",
       " 'chr1:7187316 [\"T\",\"C\"]': 0.0927269315325686,\n",
       " 'chr1:7187919 [\"T\",\"C\"]': 0.023371922409404798,\n",
       " 'chr1:7188154 [\"G\",\"A\"]': 0.019718721398837222,\n",
       " 'chr1:7190462 [\"T\",\"C\"]': 0.05527910684731314,\n",
       " 'chr1:7192306 [\"C\",\"T\"]': 0.03499838297773573,\n",
       " 'chr1:7192601 [\"A\",\"C\"]': 0.1117636770942543,\n",
       " 'chr1:7209089 [\"T\",\"TTTG\"]': 0.015285354566765113,\n",
       " 'chr1:7212911 [\"G\",\"A\"]': 0.02855619140879948,\n",
       " 'chr1:7231327 [\"A\",\"ATGTGTG\"]': 0.06282606236093244,\n",
       " 'chr1:7264403 [\"A\",\"G\"]': 0.007541005616594686,\n",
       " 'chr1:7264899 [\"C\",\"A\"]': 0.0012355641893482025,\n",
       " 'chr1:7265195 [\"A\",\"G\"]': 0.023469979651905684,\n",
       " 'chr1:7265596 [\"G\",\"C\"]': 0.00618107842568614,\n",
       " 'chr1:7283306 [\"C\",\"T\"]': 0.02137125203028648,\n",
       " 'chr1:7289946 [\"T\",\"C\"]': 0.018705653407513772,\n",
       " 'chr1:7307129 [\"G\",\"A\"]': 0.04371257451450977,\n",
       " 'chr1:7308769 [\"T\",\"C\"]': 0.010678259906522517,\n",
       " 'chr1:7342420 [\"T\",\"C\"]': 0.031423100006619985,\n",
       " 'chr1:7371601 [\"T\",\"G\"]': 0.11361521326275809,\n",
       " 'chr1:7382830 [\"T\",\"TGATA\"]': -0.0007984957153939794,\n",
       " 'chr1:7391328 [\"A\",\"AGT\"]': 0.05594915689410841,\n",
       " 'chr1:7391328 [\"A\",\"AGTGTGT\"]': 0.003738174770017226,\n",
       " 'chr1:7408301 [\"G\",\"C\"]': 0.03982880217503046,\n",
       " 'chr1:7408978 [\"A\",\"G\"]': 0.00034713497292454656,\n",
       " 'chr1:7425246 [\"C\",\"T\"]': 0.015142665724381329,\n",
       " 'chr1:7428293 [\"G\",\"C\"]': 0.00603219960914214,\n",
       " 'chr1:7429435 [\"G\",\"A\"]': 0.007032048419572491,\n",
       " 'chr1:7429873 [\"C\",\"G\"]': 0.030366629500885423,\n",
       " 'chr1:7430494 [\"T\",\"A\"]': 0.04372507587174474,\n",
       " 'chr1:7430948 [\"A\",\"G\"]': 0.013963217390458367,\n",
       " 'chr1:7431364 [\"G\",\"C\"]': 0.038794073200517656,\n",
       " 'chr1:7431668 [\"A\",\"C\"]': 0.0798819763521827,\n",
       " 'chr1:7434451 [\"CCATTCATT\",\"C\"]': 0.04595680335868572,\n",
       " 'chr1:7449612 [\"A\",\"G\"]': 0.05609985770889026,\n",
       " 'chr1:7450002 [\"A\",\"G\"]': -0.001682423016785915,\n",
       " 'chr1:7451118 [\"G\",\"C\"]': 0.011119977742485227,\n",
       " 'chr1:7451774 [\"A\",\"C\"]': 0.023091045763328596,\n",
       " 'chr1:7452597 [\"G\",\"A\"]': -0.0005365870575857158,\n",
       " 'chr1:7452970 [\"A\",\"G\"]': 0.008578349135930547,\n",
       " 'chr1:7453203 [\"G\",\"A\"]': -0.001252534929158607,\n",
       " 'chr1:7456687 [\"C\",\"G\"]': 0.03958956245685316,\n",
       " 'chr1:7460069 [\"C\",\"T\"]': 0.015968663178549048,\n",
       " ...}"
      ]
     },
     "execution_count": 331,
     "metadata": {},
     "output_type": "execute_result"
    }
   ],
   "source": [
    "key_FST"
   ]
  },
  {
   "cell_type": "code",
   "execution_count": 295,
   "metadata": {},
   "outputs": [
    {
     "name": "stdout",
     "output_type": "stream",
     "text": [
      "True\n",
      "True\n"
     ]
    }
   ],
   "source": [
    "# sanity checks \n",
    "print(all(np.array(list(key_FST.values())) == FST_val)) # True \n",
    "print(len(key_FST) == len(FST_val)) # True"
   ]
  },
  {
   "cell_type": "markdown",
   "metadata": {},
   "source": [
    "## *other pair*"
   ]
  },
  {
   "cell_type": "markdown",
   "metadata": {},
   "source": [
    "### population 3"
   ]
  },
  {
   "cell_type": "code",
   "execution_count": 296,
   "metadata": {},
   "outputs": [
    {
     "data": {
      "text/html": [
       "<table><thead><tr><td style=\"white-space: nowrap; max-width: 500px; overflow: hidden; text-overflow: ellipsis; \" colspan=\"1\"><div style=\"text-align: left;\"></div></td><td style=\"white-space: nowrap; max-width: 500px; overflow: hidden; text-overflow: ellipsis; \" colspan=\"1\"><div style=\"text-align: left;\"></div></td><td style=\"white-space: nowrap; max-width: 500px; overflow: hidden; text-overflow: ellipsis; \" colspan=\"1\"><div style=\"text-align: left;\"></div></td><td style=\"white-space: nowrap; max-width: 500px; overflow: hidden; text-overflow: ellipsis; \" colspan=\"1\"><div style=\"text-align: left;\"></div></td><td style=\"white-space: nowrap; max-width: 500px; overflow: hidden; text-overflow: ellipsis; \" colspan=\"1\"><div style=\"text-align: left;\"></div></td></tr><tr><td style=\"white-space: nowrap; max-width: 500px; overflow: hidden; text-overflow: ellipsis; \" colspan=\"1\"><div style=\"text-align: left;border-bottom: solid 2px #000; padding-bottom: 5px\">locus</div></td><td style=\"white-space: nowrap; max-width: 500px; overflow: hidden; text-overflow: ellipsis; \" colspan=\"1\"><div style=\"text-align: left;border-bottom: solid 2px #000; padding-bottom: 5px\">alleles</div></td><td style=\"white-space: nowrap; max-width: 500px; overflow: hidden; text-overflow: ellipsis; \" colspan=\"1\"><div style=\"text-align: left;border-bottom: solid 2px #000; padding-bottom: 5px\">AF</div></td><td style=\"white-space: nowrap; max-width: 500px; overflow: hidden; text-overflow: ellipsis; \" colspan=\"1\"><div style=\"text-align: left;border-bottom: solid 2px #000; padding-bottom: 5px\">AN</div></td><td style=\"white-space: nowrap; max-width: 500px; overflow: hidden; text-overflow: ellipsis; \" colspan=\"1\"><div style=\"text-align: left;border-bottom: solid 2px #000; padding-bottom: 5px\">pop</div></td></tr><tr><td style=\"white-space: nowrap; max-width: 500px; overflow: hidden; text-overflow: ellipsis; text-align: left;\">locus&lt;GRCh38&gt;</td><td style=\"white-space: nowrap; max-width: 500px; overflow: hidden; text-overflow: ellipsis; text-align: left;\">array&lt;str&gt;</td><td style=\"white-space: nowrap; max-width: 500px; overflow: hidden; text-overflow: ellipsis; text-align: left;\">float64</td><td style=\"white-space: nowrap; max-width: 500px; overflow: hidden; text-overflow: ellipsis; text-align: left;\">int32</td><td style=\"white-space: nowrap; max-width: 500px; overflow: hidden; text-overflow: ellipsis; text-align: left;\">str</td></tr>\n",
       "</thead><tbody><tr><td style=\"white-space: nowrap; max-width: 500px; overflow: hidden; text-overflow: ellipsis; \">chr1:16487</td><td style=\"white-space: nowrap; max-width: 500px; overflow: hidden; text-overflow: ellipsis; \">[&quot;T&quot;,&quot;C&quot;]</td><td style=\"white-space: nowrap; max-width: 500px; overflow: hidden; text-overflow: ellipsis; \">5.71e-03</td><td style=\"white-space: nowrap; max-width: 500px; overflow: hidden; text-overflow: ellipsis; \">350</td><td style=\"white-space: nowrap; max-width: 500px; overflow: hidden; text-overflow: ellipsis; \">&quot;YRI&quot;</td></tr>\n",
       "<tr><td style=\"white-space: nowrap; max-width: 500px; overflow: hidden; text-overflow: ellipsis; \">chr1:133160</td><td style=\"white-space: nowrap; max-width: 500px; overflow: hidden; text-overflow: ellipsis; \">[&quot;G&quot;,&quot;A&quot;]</td><td style=\"white-space: nowrap; max-width: 500px; overflow: hidden; text-overflow: ellipsis; \">1.81e-01</td><td style=\"white-space: nowrap; max-width: 500px; overflow: hidden; text-overflow: ellipsis; \">348</td><td style=\"white-space: nowrap; max-width: 500px; overflow: hidden; text-overflow: ellipsis; \">&quot;YRI&quot;</td></tr>\n",
       "<tr><td style=\"white-space: nowrap; max-width: 500px; overflow: hidden; text-overflow: ellipsis; \">chr1:138593</td><td style=\"white-space: nowrap; max-width: 500px; overflow: hidden; text-overflow: ellipsis; \">[&quot;G&quot;,&quot;T&quot;]</td><td style=\"white-space: nowrap; max-width: 500px; overflow: hidden; text-overflow: ellipsis; \">5.43e-02</td><td style=\"white-space: nowrap; max-width: 500px; overflow: hidden; text-overflow: ellipsis; \">350</td><td style=\"white-space: nowrap; max-width: 500px; overflow: hidden; text-overflow: ellipsis; \">&quot;YRI&quot;</td></tr>\n",
       "<tr><td style=\"white-space: nowrap; max-width: 500px; overflow: hidden; text-overflow: ellipsis; \">chr1:736852</td><td style=\"white-space: nowrap; max-width: 500px; overflow: hidden; text-overflow: ellipsis; \">[&quot;C&quot;,&quot;T&quot;]</td><td style=\"white-space: nowrap; max-width: 500px; overflow: hidden; text-overflow: ellipsis; \">2.60e-02</td><td style=\"white-space: nowrap; max-width: 500px; overflow: hidden; text-overflow: ellipsis; \">346</td><td style=\"white-space: nowrap; max-width: 500px; overflow: hidden; text-overflow: ellipsis; \">&quot;YRI&quot;</td></tr>\n",
       "<tr><td style=\"white-space: nowrap; max-width: 500px; overflow: hidden; text-overflow: ellipsis; \">chr1:771265</td><td style=\"white-space: nowrap; max-width: 500px; overflow: hidden; text-overflow: ellipsis; \">[&quot;A&quot;,&quot;C&quot;]</td><td style=\"white-space: nowrap; max-width: 500px; overflow: hidden; text-overflow: ellipsis; \">2.69e-01</td><td style=\"white-space: nowrap; max-width: 500px; overflow: hidden; text-overflow: ellipsis; \">350</td><td style=\"white-space: nowrap; max-width: 500px; overflow: hidden; text-overflow: ellipsis; \">&quot;YRI&quot;</td></tr>\n",
       "</tbody></table><p style=\"background: #fdd; padding: 0.4em;\">showing top 5 rows</p>\n"
      ],
      "text/plain": [
       "+---------------+------------+----------+-------+-------+\n",
       "| locus         | alleles    |       AF |    AN | pop   |\n",
       "+---------------+------------+----------+-------+-------+\n",
       "| locus<GRCh38> | array<str> |  float64 | int32 | str   |\n",
       "+---------------+------------+----------+-------+-------+\n",
       "| chr1:16487    | [\"T\",\"C\"]  | 5.71e-03 |   350 | \"YRI\" |\n",
       "| chr1:133160   | [\"G\",\"A\"]  | 1.81e-01 |   348 | \"YRI\" |\n",
       "| chr1:138593   | [\"G\",\"T\"]  | 5.43e-02 |   350 | \"YRI\" |\n",
       "| chr1:736852   | [\"C\",\"T\"]  | 2.60e-02 |   346 | \"YRI\" |\n",
       "| chr1:771265   | [\"A\",\"C\"]  | 2.69e-01 |   350 | \"YRI\" |\n",
       "+---------------+------------+----------+-------+-------+\n",
       "showing top 5 rows"
      ]
     },
     "metadata": {},
     "output_type": "display_data"
    }
   ],
   "source": [
    "# population - YRI\n",
    "# same steps we did to CEU\n",
    "\n",
    "YRI_interm = YRI_var.drop(*list(YRI_var.entry), *list(YRI_var.col)[1:], *list(YRI_var.row)[2:-1])\n",
    "\n",
    "# only select the row field keys (locus and allele) and row fields 'AF' & 'AN' which are under 'variant_qc'\n",
    "YRI_interm2 = YRI_interm.select_rows(YRI_interm['variant_qc']['AF'], YRI_interm['variant_qc']['AN'])  \n",
    "\n",
    "# only include the second entry of the array from the row field 'AF' \n",
    "YRI_interm3 = YRI_interm2.transmute_rows(AF = YRI_interm2.AF[1])\n",
    "\n",
    "# add a row field with population name to keep track of which mt it came from \n",
    "YRI_final = YRI_interm3.annotate_rows(pop = pair_com[0][1])\n",
    "YRI_final.rows().show(5)"
   ]
  },
  {
   "cell_type": "markdown",
   "metadata": {},
   "source": [
    "### *FST*"
   ]
  },
  {
   "cell_type": "code",
   "execution_count": 297,
   "metadata": {},
   "outputs": [],
   "source": [
    "# resetting variables for the actual FST run \n",
    "\n",
    "# assign populations to formula variables \n",
    "pop1 = YRI_final\n",
    "pop2 = CEU_YRI_final\n",
    "\n",
    "# number of alleles \n",
    "n1 = np.array(pop1.AN.collect())\n",
    "n2 = np.array(pop2.AN.collect())\n",
    "\n",
    "# allele frequencies \n",
    "FREQpop1 = np.array(pop1.AF.collect()) \n",
    "FREQpop2 = np.array(pop2.AF.collect())  \n",
    "\n",
    "# locus + alleles = keys - needed for reference purposes - these values are uniform across all populations \n",
    "locus = np.array(hl.str(pop1.locus).collect())\n",
    "alleles = np.array(hl.str(pop1.alleles).collect())\n",
    "key = np.array([i + ' ' + j for i, j in zip(locus, alleles)])"
   ]
  },
  {
   "cell_type": "code",
   "execution_count": 298,
   "metadata": {},
   "outputs": [],
   "source": [
    "s=2   # s is the number of populations - since we are calculating pair-wise FSTs, this is always 2 \n",
    "key_FST_YRI = {}\n",
    "for i in range(len(key)):\n",
    "    FREQ = ((n1[i]*FREQpop1[i]) + (n2[i]*FREQpop2[i])) / (n1[i]+n2[i])\n",
    "    \n",
    "    if (FREQ>0) & (FREQ<1): # only include ave freq between 0 and 1\n",
    "        \n",
    "    ## average sample size that incorporates variance\n",
    "        nc = ((1/(s-1)) * (n1[i]+n2[i])) - ((np.square(n1[i]) + np.square(n2[i]))/(n1[i]+n2[i]))\n",
    "\n",
    "        msa= (1/(s-1))*((n1[i]*(np.square(FREQpop1[i]-FREQ)))+(n2[i]*(np.square(FREQpop2[i]-FREQ))))\n",
    "\n",
    "        msw = (1/((n1[i]-1)+(n2[i]-1))) * ((n1[i]*(FREQpop1[i]*(1-FREQpop1[i]))) + (n2[i]*(FREQpop2[i]*(1-FREQpop2[i]))))\n",
    "\n",
    "        numer = msa-msw\n",
    "\n",
    "        denom = msa + ((nc-1)*msw)\n",
    "\n",
    "        FST = numer/denom\n",
    "        \n",
    "        key_FST_YRI[key[i]] = FST"
   ]
  },
  {
   "cell_type": "code",
   "execution_count": 330,
   "metadata": {},
   "outputs": [
    {
     "data": {
      "text/plain": [
       "{'chr1:16487 [\"T\",\"C\"]': 0.05044941867701216,\n",
       " 'chr1:133160 [\"G\",\"A\"]': 0.0025453980088959126,\n",
       " 'chr1:138593 [\"G\",\"T\"]': 0.002281044043290102,\n",
       " 'chr1:736852 [\"C\",\"T\"]': 0.006465139020490581,\n",
       " 'chr1:771265 [\"A\",\"C\"]': 0.057726365214853366,\n",
       " 'chr1:797421 [\"A\",\"G\"]': 0.033108449717149296,\n",
       " 'chr1:800302 [\"G\",\"C\"]': 0.02049231948972641,\n",
       " 'chr1:807641 [\"T\",\"C\"]': 0.1157238204620783,\n",
       " 'chr1:817186 [\"G\",\"A\"]': 0.1236728005169633,\n",
       " 'chr1:817416 [\"C\",\"T\"]': 0.0066634585718547724,\n",
       " 'chr1:826950 [\"G\",\"T\"]': 0.027738776634440934,\n",
       " 'chr1:841166 [\"A\",\"G\"]': 0.11341414703039004,\n",
       " 'chr1:841852 [\"C\",\"T\"]': 0.03248716489041391,\n",
       " 'chr1:859236 [\"T\",\"C\"]': 0.057726365214853366,\n",
       " 'chr1:861347 [\"G\",\"T\"]': 0.02645791642071565,\n",
       " 'chr1:890030 [\"G\",\"A\"]': 0.048552156289163526,\n",
       " 'chr1:893503 [\"G\",\"A\"]': -0.0021365791011485036,\n",
       " 'chr1:908025 [\"A\",\"G\"]': -0.002112687285265169,\n",
       " 'chr1:910958 [\"A\",\"G\"]': 0.015757663121868555,\n",
       " 'chr1:919397 [\"A\",\"G\"]': 0.0005281259533773563,\n",
       " 'chr1:928119 [\"T\",\"C\"]': 0.01357274187958657,\n",
       " 'chr1:929235 [\"G\",\"A\"]': 0.0033534702172012126,\n",
       " 'chr1:931558 [\"G\",\"A\"]': -0.0016961476265032916,\n",
       " 'chr1:933024 [\"C\",\"T\"]': 0.03238833649981896,\n",
       " 'chr1:953858 [\"G\",\"A\"]': 0.000599205248914047,\n",
       " 'chr1:973693 [\"C\",\"T\"]': 0.015160871939544832,\n",
       " 'chr1:973929 [\"T\",\"C\"]': 0.006191587236337704,\n",
       " 'chr1:974039 [\"C\",\"T\"]': 0.04207902323458796,\n",
       " 'chr1:974175 [\"A\",\"G\"]': 0.05330162197813227,\n",
       " 'chr1:975147 [\"GAGAGA\",\"G\"]': 0.007699847129301084,\n",
       " 'chr1:978812 [\"G\",\"C\"]': 0.018472211033297107,\n",
       " 'chr1:985123 [\"G\",\"A\"]': 0.008548469356593083,\n",
       " 'chr1:999666 [\"G\",\"A\"]': 0.039825677909542084,\n",
       " 'chr1:1001333 [\"G\",\"T\"]': 0.04032919591533245,\n",
       " 'chr1:1024129 [\"T\",\"G\"]': -9.731294177404656e-05,\n",
       " 'chr1:1042813 [\"G\",\"A\"]': 0.053431467826835624,\n",
       " 'chr1:1049467 [\"G\",\"C\"]': 0.03702356332743957,\n",
       " 'chr1:1055137 [\"C\",\"T\"]': -0.002095538973876345,\n",
       " 'chr1:1083324 [\"A\",\"G\"]': 0.00020129194829847843,\n",
       " 'chr1:1091930 [\"AAG\",\"A\"]': 0.0002973528129704299,\n",
       " 'chr1:1092879 [\"C\",\"T\"]': 0.06379266015162784,\n",
       " 'chr1:1100425 [\"G\",\"A\"]': 0.030027888169964156,\n",
       " 'chr1:1103805 [\"C\",\"T\"]': 0.011828223644730768,\n",
       " 'chr1:1110226 [\"A\",\"C\"]': 0.028379276694724467,\n",
       " 'chr1:1127664 [\"A\",\"G\"]': -0.0019828607823256096,\n",
       " 'chr1:1129751 [\"C\",\"A\"]': 0.05109105347372074,\n",
       " 'chr1:1130420 [\"C\",\"T\"]': 0.030990165185054545,\n",
       " 'chr1:1142582 [\"C\",\"T\"]': 0.09201167479458765,\n",
       " 'chr1:1168009 [\"GGGGCGGAGGGCCGAGCGGGGCCAGCAGACGGGTGA\",\"G\"]': 0.029033692643985365,\n",
       " 'chr1:1169204 [\"T\",\"C\"]': 0.0192012873710184,\n",
       " 'chr1:1169858 [\"T\",\"C\"]': 0.011415959504231845,\n",
       " 'chr1:1170341 [\"C\",\"T\"]': 0.03248716489041391,\n",
       " 'chr1:1170681 [\"G\",\"A\"]': 0.014773767710639162,\n",
       " 'chr1:1171093 [\"G\",\"A\"]': 0.2123666131477261,\n",
       " 'chr1:1171404 [\"T\",\"C\"]': 0.008511219733131766,\n",
       " 'chr1:1173138 [\"T\",\"C\"]': 0.007077140067385946,\n",
       " 'chr1:1177602 [\"C\",\"T\"]': 0.08272705749249278,\n",
       " 'chr1:1185978 [\"A\",\"C\"]': 0.0004758395196041909,\n",
       " 'chr1:1195100 [\"G\",\"A\"]': 0.006923256073306031,\n",
       " 'chr1:1200271 [\"C\",\"T\"]': 0.05517933053508228,\n",
       " 'chr1:1208816 [\"T\",\"C\"]': 0.027403741557231624,\n",
       " 'chr1:1220424 [\"T\",\"C\"]': -0.0014522753894888058,\n",
       " 'chr1:1245992 [\"C\",\"T\"]': 0.04347453707062618,\n",
       " 'chr1:1251356 [\"AT\",\"A\"]': -0.0021398115294332266,\n",
       " 'chr1:1258096 [\"G\",\"C\"]': 0.015884697474764436,\n",
       " 'chr1:1304857 [\"C\",\"G\"]': 0.017310481121681525,\n",
       " 'chr1:1409847 [\"G\",\"T\"]': 0.03596251723365173,\n",
       " 'chr1:1411592 [\"G\",\"C\"]': 0.014005331973526984,\n",
       " 'chr1:1438906 [\"C\",\"T\"]': 0.015958783654242345,\n",
       " 'chr1:1451968 [\"C\",\"T\"]': 0.08521860722790325,\n",
       " 'chr1:1517958 [\"C\",\"T\"]': 0.029416521292605764,\n",
       " 'chr1:1522693 [\"A\",\"G\"]': 0.12035346291579233,\n",
       " 'chr1:1534402 [\"G\",\"C\"]': -0.0018328111665263634,\n",
       " 'chr1:1542280 [\"A\",\"G\"]': 0.025988583636969553,\n",
       " 'chr1:1544846 [\"C\",\"T\"]': -0.0015747799576570735,\n",
       " 'chr1:1545968 [\"T\",\"C\"]': -0.001574383659884353,\n",
       " 'chr1:1583446 [\"C\",\"CG\"]': 0.03729188539857124,\n",
       " 'chr1:1583688 [\"A\",\"C\"]': -0.0017219037308662765,\n",
       " 'chr1:1585173 [\"C\",\"T\"]': 0.008820053463446324,\n",
       " 'chr1:1585290 [\"TTTTG\",\"T\"]': 0.08253368497401274,\n",
       " 'chr1:1585589 [\"A\",\"G\"]': 0.020289109506408363,\n",
       " 'chr1:1586962 [\"C\",\"T\"]': 0.048828925550699,\n",
       " 'chr1:1614370 [\"C\",\"A\"]': 0.008591988189150392,\n",
       " 'chr1:1620016 [\"C\",\"T\"]': 0.008570832858553205,\n",
       " 'chr1:1624086 [\"G\",\"A\"]': 0.03454046450191542,\n",
       " 'chr1:1638449 [\"A\",\"G\"]': 0.04762530151470238,\n",
       " 'chr1:1671724 [\"C\",\"T\"]': 0.06054355123605571,\n",
       " 'chr1:1679085 [\"T\",\"C\"]': 0.020654402576997608,\n",
       " 'chr1:1680214 [\"T\",\"C\"]': -0.0016554322507983208,\n",
       " 'chr1:1688102 [\"G\",\"A\"]': 0.0594586342751517,\n",
       " 'chr1:1692535 [\"G\",\"T\"]': 0.030127107076590148,\n",
       " 'chr1:1742587 [\"G\",\"C\"]': 0.1449830137916842,\n",
       " 'chr1:1762287 [\"A\",\"G\"]': 0.1792528473403993,\n",
       " 'chr1:1842235 [\"C\",\"A\"]': 0.04105048833091464,\n",
       " 'chr1:1843736 [\"A\",\"G\"]': 0.007514787945199006,\n",
       " 'chr1:1845301 [\"C\",\"A\"]': 0.02221833108185841,\n",
       " 'chr1:1948037 [\"T\",\"A\"]': 0.009334036102204266,\n",
       " 'chr1:1949564 [\"T\",\"TG\"]': 0.0022847743823787236,\n",
       " 'chr1:1954913 [\"C\",\"T\"]': 0.05484194345259733,\n",
       " 'chr1:1960038 [\"A\",\"G\"]': 0.05031340820807179,\n",
       " 'chr1:1960609 [\"G\",\"C\"]': -0.0005122707422958914,\n",
       " 'chr1:1963306 [\"C\",\"T\"]': 0.004012331770352689,\n",
       " 'chr1:1971864 [\"C\",\"T\"]': -0.0020452651060495534,\n",
       " 'chr1:1985090 [\"C\",\"T\"]': 0.05322933645852228,\n",
       " 'chr1:1991767 [\"T\",\"C\"]': 0.024535335480612496,\n",
       " 'chr1:1991778 [\"A\",\"G\"]': 0.028504899682989897,\n",
       " 'chr1:1991841 [\"T\",\"C\"]': 0.0311407268854169,\n",
       " 'chr1:1991867 [\"A\",\"G\"]': 0.02863331005241551,\n",
       " 'chr1:1992535 [\"G\",\"A\"]': 0.030346419539371935,\n",
       " 'chr1:1993764 [\"C\",\"CTT\"]': -0.002060651280373948,\n",
       " 'chr1:1993851 [\"G\",\"A\"]': 0.04392842859794714,\n",
       " 'chr1:1993854 [\"C\",\"T\"]': 0.023546168469211776,\n",
       " 'chr1:1993899 [\"G\",\"C\"]': 0.03778525899886003,\n",
       " 'chr1:1993969 [\"A\",\"G\"]': -2.2639000549774335e-05,\n",
       " 'chr1:1997290 [\"C\",\"T\"]': 0.04537608420206959,\n",
       " 'chr1:1999114 [\"T\",\"C\"]': 0.06345376055203787,\n",
       " 'chr1:2004141 [\"A\",\"C\"]': 0.08152001854106113,\n",
       " 'chr1:2012662 [\"C\",\"G\"]': 0.006760254878395039,\n",
       " 'chr1:2021579 [\"G\",\"A\"]': 0.029651649936689957,\n",
       " 'chr1:2025860 [\"C\",\"T\"]': 0.026339566907458277,\n",
       " 'chr1:2041023 [\"T\",\"C\"]': 0.04152190609113733,\n",
       " 'chr1:2045412 [\"G\",\"T\"]': -0.0013320087851499724,\n",
       " 'chr1:2046210 [\"C\",\"T\"]': 0.046081307655610144,\n",
       " 'chr1:2047216 [\"G\",\"A\"]': 0.029807666822108888,\n",
       " 'chr1:2047625 [\"C\",\"T\"]': 0.0713216760291733,\n",
       " 'chr1:2047814 [\"G\",\"A\"]': 0.02084782780128093,\n",
       " 'chr1:2051721 [\"C\",\"A\"]': 0.001766744728541858,\n",
       " 'chr1:2053249 [\"C\",\"T\"]': 0.003213689415422698,\n",
       " 'chr1:2053253 [\"A\",\"G\"]': -0.0020002533654441277,\n",
       " 'chr1:2053372 [\"G\",\"T\"]': 0.06457082491550371,\n",
       " 'chr1:2053731 [\"G\",\"A\"]': 0.09521754263891408,\n",
       " 'chr1:2057679 [\"A\",\"C\"]': -0.0020338923300187673,\n",
       " 'chr1:2068268 [\"A\",\"AC\"]': 0.013989584533018214,\n",
       " 'chr1:2074301 [\"T\",\"C\"]': 0.04568157255320732,\n",
       " 'chr1:2089896 [\"T\",\"TA\"]': 0.05036743309047752,\n",
       " 'chr1:2102495 [\"G\",\"A\"]': -0.001703520680447643,\n",
       " 'chr1:2102611 [\"T\",\"C\"]': 0.019529017365166032,\n",
       " 'chr1:2104245 [\"C\",\"T\"]': 0.03623583354363295,\n",
       " 'chr1:2121289 [\"T\",\"A\"]': 0.007178524813391401,\n",
       " 'chr1:2126311 [\"A\",\"C\"]': 0.0010974370498056673,\n",
       " 'chr1:2132990 [\"A\",\"C\"]': 0.03797091677046076,\n",
       " 'chr1:2212668 [\"A\",\"G\"]': 0.011628482434893554,\n",
       " 'chr1:2213349 [\"A\",\"G\"]': 0.08196055634688569,\n",
       " 'chr1:2231217 [\"C\",\"CCA\"]': 0.03166021684770837,\n",
       " 'chr1:2246853 [\"TGG\",\"T\"]': 0.03440633826835593,\n",
       " 'chr1:2254781 [\"C\",\"T\"]': 0.02049231948972641,\n",
       " 'chr1:2276041 [\"C\",\"G\"]': -0.001326048996562416,\n",
       " 'chr1:2284470 [\"A\",\"C\"]': 0.002413219284630882,\n",
       " 'chr1:2284474 [\"G\",\"C\"]': 0.009450732214237104,\n",
       " 'chr1:2284929 [\"T\",\"G\"]': -0.00214534359251703,\n",
       " 'chr1:2284952 [\"A\",\"G\"]': 0.0027704948685869594,\n",
       " 'chr1:2286690 [\"T\",\"C\"]': 0.001019549393386989,\n",
       " 'chr1:2287526 [\"C\",\"T\"]': 0.05577138267510621,\n",
       " 'chr1:2287876 [\"C\",\"G\"]': 0.023609436269013736,\n",
       " 'chr1:2288174 [\"A\",\"T\"]': -0.0013410106631459692,\n",
       " 'chr1:2288631 [\"T\",\"A\"]': 0.050374725537671486,\n",
       " 'chr1:2288952 [\"C\",\"T\"]': 0.05330162197813231,\n",
       " 'chr1:2289783 [\"A\",\"C\"]': 0.0012569067551003216,\n",
       " 'chr1:2290738 [\"G\",\"A\"]': 0.06061016013665882,\n",
       " 'chr1:2293973 [\"T\",\"C\"]': -0.0016961476265032916,\n",
       " 'chr1:2302812 [\"A\",\"G\"]': -0.0014285813632314095,\n",
       " 'chr1:2306798 [\"A\",\"T\"]': 0.00040227899746388303,\n",
       " 'chr1:2313466 [\"C\",\"T\"]': 0.0473981815453115,\n",
       " 'chr1:2323070 [\"C\",\"T\"]': 0.01831055941904513,\n",
       " 'chr1:2323471 [\"T\",\"C\"]': -0.0009818779958649336,\n",
       " 'chr1:2325494 [\"G\",\"A\"]': 0.09372367540690706,\n",
       " 'chr1:2336118 [\"T\",\"C\"]': 0.04397333553306366,\n",
       " 'chr1:2337239 [\"T\",\"C\"]': 0.11110789529379209,\n",
       " 'chr1:2340235 [\"T\",\"C\"]': 0.006163157652896417,\n",
       " 'chr1:2340267 [\"T\",\"C\"]': 0.011112861237566331,\n",
       " 'chr1:2340787 [\"C\",\"T\"]': 0.00890799411726193,\n",
       " 'chr1:2342734 [\"T\",\"C\"]': 0.004657605213026265,\n",
       " 'chr1:2358373 [\"A\",\"T\"]': 0.0537337386357547,\n",
       " 'chr1:2370170 [\"G\",\"T\"]': 0.010322734546362249,\n",
       " 'chr1:2370252 [\"G\",\"A\"]': 0.012171094094634766,\n",
       " 'chr1:2371032 [\"C\",\"T\"]': 0.0025640170312679644,\n",
       " 'chr1:2372073 [\"G\",\"A\"]': 0.029905762149030957,\n",
       " 'chr1:2372127 [\"A\",\"G\"]': 0.03550785113768461,\n",
       " 'chr1:2375471 [\"C\",\"T\"]': 0.0018074638169628186,\n",
       " 'chr1:2376590 [\"G\",\"A\"]': 0.01200379956954898,\n",
       " 'chr1:2393442 [\"G\",\"C\"]': 0.030217691879833867,\n",
       " 'chr1:2395479 [\"G\",\"A\"]': 0.02465681788022569,\n",
       " 'chr1:2395521 [\"A\",\"C\"]': 0.009849084182424396,\n",
       " 'chr1:2407956 [\"A\",\"G\"]': 0.004458348800408536,\n",
       " 'chr1:2414527 [\"T\",\"G\"]': -0.001684802744279606,\n",
       " 'chr1:2415043 [\"T\",\"C\"]': 0.009335955349551284,\n",
       " 'chr1:2415085 [\"T\",\"C\"]': 0.0024156041833546357,\n",
       " 'chr1:2416026 [\"T\",\"C\"]': 0.025831429470991346,\n",
       " 'chr1:2416293 [\"G\",\"A\"]': 0.010597365814600685,\n",
       " 'chr1:2423169 [\"TTTTG\",\"T\"]': 0.029689183852463347,\n",
       " 'chr1:2424298 [\"TA\",\"T\"]': 0.001633903053336691,\n",
       " 'chr1:2427316 [\"G\",\"C\"]': -0.001140892153725809,\n",
       " 'chr1:2427841 [\"C\",\"T\"]': 0.0003040775817900643,\n",
       " 'chr1:2433984 [\"T\",\"TC\"]': -0.0017065662176823382,\n",
       " 'chr1:2434446 [\"T\",\"A\"]': 0.020342961471283245,\n",
       " 'chr1:2435078 [\"G\",\"A\"]': -0.0013371488444632181,\n",
       " 'chr1:2437267 [\"T\",\"C\"]': 0.1330092675906059,\n",
       " 'chr1:2437459 [\"CA\",\"C\"]': -0.0002695600481819563,\n",
       " 'chr1:2437582 [\"T\",\"C\"]': -0.0008448384194402103,\n",
       " 'chr1:2437952 [\"C\",\"G\"]': 0.0010874197583181258,\n",
       " 'chr1:2440882 [\"C\",\"T\"]': 0.03083155160593117,\n",
       " 'chr1:2441501 [\"C\",\"T\"]': -0.0019821140590700792,\n",
       " 'chr1:2451653 [\"G\",\"T\"]': 0.0076122049020840195,\n",
       " 'chr1:2472817 [\"C\",\"T\"]': 0.03324767023312503,\n",
       " 'chr1:2474395 [\"AG\",\"A\"]': 0.025196843315344292,\n",
       " 'chr1:2475448 [\"C\",\"T\"]': -0.0016869580136782154,\n",
       " 'chr1:2491175 [\"G\",\"A\"]': 0.0021010255515613112,\n",
       " 'chr1:2493455 [\"T\",\"C\"]': 0.09446404000816543,\n",
       " 'chr1:2536988 [\"CGT\",\"C\"]': 0.011828223644730768,\n",
       " 'chr1:2569625 [\"G\",\"A\"]': 0.05010526011133021,\n",
       " 'chr1:2589991 [\"C\",\"T\"]': 0.005731587716266931,\n",
       " 'chr1:2590765 [\"G\",\"T\"]': 0.07691960897758608,\n",
       " 'chr1:2600541 [\"A\",\"G\"]': 0.0247811530567124,\n",
       " 'chr1:2646174 [\"T\",\"C\"]': 0.05330162197813231,\n",
       " 'chr1:2797592 [\"T\",\"C\"]': 0.023754220426389038,\n",
       " 'chr1:2807625 [\"C\",\"T\"]': 0.03914309458639596,\n",
       " 'chr1:2833356 [\"T\",\"C\"]': 0.011049287918411421,\n",
       " 'chr1:2840538 [\"C\",\"T\"]': 0.027403741557231624,\n",
       " 'chr1:2846345 [\"T\",\"C\"]': -0.0020290681403217544,\n",
       " 'chr1:2847577 [\"ATTGTCTGC\",\"A\"]': 0.023617152530093704,\n",
       " 'chr1:2857816 [\"G\",\"A\"]': 0.04660780367895381,\n",
       " 'chr1:2859151 [\"A\",\"G\"]': 0.002891367284661546,\n",
       " 'chr1:2864428 [\"G\",\"C\"]': 0.05676493791424892,\n",
       " 'chr1:2866744 [\"T\",\"C\"]': 0.0022870304915654305,\n",
       " 'chr1:2885411 [\"G\",\"A\"]': -0.000906759988073331,\n",
       " 'chr1:2888443 [\"C\",\"G\"]': -0.0016034620906609856,\n",
       " 'chr1:2888463 [\"C\",\"T\"]': 0.04684545587450295,\n",
       " 'chr1:2889331 [\"C\",\"T\"]': -0.00032854899357390047,\n",
       " 'chr1:2891983 [\"C\",\"T\"]': 0.002288128468802258,\n",
       " 'chr1:2912255 [\"C\",\"T\"]': 0.06304485001708905,\n",
       " 'chr1:2919453 [\"A\",\"G\"]': 0.03179340420604295,\n",
       " 'chr1:2920879 [\"G\",\"A\"]': 0.02977722710176629,\n",
       " 'chr1:2930923 [\"T\",\"C\"]': 0.13430121605663514,\n",
       " 'chr1:2931311 [\"C\",\"T\"]': 0.019673972152516407,\n",
       " 'chr1:2962895 [\"G\",\"C\"]': 0.08658175603632057,\n",
       " 'chr1:2963075 [\"G\",\"A\"]': 0.0199081163550336,\n",
       " 'chr1:2963558 [\"C\",\"T\"]': 0.00042698156499576274,\n",
       " 'chr1:2963819 [\"A\",\"G\"]': 0.0018423353966307476,\n",
       " 'chr1:2969901 [\"C\",\"T\"]': 0.0218554793765757,\n",
       " 'chr1:2970239 [\"C\",\"T\"]': 0.017237448425649463,\n",
       " 'chr1:2970424 [\"G\",\"A\"]': 0.10276275994384358,\n",
       " 'chr1:2971311 [\"G\",\"A\"]': 0.013715963177858814,\n",
       " 'chr1:2980529 [\"G\",\"A\"]': 0.04179959194347065,\n",
       " 'chr1:2981286 [\"GC\",\"G\"]': 0.05937300538189628,\n",
       " 'chr1:2985564 [\"C\",\"T\"]': -0.0020019120887509183,\n",
       " 'chr1:2994895 [\"G\",\"A\"]': 0.07839734622744478,\n",
       " 'chr1:2995636 [\"C\",\"T\"]': 0.00909307437558857,\n",
       " 'chr1:3000247 [\"C\",\"G\"]': 0.04119824182114345,\n",
       " 'chr1:3065277 [\"G\",\"A\"]': 0.11773696046408344,\n",
       " 'chr1:3066754 [\"T\",\"C\"]': 0.0065018677713840995,\n",
       " 'chr1:3067523 [\"C\",\"A\"]': 0.036355408232900024,\n",
       " 'chr1:3076470 [\"T\",\"C\"]': -0.0017318158634773845,\n",
       " 'chr1:3077074 [\"G\",\"A\"]': 0.003033856335714844,\n",
       " 'chr1:3081458 [\"C\",\"T\"]': 0.05454181641872599,\n",
       " 'chr1:3082068 [\"G\",\"A\"]': 0.03084229158366475,\n",
       " 'chr1:3082639 [\"G\",\"A\"]': 0.0057074766567768425,\n",
       " 'chr1:3082928 [\"C\",\"T\"]': 0.06792926183605079,\n",
       " 'chr1:3089063 [\"G\",\"A\"]': -0.0019197104182405293,\n",
       " 'chr1:3092123 [\"C\",\"G\"]': 0.01822327118351727,\n",
       " 'chr1:3092498 [\"CTG\",\"C\"]': 0.04712946821792759,\n",
       " 'chr1:3096416 [\"A\",\"G\"]': -0.001783679519558036,\n",
       " 'chr1:3096581 [\"A\",\"C\"]': 0.11064780515342512,\n",
       " 'chr1:3097556 [\"ATTC\",\"A\"]': 0.04016997463984257,\n",
       " 'chr1:3098129 [\"A\",\"G\"]': -0.0018538319244968912,\n",
       " 'chr1:3098959 [\"G\",\"A\"]': 0.006878551183508805,\n",
       " 'chr1:3100672 [\"G\",\"A\"]': 0.008457723092833434,\n",
       " 'chr1:3102956 [\"C\",\"A\"]': 0.012270254652102158,\n",
       " 'chr1:3119513 [\"C\",\"T\"]': 0.09883972571628298,\n",
       " 'chr1:3122584 [\"C\",\"A\"]': 0.0036875994963151116,\n",
       " 'chr1:3128668 [\"CTCCCACCATGCTACTGGAGACCA\",\"C\"]': 0.016567692429650914,\n",
       " 'chr1:3135937 [\"C\",\"T\"]': 0.09015024976576763,\n",
       " 'chr1:3140916 [\"G\",\"T\"]': 0.019406582494472205,\n",
       " 'chr1:3141224 [\"T\",\"C\"]': -0.0020552970686977686,\n",
       " 'chr1:3143617 [\"C\",\"T\"]': 4.1803874870942163e-05,\n",
       " 'chr1:3145931 [\"G\",\"A\"]': 0.01832162575337349,\n",
       " 'chr1:3146121 [\"G\",\"C\"]': 0.15167603329067847,\n",
       " 'chr1:3146311 [\"G\",\"T\"]': 0.0014767462032782724,\n",
       " 'chr1:3146345 [\"C\",\"T\"]': 0.0892865490854562,\n",
       " 'chr1:3148062 [\"C\",\"T\"]': 0.029838119444134666,\n",
       " 'chr1:3149004 [\"C\",\"T\"]': -0.0015971572243046748,\n",
       " 'chr1:3151141 [\"C\",\"A\"]': 0.027841483959335465,\n",
       " 'chr1:3153373 [\"C\",\"T\"]': -0.0018241452240422363,\n",
       " 'chr1:3169666 [\"G\",\"A\"]': -0.0019689407836845888,\n",
       " 'chr1:3173412 [\"G\",\"A\"]': 0.1659306132346784,\n",
       " 'chr1:3187262 [\"C\",\"T\"]': 0.010829058311016585,\n",
       " 'chr1:3189786 [\"A\",\"C\"]': 0.015146865264059686,\n",
       " 'chr1:3190723 [\"C\",\"T\"]': 0.059737104218731206,\n",
       " 'chr1:3194171 [\"T\",\"C\"]': 0.07539173765620957,\n",
       " 'chr1:3198388 [\"G\",\"A\"]': 0.0044747886374216965,\n",
       " 'chr1:3199157 [\"C\",\"G\"]': -0.002023389234522191,\n",
       " 'chr1:3200403 [\"T\",\"C\"]': 0.059961516966232316,\n",
       " 'chr1:3200880 [\"A\",\"G\"]': 0.039091108707810726,\n",
       " 'chr1:3201241 [\"G\",\"A\"]': 0.04702224242585833,\n",
       " 'chr1:3201565 [\"G\",\"A\"]': 0.007514787945199039,\n",
       " 'chr1:3202554 [\"G\",\"A\"]': 0.0013247463401867504,\n",
       " 'chr1:3203590 [\"C\",\"G\"]': 0.05232192616430429,\n",
       " 'chr1:3209526 [\"G\",\"A\"]': 0.01913526551835478,\n",
       " 'chr1:3214468 [\"G\",\"A\"]': 0.032473070299386654,\n",
       " 'chr1:3232029 [\"C\",\"T\"]': 0.02271630598876428,\n",
       " 'chr1:3233411 [\"G\",\"A\"]': -0.0012907138101490169,\n",
       " 'chr1:3233464 [\"A\",\"C\"]': 0.06304485001708905,\n",
       " 'chr1:3234461 [\"G\",\"A\"]': 0.014642001797876489,\n",
       " 'chr1:3235534 [\"C\",\"T\"]': 0.01974767433517704,\n",
       " 'chr1:3243487 [\"C\",\"A\"]': 0.05608289136063084,\n",
       " 'chr1:3248417 [\"T\",\"C\"]': 0.03643711098309087,\n",
       " 'chr1:3249064 [\"A\",\"G\"]': 0.013137913876102273,\n",
       " 'chr1:3250639 [\"C\",\"G\"]': 0.0021307015233034835,\n",
       " 'chr1:3251639 [\"G\",\"A\"]': 0.201723468237693,\n",
       " 'chr1:3253580 [\"T\",\"A\"]': -0.0007071194120563981,\n",
       " 'chr1:3280516 [\"G\",\"A\"]': 0.04237221835585887,\n",
       " 'chr1:3288280 [\"G\",\"A\"]': 0.0017282702538998355,\n",
       " 'chr1:3291216 [\"G\",\"A\"]': 0.019066213428321058,\n",
       " 'chr1:3292266 [\"T\",\"G\"]': 0.008983948546975207,\n",
       " 'chr1:3295629 [\"A\",\"G\"]': 0.07068655868088697,\n",
       " 'chr1:3304519 [\"T\",\"C\"]': 0.009134581234337998,\n",
       " 'chr1:3307945 [\"G\",\"A\"]': 0.04258075814870442,\n",
       " 'chr1:3324552 [\"G\",\"A\"]': 0.037517175138731325,\n",
       " 'chr1:3324571 [\"C\",\"T\"]': 0.0702021529836571,\n",
       " 'chr1:3325497 [\"C\",\"T\"]': -9.229066427006641e-05,\n",
       " 'chr1:3330469 [\"G\",\"A\"]': 0.0007705678264119688,\n",
       " 'chr1:3340801 [\"T\",\"G\"]': -0.0009878685294778516,\n",
       " 'chr1:3344952 [\"C\",\"T\"]': 0.00787223955676999,\n",
       " 'chr1:3349979 [\"T\",\"TGGAGGA\"]': 0.027763225599506815,\n",
       " 'chr1:3351262 [\"G\",\"A\"]': 0.04881937066889526,\n",
       " 'chr1:3352496 [\"C\",\"T\"]': 0.04899813396608379,\n",
       " 'chr1:3354590 [\"G\",\"T\"]': 0.04742448729065062,\n",
       " 'chr1:3355035 [\"A\",\"T\"]': 0.01826061041782619,\n",
       " 'chr1:3356191 [\"G\",\"A\"]': -2.038150448063775e-05,\n",
       " 'chr1:3356261 [\"C\",\"A\"]': 0.0030238852789685046,\n",
       " 'chr1:3356499 [\"G\",\"A\"]': 0.11059279112806106,\n",
       " 'chr1:3356904 [\"G\",\"A\"]': 0.0014106247895685278,\n",
       " 'chr1:3358142 [\"T\",\"C\"]': 0.08416670805756897,\n",
       " 'chr1:3362395 [\"C\",\"T\"]': -4.656545635494519e-05,\n",
       " 'chr1:3378408 [\"G\",\"A\"]': 0.0043043960227903385,\n",
       " 'chr1:3380586 [\"T\",\"C\"]': -0.0020767309148743587,\n",
       " 'chr1:3383605 [\"C\",\"T\"]': -0.0020825597926236905,\n",
       " 'chr1:3384389 [\"G\",\"A\"]': 0.00271959743288292,\n",
       " 'chr1:3384470 [\"G\",\"C\"]': 0.046789115999665024,\n",
       " 'chr1:3385157 [\"C\",\"T\"]': 0.09444024306765733,\n",
       " 'chr1:3405151 [\"G\",\"C\"]': 0.003389297477192147,\n",
       " 'chr1:3407052 [\"C\",\"T\"]': 0.01006274170418032,\n",
       " 'chr1:3409570 [\"A\",\"G\"]': 0.027080397645867615,\n",
       " 'chr1:3411794 [\"T\",\"C\"]': 0.05787771258292083,\n",
       " 'chr1:3413826 [\"C\",\"T\"]': 0.01110329962236929,\n",
       " 'chr1:3416161 [\"T\",\"C\"]': -0.0013272639136350222,\n",
       " 'chr1:3421072 [\"G\",\"A\"]': -0.0018273429184764572,\n",
       " 'chr1:3423705 [\"C\",\"T\"]': 0.09261587669698224,\n",
       " 'chr1:3425227 [\"A\",\"G\"]': 0.008845653688025963,\n",
       " 'chr1:3425545 [\"G\",\"T\"]': 0.015334466222503547,\n",
       " 'chr1:3426404 [\"G\",\"A\"]': 0.020986999623026154,\n",
       " 'chr1:3426792 [\"G\",\"T\"]': 0.09510236023813994,\n",
       " 'chr1:3427371 [\"T\",\"C\"]': 0.017766199080929145,\n",
       " 'chr1:3429141 [\"T\",\"C\"]': 0.04393296604973766,\n",
       " 'chr1:3435783 [\"T\",\"C\"]': 0.03139278926036874,\n",
       " 'chr1:3435852 [\"G\",\"A\"]': 0.039825677909542084,\n",
       " 'chr1:3436298 [\"A\",\"G\"]': 0.03434901392272524,\n",
       " 'chr1:3436301 [\"C\",\"T\"]': 0.030493966434656856,\n",
       " 'chr1:3439463 [\"G\",\"A\"]': 0.033108449717149296,\n",
       " 'chr1:3446243 [\"A\",\"G\"]': 0.05010526011133021,\n",
       " 'chr1:3446672 [\"C\",\"G\"]': 0.02429861883683,\n",
       " 'chr1:3466474 [\"G\",\"A\"]': 0.14691424525591107,\n",
       " 'chr1:3488146 [\"A\",\"G\"]': 0.029640070177897916,\n",
       " 'chr1:3493657 [\"C\",\"G\"]': 0.024418117704697942,\n",
       " 'chr1:3494803 [\"T\",\"C\"]': 0.05309854521581025,\n",
       " 'chr1:3496862 [\"A\",\"G\"]': 0.009172556830922765,\n",
       " 'chr1:3497304 [\"C\",\"G\"]': 0.023072465710619633,\n",
       " 'chr1:3497541 [\"C\",\"T\"]': 0.049554086347433204,\n",
       " 'chr1:3501607 [\"A\",\"G\"]': 0.0227636105231819,\n",
       " 'chr1:3503376 [\"AAG\",\"A\"]': -0.0020195296547372943,\n",
       " 'chr1:3507349 [\"A\",\"G\"]': 0.007515889822126491,\n",
       " 'chr1:3521615 [\"C\",\"T\"]': 0.04789181124058436,\n",
       " 'chr1:3541333 [\"C\",\"T\"]': -0.0020908077988272297,\n",
       " 'chr1:3542087 [\"A\",\"T\"]': 0.1338967028756909,\n",
       " 'chr1:3542580 [\"G\",\"A\"]': 0.03157688565574364,\n",
       " 'chr1:3543079 [\"C\",\"T\"]': 0.0052056540631005635,\n",
       " 'chr1:3543648 [\"G\",\"T\"]': 0.01813178206942625,\n",
       " 'chr1:3547239 [\"A\",\"G\"]': 0.08143457029829282,\n",
       " 'chr1:3548329 [\"C\",\"T\"]': 0.052771519712604666,\n",
       " 'chr1:3551586 [\"G\",\"A\"]': 0.01713235205788718,\n",
       " 'chr1:3558062 [\"G\",\"A\"]': 0.010642316037824997,\n",
       " 'chr1:3563598 [\"C\",\"T\"]': 0.001696876039018054,\n",
       " 'chr1:3567694 [\"G\",\"A\"]': 0.012481873289609043,\n",
       " 'chr1:3567789 [\"C\",\"T\"]': -0.0013102399292645747,\n",
       " 'chr1:3569559 [\"A\",\"G\"]': -0.001978154308090253,\n",
       " 'chr1:3575632 [\"A\",\"ATCTTATG\"]': 0.0022047948119446577,\n",
       " 'chr1:3575654 [\"C\",\"T\"]': 0.007105312302766892,\n",
       " 'chr1:3575728 [\"G\",\"A\"]': -0.0021014644275667883,\n",
       " 'chr1:3575989 [\"TCTC\",\"T\"]': 0.09452995696045043,\n",
       " 'chr1:3580623 [\"A\",\"G\"]': 0.01349629443095105,\n",
       " 'chr1:3581431 [\"A\",\"G\"]': 0.04333232099211164,\n",
       " 'chr1:3586518 [\"G\",\"C\"]': 0.025791519373621643,\n",
       " 'chr1:3595370 [\"A\",\"G\"]': 0.010349795544112177,\n",
       " 'chr1:3595774 [\"G\",\"A\"]': 0.007514787945199039,\n",
       " 'chr1:3595777 [\"C\",\"T\"]': 0.0105191072098027,\n",
       " 'chr1:3595905 [\"G\",\"A\"]': -0.0020937085943671533,\n",
       " 'chr1:3596058 [\"G\",\"A\"]': 0.03509854723263742,\n",
       " 'chr1:3597402 [\"C\",\"T\"]': 0.05548972700581709,\n",
       " 'chr1:3601851 [\"G\",\"A\"]': 0.19044888740789334,\n",
       " 'chr1:3605148 [\"ACACT\",\"A\"]': -0.0020810027444480754,\n",
       " 'chr1:3610147 [\"T\",\"G\"]': 0.05474975875576274,\n",
       " 'chr1:3616063 [\"G\",\"A\"]': 0.008924255860517382,\n",
       " 'chr1:3616079 [\"A\",\"G\"]': 0.05036743309047752,\n",
       " 'chr1:3616145 [\"G\",\"A\"]': 0.003929870842736933,\n",
       " 'chr1:3623588 [\"A\",\"C\"]': -8.611212715074216e-05,\n",
       " 'chr1:3658540 [\"TG\",\"T\"]': 0.009253960169573104,\n",
       " 'chr1:3658626 [\"T\",\"C\"]': 0.01107900047227905,\n",
       " 'chr1:3660098 [\"T\",\"A\"]': -0.0015476254406219397,\n",
       " 'chr1:3667128 [\"G\",\"C\"]': 0.07034103926176,\n",
       " 'chr1:3668477 [\"T\",\"C\"]': 0.004949581390621035,\n",
       " 'chr1:3669018 [\"G\",\"A\"]': 0.13463828606952527,\n",
       " 'chr1:3670702 [\"A\",\"G\"]': 0.03577503783956617,\n",
       " 'chr1:3673861 [\"G\",\"A\"]': -0.0007866212438125254,\n",
       " 'chr1:3675919 [\"C\",\"T\"]': 0.04467343150496176,\n",
       " 'chr1:3679204 [\"C\",\"G\"]': -0.0010533488286221225,\n",
       " 'chr1:3680453 [\"G\",\"A\"]': 0.04371720794404911,\n",
       " 'chr1:3680660 [\"G\",\"A\"]': 0.05364911676809728,\n",
       " 'chr1:3681854 [\"GTAACAGACCACAGGCCTCACACACTTGTTCCGGCCCAAGCATCCCCCAGGCCAAACCTAGACACAGTGGATCA\",\"G\"]': 0.047247854658604115,\n",
       " 'chr1:3687327 [\"T\",\"C\"]': 0.029206405895274925,\n",
       " 'chr1:3687362 [\"C\",\"G\"]': 0.01711580671087022,\n",
       " 'chr1:3687571 [\"AAT\",\"A\"]': -0.0004734022195184263,\n",
       " 'chr1:3688533 [\"G\",\"A\"]': 0.03589927442616491,\n",
       " 'chr1:3689386 [\"C\",\"T\"]': 0.04851657840918269,\n",
       " 'chr1:3690968 [\"G\",\"A\"]': 0.03183581738744905,\n",
       " 'chr1:3691663 [\"A\",\"G\"]': 0.07590335855676365,\n",
       " 'chr1:3695869 [\"T\",\"C\"]': 0.03907004790655017,\n",
       " 'chr1:3701671 [\"A\",\"AT\"]': 0.009179142479240059,\n",
       " 'chr1:3713028 [\"A\",\"G\"]': -0.0021098164830322228,\n",
       " 'chr1:3718548 [\"GGCAGGGGCCTAGGGGAGGGGCT\",\"G\"]': -0.00032682955137741546,\n",
       " 'chr1:3721049 [\"T\",\"G\"]': 1.729181677891989e-05,\n",
       " 'chr1:3727363 [\"A\",\"G\"]': 0.0033000044831083646,\n",
       " 'chr1:3756428 [\"C\",\"A\"]': 0.11919476296416864,\n",
       " 'chr1:3762913 [\"G\",\"T\"]': 0.13044355648438283,\n",
       " 'chr1:3764079 [\"G\",\"A\"]': 0.010260214367764073,\n",
       " 'chr1:3764165 [\"C\",\"T\"]': 0.09933263884049717,\n",
       " 'chr1:3764499 [\"A\",\"G\"]': 0.010029825535353728,\n",
       " 'chr1:3771466 [\"C\",\"G\"]': 0.018093425986967598,\n",
       " 'chr1:3771760 [\"T\",\"A\"]': -0.00023847197513789613,\n",
       " 'chr1:3786773 [\"G\",\"C\"]': 0.05206505625141968,\n",
       " 'chr1:3787146 [\"G\",\"A\"]': 0.007514787945199039,\n",
       " 'chr1:3792923 [\"A\",\"G\"]': 0.00519787357586213,\n",
       " 'chr1:3801923 [\"G\",\"A\"]': 0.009669960333530885,\n",
       " 'chr1:3816597 [\"C\",\"G\"]': 0.13315621066534408,\n",
       " 'chr1:3825996 [\"G\",\"A\"]': 0.02656048046611699,\n",
       " 'chr1:3826786 [\"G\",\"C\"]': -0.002076986502028778,\n",
       " 'chr1:3867005 [\"CCA\",\"C\"]': 0.03068947203155124,\n",
       " 'chr1:3867099 [\"T\",\"G\"]': 0.11821056865037044,\n",
       " 'chr1:3867890 [\"T\",\"C\"]': 0.002473007475278827,\n",
       " 'chr1:3868811 [\"G\",\"A\"]': -0.00204014705115093,\n",
       " 'chr1:3868859 [\"C\",\"G\"]': 0.051213190551815564,\n",
       " 'chr1:3870415 [\"TG\",\"T\"]': 0.044577654846687687,\n",
       " 'chr1:3871935 [\"A\",\"G\"]': 0.0031314401204634635,\n",
       " 'chr1:3881634 [\"T\",\"TGGGAGGCCAAGGTC\"]': 0.047491549571484354,\n",
       " 'chr1:3890079 [\"T\",\"A\"]': 0.0388575509714741,\n",
       " 'chr1:3910934 [\"A\",\"G\"]': 0.03920827639281317,\n",
       " 'chr1:3918389 [\"C\",\"T\"]': 1.986602611874383e-05,\n",
       " 'chr1:3918524 [\"TC\",\"T\"]': 0.09548357226050057,\n",
       " 'chr1:3918555 [\"T\",\"C\"]': 0.02064059689897825,\n",
       " 'chr1:3918900 [\"A\",\"T\"]': 0.08665862919376437,\n",
       " 'chr1:3919403 [\"G\",\"A\"]': -0.001691905222595101,\n",
       " 'chr1:3919685 [\"TCA\",\"T\"]': -0.0009544680155199115,\n",
       " 'chr1:3924081 [\"A\",\"G\"]': 0.019123789123860032,\n",
       " 'chr1:3934160 [\"C\",\"T\"]': 0.0007834993369201604,\n",
       " 'chr1:3935706 [\"A\",\"G\"]': 0.03778525899886003,\n",
       " 'chr1:3935713 [\"G\",\"A\"]': 0.016951919564870733,\n",
       " 'chr1:3936016 [\"C\",\"T\"]': 0.013989584533018214,\n",
       " 'chr1:3936075 [\"T\",\"C\"]': 0.021578837581126633,\n",
       " 'chr1:3936886 [\"A\",\"G\"]': 0.07259795328640789,\n",
       " 'chr1:3942540 [\"T\",\"C\"]': 0.014005331973526984,\n",
       " 'chr1:3942760 [\"C\",\"T\"]': -0.002127394324983467,\n",
       " 'chr1:3942772 [\"G\",\"A\"]': 0.011994006642882955,\n",
       " 'chr1:3942898 [\"G\",\"A\"]': 0.04780323203155851,\n",
       " 'chr1:3943224 [\"G\",\"A\"]': 0.00906224766850454,\n",
       " 'chr1:3943968 [\"C\",\"T\"]': -0.0012653026000503905,\n",
       " 'chr1:3944985 [\"G\",\"T\"]': -0.001708305388122537,\n",
       " 'chr1:3947645 [\"TC\",\"T\"]': 0.0256495199638645,\n",
       " 'chr1:3948609 [\"G\",\"T\"]': 0.04964648461588658,\n",
       " 'chr1:3949896 [\"C\",\"T\"]': 0.008320870842156576,\n",
       " 'chr1:3949901 [\"G\",\"A\"]': 0.023379460145689354,\n",
       " 'chr1:3949997 [\"CT\",\"C\"]': 0.009015322710164515,\n",
       " 'chr1:3950184 [\"C\",\"T\"]': -0.0020798796011861354,\n",
       " 'chr1:3950249 [\"C\",\"T\"]': 0.06412232740658644,\n",
       " 'chr1:3950282 [\"A\",\"G\"]': 0.013989584533018214,\n",
       " 'chr1:3950609 [\"C\",\"T\"]': 0.04051072254219006,\n",
       " 'chr1:3950683 [\"A\",\"G\"]': 0.03811353873106567,\n",
       " 'chr1:3950829 [\"C\",\"T\"]': 0.00620302771136034,\n",
       " 'chr1:3951025 [\"C\",\"A\"]': -0.0019562152060643555,\n",
       " 'chr1:3951330 [\"G\",\"A\"]': 0.09653264848035273,\n",
       " 'chr1:3951381 [\"T\",\"G\"]': 0.008037830776325838,\n",
       " 'chr1:3955453 [\"T\",\"C\"]': 0.02221833108185841,\n",
       " 'chr1:3956599 [\"G\",\"T\"]': 0.038462959331612354,\n",
       " 'chr1:3958719 [\"T\",\"G\"]': 0.02919091841641006,\n",
       " 'chr1:3959177 [\"T\",\"C\"]': 0.07481139319398994,\n",
       " 'chr1:3965298 [\"CA\",\"C\"]': 0.0035738181413354107,\n",
       " 'chr1:3982989 [\"C\",\"T\"]': 0.023104722280864826,\n",
       " 'chr1:3995220 [\"G\",\"C\"]': 0.12504317385173114,\n",
       " 'chr1:3995567 [\"T\",\"C\"]': -0.0019311983288507236,\n",
       " 'chr1:4004723 [\"A\",\"G\"]': -0.0006604312559129574,\n",
       " 'chr1:4004926 [\"C\",\"T\"]': 0.04324817714805835,\n",
       " 'chr1:4005559 [\"T\",\"C\"]': -0.0003028143838230951,\n",
       " 'chr1:4028706 [\"A\",\"C\"]': 0.07697479296122119,\n",
       " 'chr1:4032844 [\"T\",\"C\"]': 0.076274919499112,\n",
       " 'chr1:4046640 [\"A\",\"G\"]': 0.010852735972423765,\n",
       " 'chr1:4047106 [\"T\",\"C\"]': 0.029395245500290688,\n",
       " 'chr1:4052405 [\"G\",\"A\"]': 0.046782277855397555,\n",
       " 'chr1:4053858 [\"A\",\"G\"]': 0.01852493742268834,\n",
       " 'chr1:4057178 [\"C\",\"T\"]': 0.11686554086776654,\n",
       " 'chr1:4060149 [\"C\",\"T\"]': 0.0266246002056141,\n",
       " 'chr1:4063039 [\"C\",\"T\"]': 0.001504376120420279,\n",
       " 'chr1:4072717 [\"C\",\"T\"]': 0.0029495543006883666,\n",
       " 'chr1:4080437 [\"G\",\"A\"]': 0.004730373303250792,\n",
       " 'chr1:4085555 [\"T\",\"C\"]': 0.007245947409773915,\n",
       " 'chr1:4091076 [\"T\",\"C\"]': 0.01510009042925555,\n",
       " 'chr1:4092868 [\"C\",\"A\"]': 0.01853253422112273,\n",
       " 'chr1:4093027 [\"T\",\"G\"]': 0.011574902587087092,\n",
       " 'chr1:4093202 [\"T\",\"C\"]': 0.015978158071459598,\n",
       " 'chr1:4094488 [\"T\",\"C\"]': 0.028422994149403524,\n",
       " 'chr1:4095860 [\"C\",\"T\"]': 0.005564709044403222,\n",
       " 'chr1:4096118 [\"G\",\"A\"]': 0.012418530061549042,\n",
       " 'chr1:4099621 [\"T\",\"A\"]': -0.0010443936009365683,\n",
       " 'chr1:4102188 [\"T\",\"C\"]': 0.011828223644730768,\n",
       " 'chr1:4102503 [\"A\",\"G\"]': 0.021389354759725313,\n",
       " 'chr1:4104862 [\"G\",\"A\"]': 0.1852496960621306,\n",
       " 'chr1:4120496 [\"T\",\"C\"]': 0.025153215097349173,\n",
       " 'chr1:4121336 [\"T\",\"C\"]': -0.0017334417709330403,\n",
       " 'chr1:4131710 [\"T\",\"C\"]': 0.007732424538975159,\n",
       " 'chr1:4146150 [\"T\",\"C\"]': -0.0009120787796595529,\n",
       " 'chr1:4151656 [\"A\",\"AG\"]': -0.0019275933003259846,\n",
       " 'chr1:4161691 [\"T\",\"C\"]': 0.0002783145741099483,\n",
       " 'chr1:4162946 [\"A\",\"G\"]': 0.06074818733371785,\n",
       " 'chr1:4170403 [\"T\",\"C\"]': 0.030299203213391898,\n",
       " 'chr1:4175623 [\"C\",\"T\"]': -0.0003034231763456549,\n",
       " 'chr1:4178590 [\"T\",\"G\"]': 0.008324892825488837,\n",
       " 'chr1:4187033 [\"T\",\"C\"]': 0.00872164567924335,\n",
       " 'chr1:4188403 [\"C\",\"T\"]': 0.044712654813163215,\n",
       " 'chr1:4189251 [\"C\",\"G\"]': 0.029032476140428073,\n",
       " 'chr1:4216596 [\"C\",\"T\"]': 0.012881657605405206,\n",
       " 'chr1:4222726 [\"C\",\"T\"]': 0.016898037408868805,\n",
       " 'chr1:4225960 [\"T\",\"TA\"]': 0.01523263970646248,\n",
       " 'chr1:4227354 [\"C\",\"T\"]': 0.02740142216987391,\n",
       " 'chr1:4228452 [\"T\",\"G\"]': 0.0019473086479991283,\n",
       " 'chr1:4229875 [\"C\",\"T\"]': 0.05232192616430429,\n",
       " 'chr1:4233216 [\"A\",\"G\"]': 0.03643711098309087,\n",
       " 'chr1:4235857 [\"A\",\"G\"]': 0.030026598063497032,\n",
       " 'chr1:4235897 [\"T\",\"G\"]': 0.08511748133005785,\n",
       " 'chr1:4238524 [\"G\",\"C\"]': -0.00030861644586075614,\n",
       " 'chr1:4238615 [\"A\",\"G\"]': 0.1206031244054841,\n",
       " 'chr1:4239236 [\"C\",\"T\"]': 0.010748705208330782,\n",
       " 'chr1:4242554 [\"T\",\"G\"]': 0.10607601779613096,\n",
       " 'chr1:4277032 [\"CTT\",\"C\"]': 0.022180968383197632,\n",
       " 'chr1:4301387 [\"C\",\"A\"]': 0.07817935017461355,\n",
       " 'chr1:4304504 [\"A\",\"G\"]': 0.005617604053658552,\n",
       " 'chr1:4307263 [\"G\",\"A\"]': -0.0012303014738217512,\n",
       " 'chr1:4307522 [\"A\",\"G\"]': 0.024418117704697942,\n",
       " 'chr1:4307750 [\"C\",\"T\"]': -0.000906759988073331,\n",
       " 'chr1:4307862 [\"T\",\"C\"]': 0.12085947815235198,\n",
       " 'chr1:4307920 [\"G\",\"A\"]': 0.0009971500410295546,\n",
       " 'chr1:4307966 [\"A\",\"G\"]': 0.0021302597189846273,\n",
       " 'chr1:4308211 [\"G\",\"A\"]': 0.016989384768636116,\n",
       " 'chr1:4308244 [\"C\",\"A\"]': -0.0012345894257653584,\n",
       " 'chr1:4308882 [\"T\",\"C\"]': 0.002836490773998357,\n",
       " 'chr1:4309040 [\"C\",\"T\"]': 0.02516218354423347,\n",
       " 'chr1:4310014 [\"C\",\"T\"]': -0.002044450123208236,\n",
       " 'chr1:4310429 [\"G\",\"A\"]': 0.03992983094989405,\n",
       " 'chr1:4320135 [\"C\",\"T\"]': 0.01129229945592438,\n",
       " 'chr1:4320284 [\"C\",\"A\"]': 0.005451583588360886,\n",
       " 'chr1:4320569 [\"C\",\"T\"]': 0.008739406505769414,\n",
       " 'chr1:4321228 [\"T\",\"C\"]': 0.024723145325301094,\n",
       " 'chr1:4322182 [\"C\",\"T\"]': -0.0012900750299933577,\n",
       " 'chr1:4324203 [\"C\",\"T\"]': -0.002125090107654649,\n",
       " 'chr1:4388140 [\"C\",\"T\"]': 0.05183280630617347,\n",
       " 'chr1:4389144 [\"A\",\"G\"]': 0.01615404967172692,\n",
       " 'chr1:4392337 [\"G\",\"A\"]': 0.016286746114868012,\n",
       " 'chr1:4394120 [\"G\",\"A\"]': 0.03877944392244259,\n",
       " 'chr1:4407914 [\"G\",\"A\"]': 0.05109105347372074,\n",
       " 'chr1:4423343 [\"T\",\"C\"]': 0.023441026376651377,\n",
       " 'chr1:4433302 [\"G\",\"A\"]': 0.011063847935984627,\n",
       " 'chr1:4435618 [\"T\",\"C\"]': 0.0023002270842010955,\n",
       " 'chr1:4436269 [\"C\",\"T\"]': -0.001618364816255242,\n",
       " 'chr1:4453393 [\"A\",\"C\"]': 0.04314290215453972,\n",
       " 'chr1:4457274 [\"A\",\"T\"]': 0.0063147566892106845,\n",
       " 'chr1:4457422 [\"A\",\"G\"]': 0.008723533072482964,\n",
       " 'chr1:4463033 [\"G\",\"A\"]': 0.00478545548737094,\n",
       " 'chr1:4475668 [\"T\",\"A\"]': 0.005595864307152566,\n",
       " 'chr1:4480983 [\"C\",\"A\"]': 0.017446332364664724,\n",
       " 'chr1:4481365 [\"T\",\"C\"]': 0.13530621827122297,\n",
       " 'chr1:4484118 [\"T\",\"C\"]': -0.0018095623661330618,\n",
       " 'chr1:4486123 [\"C\",\"T\"]': 0.0008851660714316601,\n",
       " 'chr1:4488393 [\"A\",\"G\"]': 4.688213939604053e-05,\n",
       " 'chr1:4497967 [\"T\",\"C\"]': 0.0003026796341039519,\n",
       " 'chr1:4498198 [\"G\",\"A\"]': 0.021389354759725313,\n",
       " 'chr1:4505137 [\"G\",\"A\"]': 0.0437211252817619,\n",
       " 'chr1:4514381 [\"G\",\"A\"]': 0.046789115999665024,\n",
       " 'chr1:4531020 [\"G\",\"A\"]': 0.11301677390618202,\n",
       " 'chr1:4542926 [\"G\",\"A\"]': -0.002144918791448142,\n",
       " 'chr1:4572500 [\"A\",\"G\"]': 0.012723951713015451,\n",
       " 'chr1:4572637 [\"C\",\"G\"]': 0.0636150811267377,\n",
       " 'chr1:4572768 [\"C\",\"A\"]': 0.05974880852238774,\n",
       " 'chr1:4575495 [\"G\",\"GC\"]': 0.003931759457626959,\n",
       " 'chr1:4581739 [\"G\",\"T\"]': 0.01589994762229252,\n",
       " 'chr1:4583412 [\"G\",\"T\"]': 0.0004713712498307817,\n",
       " 'chr1:4585868 [\"C\",\"T\"]': 0.0028484922675020307,\n",
       " 'chr1:4604577 [\"G\",\"A\"]': 0.11769687139076788,\n",
       " 'chr1:4614378 [\"G\",\"GA\"]': 0.03143996594772588,\n",
       " 'chr1:4614587 [\"T\",\"TTCCTCTAATGC\"]': 1.8179386758263236e-05,\n",
       " 'chr1:4615495 [\"G\",\"A\"]': 0.04201085045605299,\n",
       " 'chr1:4615781 [\"G\",\"T\"]': 0.053431467826835624,\n",
       " 'chr1:4618063 [\"T\",\"C\"]': 0.018102257693728124,\n",
       " 'chr1:4622743 [\"A\",\"T\"]': 0.0377050616929165,\n",
       " 'chr1:4630658 [\"C\",\"G\"]': 0.06579336621009266,\n",
       " 'chr1:4634410 [\"G\",\"A\"]': 0.10261748465975762,\n",
       " 'chr1:4636032 [\"C\",\"T\"]': 0.021052216526155524,\n",
       " 'chr1:4639800 [\"C\",\"T\"]': 0.011359513713797502,\n",
       " 'chr1:4641830 [\"G\",\"A\"]': 0.0031576204694683924,\n",
       " 'chr1:4652381 [\"G\",\"T\"]': 0.014531507928790698,\n",
       " 'chr1:4653161 [\"C\",\"A\"]': -0.0021451941364120488,\n",
       " 'chr1:4657280 [\"T\",\"C\"]': 0.08315061546862412,\n",
       " 'chr1:4662387 [\"G\",\"A\"]': 0.0008908444517328518,\n",
       " 'chr1:4664074 [\"A\",\"G\"]': 0.04061786897012146,\n",
       " 'chr1:4673179 [\"T\",\"C\"]': 0.0020019869150282995,\n",
       " 'chr1:4673733 [\"G\",\"A\"]': 0.0017059498521482105,\n",
       " 'chr1:4676396 [\"G\",\"T\"]': -0.0019415573991892025,\n",
       " 'chr1:4677606 [\"A\",\"G\"]': 0.0019442703895684152,\n",
       " 'chr1:4690970 [\"A\",\"G\"]': 0.009139129853103788,\n",
       " 'chr1:4691704 [\"C\",\"A\"]': 0.005562327855172228,\n",
       " 'chr1:4691935 [\"G\",\"A\"]': -0.0020497055069667322,\n",
       " 'chr1:4692028 [\"C\",\"G\"]': -0.0016247524174734,\n",
       " 'chr1:4692218 [\"A\",\"G\"]': -0.0019301525338562104,\n",
       " 'chr1:4692389 [\"C\",\"G\"]': -0.002123182874835349,\n",
       " 'chr1:4694043 [\"T\",\"C\"]': 0.007859671809183422,\n",
       " 'chr1:4697138 [\"G\",\"A\"]': 0.0004217411523617496,\n",
       " 'chr1:4698261 [\"C\",\"G\"]': -0.0013180159105986686,\n",
       " 'chr1:4698267 [\"C\",\"T\"]': 0.0008535888927438618,\n",
       " 'chr1:4699258 [\"A\",\"G\"]': 0.06680916103711199,\n",
       " 'chr1:4704546 [\"T\",\"C\"]': 0.0023428251378050237,\n",
       " 'chr1:4712656 [\"C\",\"T\"]': 0.009034241920870684,\n",
       " 'chr1:4712657 [\"G\",\"A\"]': 0.11820017471955747,\n",
       " 'chr1:4714176 [\"G\",\"A\"]': 0.04331526530074559,\n",
       " 'chr1:4715768 [\"G\",\"A\"]': 0.05246929176672858,\n",
       " 'chr1:4721091 [\"C\",\"T\"]': 0.007563995788071399,\n",
       " 'chr1:4725389 [\"C\",\"T\"]': 0.0037909934086111517,\n",
       " 'chr1:4732124 [\"T\",\"C\"]': -0.0017150298337256316,\n",
       " 'chr1:4735734 [\"T\",\"C\"]': 0.004887434563395647,\n",
       " 'chr1:4737698 [\"G\",\"A\"]': 0.0009931600808852706,\n",
       " 'chr1:4738379 [\"A\",\"G\"]': 0.021832069739964672,\n",
       " 'chr1:4742263 [\"G\",\"C\"]': 0.0007946570271885225,\n",
       " 'chr1:4755767 [\"A\",\"T\"]': 0.04638733817992116,\n",
       " 'chr1:4756127 [\"C\",\"G\"]': -0.0009365387703254455,\n",
       " 'chr1:4762213 [\"T\",\"G\"]': -0.001535905179653999,\n",
       " 'chr1:4770725 [\"A\",\"G\"]': 0.0026601935735684956,\n",
       " 'chr1:4791732 [\"C\",\"T\"]': 0.013123893670542036,\n",
       " 'chr1:4794265 [\"A\",\"T\"]': 0.0008562155702989521,\n",
       " 'chr1:4794339 [\"G\",\"A\"]': 0.007908995981635768,\n",
       " 'chr1:4797117 [\"C\",\"T\"]': 0.037134032590156595,\n",
       " 'chr1:4798331 [\"A\",\"G\"]': 0.09642351215722682,\n",
       " 'chr1:4799428 [\"G\",\"A\"]': -0.0009915122471293285,\n",
       " 'chr1:4819385 [\"C\",\"T\"]': 0.029206405895274925,\n",
       " 'chr1:4826460 [\"A\",\"G\"]': 0.004627168706550312,\n",
       " 'chr1:4827952 [\"G\",\"T\"]': -0.0020987419320484414,\n",
       " 'chr1:4840415 [\"T\",\"C\"]': 0.01044986878788316,\n",
       " 'chr1:4841677 [\"C\",\"A\"]': 0.004301551569119049,\n",
       " 'chr1:4846556 [\"G\",\"GC\"]': 0.05787771258292084,\n",
       " 'chr1:4850082 [\"A\",\"G\"]': 0.027903285649735286,\n",
       " 'chr1:4873094 [\"T\",\"G\"]': -0.0012808196778837937,\n",
       " 'chr1:4873464 [\"G\",\"A\"]': 0.009696437435328841,\n",
       " 'chr1:4874007 [\"C\",\"T\"]': 0.007940713387121757,\n",
       " 'chr1:4877993 [\"T\",\"C\"]': 0.0825653816856601,\n",
       " 'chr1:4889555 [\"C\",\"A\"]': 0.04397333553306366,\n",
       " 'chr1:4912349 [\"A\",\"G\"]': 0.0036436489931712594,\n",
       " 'chr1:4921010 [\"G\",\"A\"]': 0.08389038677867298,\n",
       " 'chr1:4921047 [\"C\",\"T\"]': -0.0018886991416226645,\n",
       " 'chr1:4931752 [\"GGACT\",\"G\"]': 0.017185552254208477,\n",
       " 'chr1:4941428 [\"T\",\"G\"]': 0.03124822497486978,\n",
       " 'chr1:4941993 [\"T\",\"G\"]': 0.08895824262295575,\n",
       " 'chr1:4942307 [\"C\",\"T\"]': 0.0010335528799388087,\n",
       " 'chr1:4949533 [\"C\",\"G\"]': 0.0002993506444418759,\n",
       " 'chr1:4951087 [\"T\",\"C\"]': 0.05787771258292084,\n",
       " 'chr1:4951960 [\"A\",\"G\"]': 0.013402006387614641,\n",
       " 'chr1:4953320 [\"A\",\"AT\"]': 0.12863571638744487,\n",
       " 'chr1:4957286 [\"G\",\"A\"]': 0.015700523360678172,\n",
       " 'chr1:4961019 [\"A\",\"G\"]': 0.018266085423805672,\n",
       " 'chr1:4961399 [\"C\",\"T\"]': -0.002123458090612951,\n",
       " 'chr1:4965526 [\"G\",\"A\"]': 0.03100070736381618,\n",
       " 'chr1:4969471 [\"A\",\"C\"]': 0.0214358476623657,\n",
       " 'chr1:4973270 [\"T\",\"C\"]': 0.05238347614958501,\n",
       " 'chr1:4974114 [\"G\",\"A\"]': 0.013078616222083745,\n",
       " 'chr1:4978564 [\"G\",\"A\"]': 0.0320764951455829,\n",
       " 'chr1:4979033 [\"C\",\"T\"]': 0.004338929316585916,\n",
       " 'chr1:4979734 [\"C\",\"G\"]': 0.06792926183605079,\n",
       " 'chr1:4984029 [\"C\",\"G\"]': 0.0009167190000733438,\n",
       " 'chr1:4986950 [\"C\",\"T\"]': 0.023754220426389038,\n",
       " 'chr1:5016738 [\"C\",\"CGTTTGTTT\"]': 0.00020808762655977808,\n",
       " 'chr1:5021453 [\"A\",\"T\"]': -0.0021450050239518476,\n",
       " 'chr1:5024856 [\"AAAC\",\"A\"]': 0.014818340114370384,\n",
       " 'chr1:5030655 [\"C\",\"T\"]': 0.09848433513190442,\n",
       " 'chr1:5030802 [\"AC\",\"A\"]': 0.02255694885600108,\n",
       " 'chr1:5030937 [\"A\",\"G\"]': 0.03367408280050968,\n",
       " 'chr1:5031172 [\"G\",\"C\"]': 0.02431683114646617,\n",
       " 'chr1:5031767 [\"A\",\"G\"]': 0.02347479298808754,\n",
       " 'chr1:5035802 [\"C\",\"T\"]': 0.026520327270787358,\n",
       " 'chr1:5043561 [\"A\",\"G\"]': 0.00697768357834675,\n",
       " 'chr1:5051418 [\"G\",\"A\"]': 0.0281143964530411,\n",
       " 'chr1:5076584 [\"T\",\"C\"]': 0.004693732423806432,\n",
       " 'chr1:5076783 [\"T\",\"A\"]': 0.0021152126985717187,\n",
       " 'chr1:5076784 [\"T\",\"A\"]': 0.07132167602917328,\n",
       " 'chr1:5077161 [\"C\",\"G\"]': -0.002108394572968413,\n",
       " 'chr1:5078193 [\"G\",\"T\"]': -0.00037932640412403906,\n",
       " 'chr1:5078732 [\"T\",\"C\"]': -0.0017559377854402603,\n",
       " 'chr1:5080232 [\"G\",\"T\"]': 0.02368304120899269,\n",
       " 'chr1:5089006 [\"A\",\"T\"]': 0.0532170783526209,\n",
       " 'chr1:5100671 [\"T\",\"G\"]': 0.00322579006709909,\n",
       " 'chr1:5106606 [\"T\",\"A\"]': 5.731639153450594e-05,\n",
       " 'chr1:5111934 [\"T\",\"A\"]': -0.0008291564650506003,\n",
       " 'chr1:5115399 [\"G\",\"A\"]': 0.018095314794644664,\n",
       " 'chr1:5116114 [\"T\",\"C\"]': 0.013688517362065677,\n",
       " 'chr1:5120760 [\"A\",\"G\"]': 0.039802169630491796,\n",
       " 'chr1:5133613 [\"C\",\"T\"]': 0.0010884357591233868,\n",
       " 'chr1:5155225 [\"A\",\"G\"]': 0.010748705208330782,\n",
       " 'chr1:5165092 [\"G\",\"A\"]': 0.008490790073783557,\n",
       " 'chr1:5166745 [\"G\",\"A\"]': -0.00019636569161123236,\n",
       " 'chr1:5167063 [\"A\",\"G\"]': 0.0032552539772410048,\n",
       " 'chr1:5183281 [\"A\",\"G\"]': 0.03294514340169113,\n",
       " 'chr1:5188481 [\"T\",\"C\"]': 0.08505004033346136,\n",
       " 'chr1:5193472 [\"T\",\"C\"]': 0.0075205810762776866,\n",
       " 'chr1:5196206 [\"G\",\"C\"]': 0.017454082091288688,\n",
       " 'chr1:5208531 [\"G\",\"T\"]': 0.037822620955224984,\n",
       " 'chr1:5222491 [\"T\",\"C\"]': 0.03149863592476808,\n",
       " 'chr1:5237827 [\"T\",\"C\"]': -0.000261688670995879,\n",
       " 'chr1:5251254 [\"T\",\"C\"]': -0.0009828666632908881,\n",
       " 'chr1:5251324 [\"T\",\"C\"]': 0.0562795350989385,\n",
       " 'chr1:5251978 [\"C\",\"A\"]': 0.004210000926278926,\n",
       " 'chr1:5252035 [\"TG\",\"T\"]': 0.007586684080223276,\n",
       " 'chr1:5253385 [\"C\",\"A\"]': 0.03925512262716244,\n",
       " 'chr1:5256753 [\"G\",\"C\"]': 0.014048937047614628,\n",
       " 'chr1:5258011 [\"C\",\"G\"]': 0.01717858634008627,\n",
       " 'chr1:5258492 [\"C\",\"T\"]': -0.0007458832866977336,\n",
       " 'chr1:5258890 [\"A\",\"T\"]': 0.04785701150612264,\n",
       " 'chr1:5265402 [\"G\",\"C\"]': 0.018117168449406047,\n",
       " 'chr1:5270807 [\"G\",\"C\"]': 0.00226623031825985,\n",
       " 'chr1:5278227 [\"T\",\"G\"]': 0.08936771727028607,\n",
       " 'chr1:5287919 [\"C\",\"A\"]': 0.004179428986840978,\n",
       " 'chr1:5289556 [\"G\",\"A\"]': 0.0010531888388573406,\n",
       " 'chr1:5294339 [\"G\",\"T\"]': 0.05181736064674111,\n",
       " 'chr1:5298199 [\"C\",\"G\"]': 0.029077373732516242,\n",
       " 'chr1:5298324 [\"A\",\"G\"]': -0.002065430084436545,\n",
       " 'chr1:5301887 [\"C\",\"A\"]': 0.03293138497478376,\n",
       " 'chr1:5302285 [\"A\",\"G\"]': -0.0006795778176994529,\n",
       " 'chr1:5302568 [\"G\",\"A\"]': 0.13432530818847613,\n",
       " 'chr1:5328116 [\"C\",\"T\"]': 0.0022414561683050524,\n",
       " 'chr1:5343766 [\"TGG\",\"T\"]': -0.0014053137121312629,\n",
       " 'chr1:5344793 [\"A\",\"G\"]': 0.01859137696849752,\n",
       " 'chr1:5386831 [\"A\",\"ATG\"]': 0.022809227846720386,\n",
       " 'chr1:5387868 [\"A\",\"T\"]': 0.10233961828328338,\n",
       " 'chr1:5401803 [\"T\",\"C\"]': 0.029381015567061162,\n",
       " 'chr1:5404213 [\"T\",\"C\"]': 0.02340305130817417,\n",
       " 'chr1:5404272 [\"T\",\"C\"]': -0.0021440261482067427,\n",
       " 'chr1:5415199 [\"G\",\"C\"]': 0.0028158971589547525,\n",
       " 'chr1:5415272 [\"G\",\"A\"]': 0.004005752292280389,\n",
       " 'chr1:5415422 [\"C\",\"T\"]': 0.07900195013212928,\n",
       " 'chr1:5428743 [\"G\",\"A\"]': -0.0006478105839276933,\n",
       " 'chr1:5431416 [\"C\",\"CA\"]': 0.009958562780246054,\n",
       " 'chr1:5444493 [\"G\",\"A\"]': 0.03323794788872898,\n",
       " 'chr1:5459462 [\"A\",\"C\"]': 0.03778525899886003,\n",
       " 'chr1:5474888 [\"T\",\"G\"]': 0.0005343073732478821,\n",
       " 'chr1:5480747 [\"A\",\"C\"]': 0.012496850481587152,\n",
       " 'chr1:5481145 [\"C\",\"A\"]': 0.17552873951167083,\n",
       " 'chr1:5481712 [\"A\",\"C\"]': -0.0006433372947474982,\n",
       " 'chr1:5481957 [\"G\",\"A\"]': 0.0176838919133975,\n",
       " 'chr1:5482647 [\"A\",\"G\"]': 0.00020808762655977808,\n",
       " 'chr1:5514835 [\"A\",\"G\"]': 0.018480241094709075,\n",
       " 'chr1:5515098 [\"G\",\"A\"]': -0.0009674490905283112,\n",
       " 'chr1:5515677 [\"A\",\"C\"]': 0.029905762149030957,\n",
       " 'chr1:5527190 [\"A\",\"G\"]': 0.007509452119813046,\n",
       " 'chr1:5538108 [\"T\",\"C\"]': 0.019724926328485753,\n",
       " 'chr1:5553707 [\"G\",\"A\"]': -0.0018949585654824358,\n",
       " 'chr1:5566115 [\"T\",\"C\"]': 0.0368725803686813,\n",
       " 'chr1:5568297 [\"C\",\"T\"]': 0.011308544353596748,\n",
       " 'chr1:5571302 [\"T\",\"A\"]': -0.0019476012762358022,\n",
       " 'chr1:5571485 [\"A\",\"T\"]': 0.027966309604681078,\n",
       " 'chr1:5572869 [\"G\",\"C\"]': 0.005200113523723214,\n",
       " 'chr1:5576281 [\"G\",\"C\"]': 0.06679171525561864,\n",
       " 'chr1:5578613 [\"C\",\"G\"]': 0.0030454620091090756,\n",
       " 'chr1:5578942 [\"G\",\"A\"]': 0.008421389056428048,\n",
       " 'chr1:5579124 [\"A\",\"G\"]': 0.09732475719767317,\n",
       " 'chr1:5580272 [\"C\",\"G\"]': -0.0020012578062654817,\n",
       " 'chr1:5581725 [\"T\",\"C\"]': 0.0990589411982436,\n",
       " 'chr1:5585652 [\"G\",\"A\"]': 0.011055003311406535,\n",
       " 'chr1:5586044 [\"G\",\"T\"]': -0.0010751247986611203,\n",
       " 'chr1:5591614 [\"T\",\"C\"]': 0.03914309458639596,\n",
       " 'chr1:5597741 [\"T\",\"G\"]': -0.0013684268687917762,\n",
       " 'chr1:5602604 [\"T\",\"C\"]': 0.0612209028898302,\n",
       " 'chr1:5602685 [\"C\",\"T\"]': 0.02028548139182138,\n",
       " 'chr1:5602712 [\"A\",\"G\"]': 0.0347282591251219,\n",
       " 'chr1:5605710 [\"T\",\"C\"]': -6.449540068498732e-05,\n",
       " 'chr1:5617715 [\"T\",\"C\"]': -0.001038940145139556,\n",
       " 'chr1:5618890 [\"T\",\"C\"]': 0.014417116057159332,\n",
       " 'chr1:5619058 [\"A\",\"C\"]': 0.0007266736554592496,\n",
       " 'chr1:5620748 [\"A\",\"G\"]': 0.06794559086274671,\n",
       " 'chr1:5620866 [\"C\",\"T\"]': 0.028112536149038875,\n",
       " 'chr1:5623447 [\"G\",\"T\"]': -0.0021325987109611644,\n",
       " 'chr1:5630793 [\"C\",\"G\"]': 0.06881825752158761,\n",
       " 'chr1:5632295 [\"T\",\"TCAGGAAATATCACTCCTCGGGGG\"]': 0.018022113110248737,\n",
       " 'chr1:5649168 [\"C\",\"A\"]': 0.04511952869227565,\n",
       " 'chr1:5649668 [\"C\",\"T\"]': -0.0013623010623663259,\n",
       " 'chr1:5656800 [\"T\",\"C\"]': 0.2024373653046167,\n",
       " 'chr1:5660004 [\"A\",\"G\"]': 0.029838119444134666,\n",
       " 'chr1:5663503 [\"G\",\"C\"]': 0.05785152108383846,\n",
       " 'chr1:5666767 [\"T\",\"A\"]': 0.053354251095715496,\n",
       " 'chr1:5671494 [\"CTT\",\"C\"]': 0.0027948695016145383,\n",
       " 'chr1:5677259 [\"T\",\"C\"]': 0.027903285649735286,\n",
       " 'chr1:5677636 [\"A\",\"C\"]': 0.014547947762667091,\n",
       " 'chr1:5683449 [\"A\",\"G\"]': 0.0656898778197957,\n",
       " 'chr1:5689023 [\"G\",\"A\"]': -0.002113828247366067,\n",
       " 'chr1:5689953 [\"G\",\"A\"]': 0.01268877103285947,\n",
       " 'chr1:5691531 [\"A\",\"G\"]': 0.014842379386499713,\n",
       " 'chr1:5705087 [\"C\",\"T\"]': -0.001465482315980797,\n",
       " 'chr1:5706219 [\"G\",\"A\"]': 0.02854597775860253,\n",
       " 'chr1:5722667 [\"G\",\"A\"]': -0.0006385200629063971,\n",
       " 'chr1:5723072 [\"T\",\"C\"]': 0.07875849630735293,\n",
       " 'chr1:5726264 [\"G\",\"A\"]': 0.0015010282784084098,\n",
       " 'chr1:5728064 [\"C\",\"T\"]': 0.005117594133000941,\n",
       " 'chr1:5751222 [\"G\",\"A\"]': 0.004882647681104882,\n",
       " 'chr1:5751483 [\"A\",\"G\"]': 0.05254636960137573,\n",
       " 'chr1:5767880 [\"G\",\"A\"]': 0.047491549571484354,\n",
       " 'chr1:5779872 [\"C\",\"T\"]': 0.0028627340931034187,\n",
       " 'chr1:5787179 [\"C\",\"T\"]': 0.044875546821010144,\n",
       " 'chr1:5798883 [\"G\",\"T\"]': -0.0021077666396641694,\n",
       " 'chr1:5803266 [\"A\",\"AACACACAC\"]': 0.01615160790098792,\n",
       " 'chr1:5821983 [\"G\",\"A\"]': 0.045299138614426124,\n",
       " 'chr1:5832118 [\"G\",\"C\"]': 0.02266613761187532,\n",
       " 'chr1:5832554 [\"TTC\",\"T\"]': 0.09050435964636945,\n",
       " 'chr1:5839254 [\"T\",\"C\"]': 0.037317604838196336,\n",
       " 'chr1:5841228 [\"T\",\"C\"]': 0.0241138772562395,\n",
       " 'chr1:5841912 [\"T\",\"C\"]': 0.07623392813719042,\n",
       " 'chr1:5850941 [\"C\",\"T\"]': -0.0019638303017022315,\n",
       " 'chr1:5854043 [\"C\",\"T\"]': 0.0368725803686813,\n",
       " 'chr1:5854232 [\"A\",\"G\"]': 0.04538867082128973,\n",
       " 'chr1:5854555 [\"G\",\"A\"]': 0.021243618075463593,\n",
       " 'chr1:5855773 [\"G\",\"A\"]': -0.002076896772855746,\n",
       " 'chr1:5856103 [\"T\",\"C\"]': 0.02548638960977436,\n",
       " 'chr1:5875102 [\"T\",\"A\"]': 0.015702253138796345,\n",
       " 'chr1:5875162 [\"T\",\"C\"]': 0.007897613274704675,\n",
       " 'chr1:5875334 [\"G\",\"GT\"]': 0.025827010783993517,\n",
       " 'chr1:5875610 [\"C\",\"G\"]': -0.001865173645897448,\n",
       " 'chr1:5896849 [\"C\",\"A\"]': 0.013890422637298037,\n",
       " 'chr1:5947386 [\"C\",\"T\"]': -0.0007102541028815469,\n",
       " 'chr1:5947414 [\"G\",\"A\"]': 0.039785861189182245,\n",
       " 'chr1:5951717 [\"G\",\"A\"]': 0.05552563599037252,\n",
       " 'chr1:5980650 [\"C\",\"T\"]': 0.023238469200588203,\n",
       " 'chr1:6007201 [\"T\",\"TG\"]': -0.0017406028806807952,\n",
       " 'chr1:6015862 [\"G\",\"A\"]': 0.012156237938516737,\n",
       " 'chr1:6017406 [\"C\",\"CTG\"]': 0.024483045544753303,\n",
       " 'chr1:6017406 [\"CTGTG\",\"C\"]': 0.015425789717793324,\n",
       " 'chr1:6040253 [\"A\",\"G\"]': 0.07602017302111644,\n",
       " 'chr1:6043942 [\"T\",\"C\"]': 0.022384231458264483,\n",
       " 'chr1:6043969 [\"A\",\"G\"]': 0.006196654055754886,\n",
       " 'chr1:6044170 [\"T\",\"C\"]': 0.0836936834866931,\n",
       " 'chr1:6078496 [\"C\",\"A\"]': 0.005583548865088836,\n",
       " 'chr1:6078599 [\"C\",\"T\"]': 0.04800965444743604,\n",
       " 'chr1:6078882 [\"G\",\"C\"]': -0.001991446282404119,\n",
       " 'chr1:6079473 [\"T\",\"C\"]': 0.003951738563840793,\n",
       " 'chr1:6080494 [\"G\",\"A\"]': 0.06846514905115324,\n",
       " 'chr1:6081265 [\"G\",\"A\"]': 0.012496850481587074,\n",
       " 'chr1:6084634 [\"A\",\"G\"]': 0.09751521050535525,\n",
       " 'chr1:6084675 [\"G\",\"A\"]': 0.027721144342926708,\n",
       " 'chr1:6085305 [\"A\",\"G\"]': 0.0008598678943037385,\n",
       " 'chr1:6085347 [\"G\",\"A\"]': 0.0006365801128752712,\n",
       " 'chr1:6085623 [\"A\",\"G\"]': 0.016213476994979818,\n",
       " 'chr1:6097222 [\"C\",\"T\"]': -0.002139245849624011,\n",
       " 'chr1:6102541 [\"T\",\"C\"]': 0.010292123565066032,\n",
       " 'chr1:6122261 [\"A\",\"G\"]': 0.04858873709008422,\n",
       " 'chr1:6141658 [\"C\",\"T\"]': 0.0013247463401867504,\n",
       " 'chr1:6144162 [\"C\",\"G\"]': 0.004730373303250792,\n",
       " 'chr1:6147157 [\"T\",\"C\"]': 0.11630451398085744,\n",
       " 'chr1:6160974 [\"G\",\"T\"]': -0.0014891555447640824,\n",
       " 'chr1:6162301 [\"G\",\"A\"]': 0.000609964000861958,\n",
       " 'chr1:6162441 [\"C\",\"A\"]': 0.022420042923448427,\n",
       " 'chr1:6177045 [\"A\",\"C\"]': 0.031007175023438634,\n",
       " 'chr1:6183672 [\"T\",\"A\"]': 0.038989763552384774,\n",
       " 'chr1:6197766 [\"T\",\"C\"]': 0.01840239767925515,\n",
       " 'chr1:6198734 [\"A\",\"G\"]': 0.01718174464658044,\n",
       " 'chr1:6204712 [\"T\",\"C\"]': 0.04580388856476652,\n",
       " 'chr1:6209280 [\"A\",\"G\"]': 0.05364590280133287,\n",
       " 'chr1:6210151 [\"A\",\"C\"]': 0.02838644695781566,\n",
       " 'chr1:6223329 [\"G\",\"C\"]': 0.054012553382598055,\n",
       " 'chr1:6231687 [\"A\",\"T\"]': 0.0612209028898302,\n",
       " 'chr1:6240444 [\"G\",\"C\"]': 0.0008046309632657881,\n",
       " 'chr1:6243564 [\"C\",\"T\"]': -0.0013496839842542035,\n",
       " 'chr1:6262459 [\"G\",\"C\"]': 0.02266613761187532,\n",
       " 'chr1:6264017 [\"A\",\"G\"]': 0.0040616438102155684,\n",
       " 'chr1:6268423 [\"A\",\"G\"]': 0.03577503783956617,\n",
       " 'chr1:6269929 [\"C\",\"T\"]': 0.0028240540084406578,\n",
       " 'chr1:6269955 [\"T\",\"C\"]': 0.02520889307233666,\n",
       " 'chr1:6272849 [\"T\",\"C\"]': 0.04023461765089027,\n",
       " 'chr1:6276541 [\"G\",\"C\"]': 0.02089976137120682,\n",
       " 'chr1:6307159 [\"T\",\"G\"]': 0.07241785879034521,\n",
       " 'chr1:6314000 [\"C\",\"T\"]': 0.07330888325750311,\n",
       " 'chr1:6440984 [\"C\",\"G\"]': 0.01524107600267937,\n",
       " 'chr1:6463518 [\"T\",\"A\"]': 0.034444241973204316,\n",
       " 'chr1:6463542 [\"C\",\"T\"]': -0.001363730184398593,\n",
       " 'chr1:6465860 [\"C\",\"T\"]': 0.019406582494472205,\n",
       " 'chr1:6480956 [\"G\",\"A\"]': 0.06381626325902381,\n",
       " 'chr1:6481110 [\"C\",\"T\"]': 0.005721086773629971,\n",
       " 'chr1:6500979 [\"C\",\"T\"]': 0.01899646533942732,\n",
       " 'chr1:6502431 [\"A\",\"C\"]': -0.0002560512678655494,\n",
       " 'chr1:6503007 [\"G\",\"A\"]': -0.0021308054368775766,\n",
       " 'chr1:6503661 [\"C\",\"T\"]': 0.06809675565264303,\n",
       " 'chr1:6504081 [\"G\",\"T\"]': 0.01961177123301919,\n",
       " 'chr1:6509831 [\"C\",\"T\"]': 0.04538569864483796,\n",
       " 'chr1:6518052 [\"C\",\"T\"]': 0.03982567790954212,\n",
       " 'chr1:6524167 [\"G\",\"C\"]': -4.070020635004625e-06,\n",
       " 'chr1:6556385 [\"T\",\"TTCTA\"]': 0.06382306002361496,\n",
       " 'chr1:6568959 [\"A\",\"AG\"]': -0.001591313150956596,\n",
       " 'chr1:6573170 [\"G\",\"A\"]': 0.06337489308805665,\n",
       " 'chr1:6580376 [\"TC\",\"T\"]': 0.012150991377517725,\n",
       " 'chr1:6586899 [\"GCCTGCCTTC\",\"G\"]': 0.008285884206143599,\n",
       " 'chr1:6623074 [\"T\",\"C\"]': 0.05109105347372074,\n",
       " 'chr1:6641918 [\"T\",\"C\"]': 0.01182808544373153,\n",
       " 'chr1:6743432 [\"G\",\"T\"]': 0.038564010595952956,\n",
       " 'chr1:6786419 [\"T\",\"G\"]': 0.021820747283488415,\n",
       " 'chr1:6791251 [\"G\",\"GT\"]': 0.049191001115968115,\n",
       " 'chr1:6813872 [\"T\",\"C\"]': 0.08023055492359234,\n",
       " 'chr1:6853421 [\"T\",\"G\"]': 0.010748705208330782,\n",
       " 'chr1:6908948 [\"C\",\"T\"]': -0.0018007283706908356,\n",
       " 'chr1:6916448 [\"TC\",\"T\"]': -0.002111350920826166,\n",
       " 'chr1:6921427 [\"A\",\"G\"]': 0.04678629106061015,\n",
       " 'chr1:6943715 [\"C\",\"T\"]': -0.0009728668155907409,\n",
       " 'chr1:6955284 [\"T\",\"C\"]': 0.06426489546609732,\n",
       " 'chr1:6976742 [\"A\",\"G\"]': 0.07152876906595484,\n",
       " 'chr1:6977525 [\"A\",\"G\"]': 0.006616365695892502,\n",
       " 'chr1:6979668 [\"C\",\"T\"]': 0.041270697834480605,\n",
       " 'chr1:7007909 [\"C\",\"T\"]': 0.034128455750192174,\n",
       " 'chr1:7019197 [\"G\",\"T\"]': 0.0030199529388731626,\n",
       " 'chr1:7032369 [\"C\",\"G\"]': -0.0010242320482161155,\n",
       " 'chr1:7035162 [\"G\",\"C\"]': 0.029889784369873582,\n",
       " 'chr1:7053847 [\"T\",\"G\"]': 0.03872707561145531,\n",
       " 'chr1:7068406 [\"C\",\"T\"]': -0.0009016409047312038,\n",
       " 'chr1:7069445 [\"G\",\"A\"]': -0.0018301558762640704,\n",
       " 'chr1:7069560 [\"T\",\"A\"]': 0.017390792296268425,\n",
       " 'chr1:7070909 [\"T\",\"C\"]': -0.0006898922364312754,\n",
       " 'chr1:7075208 [\"A\",\"G\"]': 0.07883056972832879,\n",
       " 'chr1:7075312 [\"A\",\"G\"]': 0.02936379682022491,\n",
       " 'chr1:7078234 [\"T\",\"G\"]': -0.00160154677002926,\n",
       " 'chr1:7098099 [\"T\",\"TTG\"]': -0.0014218278416575428,\n",
       " 'chr1:7107278 [\"A\",\"ATGTGTGTGTG\"]': 0.026851371792835137,\n",
       " 'chr1:7107278 [\"A\",\"ATGTGTGTGTGTG\"]': 0.02854597775860253,\n",
       " 'chr1:7110279 [\"C\",\"T\"]': 0.0014313773038070322,\n",
       " 'chr1:7110659 [\"A\",\"G\"]': -0.0018568162870702802,\n",
       " 'chr1:7110990 [\"G\",\"A\"]': 0.04099684691797781,\n",
       " 'chr1:7112129 [\"G\",\"A\"]': 0.031591949664133416,\n",
       " 'chr1:7121132 [\"A\",\"G\"]': 0.005679268990860033,\n",
       " 'chr1:7125025 [\"G\",\"A\"]': 0.00798315350005131,\n",
       " 'chr1:7136885 [\"C\",\"T\"]': 0.029905762149030957,\n",
       " 'chr1:7140965 [\"C\",\"G\"]': 0.037048760963780715,\n",
       " 'chr1:7145890 [\"C\",\"T\"]': 0.003995903608050699,\n",
       " 'chr1:7151280 [\"T\",\"G\"]': 0.09962769689069777,\n",
       " 'chr1:7161398 [\"T\",\"C\"]': -0.002104996082589709,\n",
       " 'chr1:7176750 [\"A\",\"G\"]': -0.0014592424084005709,\n",
       " 'chr1:7187275 [\"G\",\"A\"]': -0.001922471199661729,\n",
       " 'chr1:7187316 [\"T\",\"C\"]': 0.09914675936509751,\n",
       " 'chr1:7187919 [\"T\",\"C\"]': 0.021227800302858583,\n",
       " 'chr1:7188154 [\"G\",\"A\"]': 0.031117708617885372,\n",
       " 'chr1:7190462 [\"T\",\"C\"]': 0.07862573854103931,\n",
       " 'chr1:7192306 [\"C\",\"T\"]': 0.06680916103711194,\n",
       " 'chr1:7192601 [\"A\",\"C\"]': 0.06731698980847586,\n",
       " 'chr1:7209089 [\"T\",\"TTTG\"]': 0.02466747629514306,\n",
       " 'chr1:7212911 [\"G\",\"A\"]': 0.05565297282057122,\n",
       " 'chr1:7231327 [\"A\",\"ATGTGTG\"]': 0.0333219263217566,\n",
       " 'chr1:7264403 [\"A\",\"G\"]': 0.0027955430401500705,\n",
       " 'chr1:7264899 [\"C\",\"A\"]': 0.000933571856115194,\n",
       " 'chr1:7265195 [\"A\",\"G\"]': 0.030794326795240832,\n",
       " 'chr1:7265596 [\"G\",\"C\"]': 0.0059390967991714266,\n",
       " 'chr1:7283306 [\"C\",\"T\"]': 0.03424321408848225,\n",
       " 'chr1:7289946 [\"T\",\"C\"]': 0.03797091677046076,\n",
       " 'chr1:7307129 [\"G\",\"A\"]': 0.03175018453869625,\n",
       " 'chr1:7308769 [\"T\",\"C\"]': 0.013062416338233355,\n",
       " 'chr1:7342420 [\"T\",\"C\"]': 0.036140976025336134,\n",
       " 'chr1:7371601 [\"T\",\"G\"]': 0.06536797954341968,\n",
       " 'chr1:7382830 [\"T\",\"TGATA\"]': -0.0007805018506847256,\n",
       " 'chr1:7391328 [\"A\",\"AGT\"]': 0.035922676005499185,\n",
       " 'chr1:7391328 [\"A\",\"AGTGTGT\"]': 0.0029316865833544582,\n",
       " 'chr1:7408301 [\"G\",\"C\"]': 0.04894457562026236,\n",
       " 'chr1:7408978 [\"A\",\"G\"]': 0.00010072042945773134,\n",
       " 'chr1:7425246 [\"C\",\"T\"]': 0.012909859120768004,\n",
       " 'chr1:7428293 [\"G\",\"C\"]': 0.006177937646614862,\n",
       " 'chr1:7429435 [\"G\",\"A\"]': 0.008164098588597644,\n",
       " 'chr1:7429873 [\"C\",\"G\"]': 0.01490607614996846,\n",
       " 'chr1:7430494 [\"T\",\"A\"]': 0.08143457029829279,\n",
       " 'chr1:7430948 [\"A\",\"G\"]': 0.009706853940823266,\n",
       " 'chr1:7431364 [\"G\",\"C\"]': 0.02432686096749982,\n",
       " 'chr1:7431668 [\"A\",\"C\"]': 0.13666612253854468,\n",
       " 'chr1:7434451 [\"CCATTCATT\",\"C\"]': 0.026434710003437296,\n",
       " 'chr1:7449612 [\"A\",\"G\"]': 0.04703789597079255,\n",
       " 'chr1:7450002 [\"A\",\"G\"]': -0.0016802826447041765,\n",
       " 'chr1:7451118 [\"G\",\"C\"]': 0.01597331239833696,\n",
       " 'chr1:7451774 [\"A\",\"C\"]': 0.031247044113747232,\n",
       " 'chr1:7452597 [\"G\",\"A\"]': -0.0006343984247783334,\n",
       " 'chr1:7452970 [\"A\",\"G\"]': 0.01247244114521026,\n",
       " 'chr1:7453203 [\"G\",\"A\"]': -0.0011885840913987142,\n",
       " 'chr1:7456687 [\"C\",\"G\"]': 0.02843154230231914,\n",
       " 'chr1:7460069 [\"C\",\"T\"]': 0.016047731341572537,\n",
       " ...}"
      ]
     },
     "execution_count": 330,
     "metadata": {},
     "output_type": "execute_result"
    }
   ],
   "source": [
    "key_FST_YRI"
   ]
  },
  {
   "cell_type": "markdown",
   "metadata": {},
   "source": [
    "## *three popn pairs*"
   ]
  },
  {
   "cell_type": "code",
   "execution_count": 306,
   "metadata": {},
   "outputs": [],
   "source": [
    "## example using three sample pairs ['CEU', 'YRI'], ['CEU', 'LWK'], ['CEU', 'ESN'] and setting up the function \n",
    "example_pairs = pair_com[0:3]\n",
    "\n",
    "ex_dict = {} # empty dictionary to hold final outputs \n",
    "for pairs in example_pairs:\n",
    "    l = [] # empty list to hold the subsetted datasets \n",
    "    l.append(mt_var_pru_filt.filter_cols(mt_var_pru_filt['hgdp_tgp_meta']['Population'] == pairs[0])) # first population \n",
    "    l.append(mt_var_pru_filt.filter_cols(mt_var_pru_filt['hgdp_tgp_meta']['Population'] == pairs[1])) # second population \n",
    "    l.append(mt_var_pru_filt.filter_cols((mt_var_pru_filt['hgdp_tgp_meta']['Population'] == pairs[0]) | (mt_var_pru_filt['hgdp_tgp_meta']['Population'] == pairs[1]))) # first + second = total population\n",
    "    \n",
    "    # sanity check - the sample count of the first and second subset mts should be equal to the total subset mt \n",
    "    if l[0].count()[1] + l[1].count()[1] == l[2].count()[1]: \n",
    "        v = [] # empty list to hold output mts from running common variant statistics \n",
    "        # run common variant statistics for each population and their combined mt\n",
    "        v.append(hl.variant_qc(l[0])) # first population  \n",
    "        v.append(hl.variant_qc(l[1])) # second population \n",
    "        v.append(hl.variant_qc(l[2])) # both/total population\n",
    "        \n",
    "        # add to dictionary \n",
    "        ex_dict[\"-\".join(pairs)] = v"
   ]
  },
  {
   "cell_type": "code",
   "execution_count": 307,
   "metadata": {},
   "outputs": [
    {
     "data": {
      "text/plain": [
       "{'CEU-YRI': [<hail.matrixtable.MatrixTable at 0x7fa0746468e0>,\n",
       "  <hail.matrixtable.MatrixTable at 0x7fa0b47b8730>,\n",
       "  <hail.matrixtable.MatrixTable at 0x7fa0b49bf7c0>],\n",
       " 'CEU-LWK': [<hail.matrixtable.MatrixTable at 0x7fa0b4a03df0>,\n",
       "  <hail.matrixtable.MatrixTable at 0x7fa0b4a01ac0>,\n",
       "  <hail.matrixtable.MatrixTable at 0x7fa09d6ac790>],\n",
       " 'CEU-ESN': [<hail.matrixtable.MatrixTable at 0x7fa09d094760>,\n",
       "  <hail.matrixtable.MatrixTable at 0x7fa09ffa7520>,\n",
       "  <hail.matrixtable.MatrixTable at 0x7fa0745af1f0>]}"
      ]
     },
     "execution_count": 307,
     "metadata": {},
     "output_type": "execute_result"
    }
   ],
   "source": [
    "# three mt subsets per comparison pair - set up as a dictionary \n",
    "ex_dict"
   ]
  },
  {
   "cell_type": "code",
   "execution_count": null,
   "metadata": {},
   "outputs": [],
   "source": [
    "# same as CEU_var['variant_qc'].show(5)\n",
    "ex_dict['CEU-YRI'][0]['variant_qc'].show(5)"
   ]
  },
  {
   "cell_type": "code",
   "execution_count": 365,
   "metadata": {},
   "outputs": [],
   "source": [
    "# final fst run basic structure - incomplete \n",
    "final_dic = {}\n",
    "for pair in ex_dict.keys(): # for each population pair \n",
    "    u = [] # list to hold updated mts  \n",
    "    for i in range(len(ex_dict[pair])): # for each population (each mt)\n",
    "        # pop1\n",
    "        # drop certain fields and only keep the ones we need \n",
    "        interm = ex_dict[pair][i].drop(*list(ex_dict[pair][i].entry), *list(ex_dict[pair][i].col)[1:], *list(ex_dict[pair][i].row)[2:-1])\n",
    "        interm2 = interm.select_rows(interm['variant_qc']['AF'], interm['variant_qc']['AN'])  \n",
    "        interm3 = interm2.transmute_rows(AF = interm2.AF[1])\n",
    "        #final = interm3.annotate_rows(pop = pair) # keep track of which mt it came from\n",
    "        u.append(interm3) # add updated mt to list \n",
    "    \n",
    "    # variables for FST run \n",
    "\n",
    "    # assign populations to formula variables \n",
    "    pop1 = u[0]\n",
    "    pop2 = u[1]\n",
    "    total = u[2]\n",
    "        \n",
    "    # number of alleles \n",
    "    n1 = np.array(pop1.AN.collect())\n",
    "    n2 = np.array(pop2.AN.collect())\n",
    "    total_n = np.array(total.AN.collect())\n",
    "\n",
    "    # allele frequencies \n",
    "    FREQpop1 = np.array(pop1.AF.collect()) \n",
    "    FREQpop2 = np.array(pop2.AF.collect())\n",
    "    total_FREQ = np.array(total.AF.collect()) \n",
    "    \n",
    "    # locus + alleles = keys - needed for reference purposes during FST calculations - these values are uniform across all populations \n",
    "    locus = np.array(hl.str(pop1.locus).collect())\n",
    "    alleles = np.array(hl.str(pop1.alleles).collect())\n",
    "    key = np.array([i + ' ' + j for i, j in zip(locus, alleles)])\n",
    "    \n",
    "    s=2   # s is the number of populations - since we are calculating pair-wise FSTs, this is always 2 \n",
    "    \n",
    "    # FST pop1 and total popn\n",
    "    key_pop1_total = {}\n",
    "    for i in range(len(key)):\n",
    "        FREQ = ((n1[i]*FREQpop1[i]) + (total_n[i]*total_FREQ[i])) / (n1[i]+total_n[i])\n",
    "\n",
    "        if (FREQ>0) & (FREQ<1): # only include ave freq between 0 and 1\n",
    "\n",
    "        ## average sample size that incorporates variance\n",
    "            nc = ((1/(s-1)) * (n1[i]+total_n[i])) - ((np.square(n1[i]) + np.square(total_n[i]))/(n1[i]+total_n[i]))\n",
    "\n",
    "            msa= (1/(s-1))*((n1[i]*(np.square(FREQpop1[i]-FREQ)))+(total_n[i]*(np.square(total_FREQ[i]-FREQ))))\n",
    "\n",
    "            msw = (1/((n1[i]-1)+(total_n[i]-1))) * ((n1[i]*(FREQpop1[i]*(1-FREQpop1[i]))) + (total_n[i]*(total_FREQ[i]*(1-total_FREQ[i]))))\n",
    "\n",
    "            numer = msa-msw\n",
    "\n",
    "            denom = msa + ((nc-1)*msw)\n",
    "\n",
    "            FST = numer/denom\n",
    "\n",
    "            key_pop1_total[key[i]] = FST\n",
    "            \n",
    "    # FST pop2 and total popn\n",
    "    key_pop2_total = {}\n",
    "    for i in range(len(key)):\n",
    "        FREQ = ((n2[i]*FREQpop2[i]) + (total_n[i]*total_FREQ[i])) / (n2[i]+total_n[i])\n",
    "\n",
    "        if (FREQ>0) & (FREQ<1): # only include ave freq between 0 and 1\n",
    "\n",
    "        ## average sample size that incorporates variance\n",
    "            nc = ((1/(s-1)) * (n2[i]+total_n[i])) - ((np.square(n2[i]) + np.square(total_n[i]))/(n2[i]+total_n[i]))\n",
    "\n",
    "            msa= (1/(s-1))*((n2[i]*(np.square(FREQpop2[i]-FREQ)))+(total_n[i]*(np.square(total_FREQ[i]-FREQ))))\n",
    "\n",
    "            msw = (1/((n2[i]-1)+(total_n[i]-1))) * ((n2[i]*(FREQpop2[i]*(1-FREQpop2[i]))) + (total_n[i]*(total_FREQ[i]*(1-total_FREQ[i]))))\n",
    "\n",
    "            numer = msa-msw\n",
    "\n",
    "            denom = msa + ((nc-1)*msw)\n",
    "\n",
    "            FST = numer/denom\n",
    "\n",
    "            key_pop2_total[key[i]] = FST\n",
    "    \n",
    "    # merge the two FST results together\n",
    "    from collections import defaultdict\n",
    "\n",
    "    dd = defaultdict(list)\n",
    "\n",
    "    for d in (key_pop1_total, key_pop2_total):\n",
    "        for key, value in d.items():\n",
    "            dd[key].append(value)\n",
    "    \n",
    "    final_dic[pair] = dd"
   ]
  },
  {
   "cell_type": "markdown",
   "metadata": {},
   "source": [
    "-"
   ]
  },
  {
   "cell_type": "markdown",
   "metadata": {},
   "source": [
    "## junk code 1"
   ]
  },
  {
   "cell_type": "code",
   "execution_count": null,
   "metadata": {},
   "outputs": [],
   "source": [
    "# population - YRI\n",
    "# same steps we did to CEU\n",
    "\n",
    "\n",
    "YRI_var == ex_dict['CEU-YRI'][0]\n",
    "\n",
    "YRI_interm = ex_dict['CEU-YRI'][0].drop(*list(ex_dict['CEU-YRI'][0].entry)\n",
    "\n",
    "\n",
    "YRI_interm = ex_dict['CEU-YRI'][0].drop(*list(ex_dict['CEU-YRI'][0].entry), *list(ex_dict['CEU-YRI'][0].col)[1:], *list(ex_dict['CEU-YRI'][0].row)[2:-1])\n",
    "\n",
    "# only select the row field keys (locus and allele) and row fields 'AF' & 'AN' which are under 'variant_qc'\n",
    "YRI_interm2 = YRI_interm.select_rows(YRI_interm['variant_qc']['AF'], YRI_interm['variant_qc']['AN'])  \n",
    "\n",
    "# only include the second entry of the array from the row field 'AF' \n",
    "YRI_interm3 = YRI_interm2.transmute_rows(AF = YRI_interm2.AF[1])\n",
    "\n",
    "# add a row field with population name to keep track of which mt it came from \n",
    "YRI_final = YRI_interm3.annotate_rows(pop = pairs[0])\n",
    "YRI_final.rows().show(5)"
   ]
  },
  {
   "cell_type": "code",
   "execution_count": 318,
   "metadata": {},
   "outputs": [
    {
     "data": {
      "text/plain": [
       "3"
      ]
     },
     "execution_count": 318,
     "metadata": {},
     "output_type": "execute_result"
    }
   ],
   "source": [
    "len(ex_dict['CEU-YRI'])"
   ]
  },
  {
   "cell_type": "code",
   "execution_count": 332,
   "metadata": {},
   "outputs": [],
   "source": [
    "a = ['CEU-YRI','CEU-LWK', 'CEU-ESN']\n",
    "b = [0,1,2]\n",
    "dc = {}\n",
    "for i in a:\n",
    "    li = []\n",
    "    for j in b:\n",
    "        li.append(str(j) + i)\n",
    "    dc[i] = li \n",
    "        "
   ]
  },
  {
   "cell_type": "code",
   "execution_count": 350,
   "metadata": {},
   "outputs": [
    {
     "name": "stdout",
     "output_type": "stream",
     "text": [
      "0\n",
      "1\n"
     ]
    }
   ],
   "source": [
    "for i in range(len(v)-1):\n",
    "    print(i)"
   ]
  },
  {
   "cell_type": "code",
   "execution_count": null,
   "metadata": {},
   "outputs": [],
   "source": [
    "from collections import defaultdict\n",
    "\n",
    "dd = defaultdict(list)\n",
    "\n",
    "for d in (key_FST, key_FST_YRI):\n",
    "    print(d)\n",
    "    #for key, value in d.items():\n",
    "        #dd[key].append(value)"
   ]
  },
  {
   "cell_type": "code",
   "execution_count": 362,
   "metadata": {},
   "outputs": [
    {
     "data": {
      "text/plain": [
       "range(0, 3)"
      ]
     },
     "execution_count": 362,
     "metadata": {},
     "output_type": "execute_result"
    }
   ],
   "source": [
    "range(len(ex_dict[pair]))"
   ]
  },
  {
   "cell_type": "code",
   "execution_count": 369,
   "metadata": {},
   "outputs": [],
   "source": [
    "# convert to a table \n",
    "import pandas as pd\n",
    "\n",
    "df = pd.DataFrame(final_dic) \n"
   ]
  },
  {
   "cell_type": "code",
   "execution_count": 377,
   "metadata": {},
   "outputs": [
    {
     "data": {
      "text/plain": [
       "246984"
      ]
     },
     "execution_count": 377,
     "metadata": {},
     "output_type": "execute_result"
    }
   ],
   "source": [
    "len(final_dic['CEU-YRI']) # 246984"
   ]
  },
  {
   "cell_type": "code",
   "execution_count": 378,
   "metadata": {},
   "outputs": [],
   "source": [
    "## example - pair_com[0] = ['CEU', 'YRI'] and pair_com[0][0] = 'CEU'\n",
    "CEU_mt = mt_var_pru_filt.filter_cols(mt_var_pru_filt['hgdp_tgp_meta']['Population'] == pair_com[1][0])\n",
    "LWK_mt = mt_var_pru_filt.filter_cols(mt_var_pru_filt['hgdp_tgp_meta']['Population'] == pair_com[1][1])\n",
    "CEU_LWK_mt = mt_var_pru_filt.filter_cols((mt_var_pru_filt['hgdp_tgp_meta']['Population'] == pair_com[1][0]) | (mt_var_pru_filt['hgdp_tgp_meta']['Population'] == pair_com[1][1]))\n",
    "\n",
    "# run common variant statistics for each population and their combined mt \n",
    "CEU_var = hl.variant_qc(CEU_mt) # individual \n",
    "LWK_var = hl.variant_qc(LWK_mt) # individual\n",
    "CEU_LWK_var = hl.variant_qc(CEU_YRI_mt) # total "
   ]
  },
  {
   "cell_type": "code",
   "execution_count": 381,
   "metadata": {},
   "outputs": [
    {
     "data": {
      "text/plain": [
       "(248634, 97)"
      ]
     },
     "execution_count": 381,
     "metadata": {},
     "output_type": "execute_result"
    }
   ],
   "source": [
    "LWK_var.count()"
   ]
  },
  {
   "cell_type": "code",
   "execution_count": 374,
   "metadata": {},
   "outputs": [
    {
     "data": {
      "text/plain": [
       "dict_keys(['CEU-YRI', 'CEU-LWK', 'CEU-ESN'])"
      ]
     },
     "execution_count": 374,
     "metadata": {},
     "output_type": "execute_result"
    }
   ],
   "source": [
    "# population - YRI\n",
    "# same steps we did to CEU\n",
    "\n",
    "YRI_interm = YRI_var.drop(*list(YRI_var.entry), *list(YRI_var.col)[1:], *list(YRI_var.row)[2:-1])\n",
    "\n",
    "# only select the row field keys (locus and allele) and row fields 'AF' & 'AN' which are under 'variant_qc'\n",
    "YRI_interm2 = YRI_interm.select_rows(YRI_interm['variant_qc']['AF'], YRI_interm['variant_qc']['AN'])  \n",
    "\n",
    "# only include the second entry of the array from the row field 'AF' \n",
    "YRI_interm3 = YRI_interm2.transmute_rows(AF = YRI_interm2.AF[1])\n",
    "\n",
    "# add a row field with population name to keep track of which mt it came from \n",
    "YRI_final = YRI_interm3.annotate_rows(pop = pair_com[0][1])\n",
    "YRI_final.rows().show(5)"
   ]
  },
  {
   "cell_type": "code",
   "execution_count": 310,
   "metadata": {},
   "outputs": [
    {
     "name": "stdout",
     "output_type": "stream",
     "text": [
      "CEU-YRI\n",
      "CEU-LWK\n",
      "CEU-ESN\n"
     ]
    }
   ],
   "source": [
    "for pair in ex_dict.keys(): # for each population pair \n",
    "    for i in range(len(ex_dict[i])): # for each population \n",
    "    \n",
    "\n",
    "\n",
    "\n",
    "        interm = ex_dict[pair][i].drop(*list(ex_dict[pair][i].entry), *list(ex_dict[pair][i].col)[1:], *list(ex_dict[pair][i].row)[2:-1])\n",
    "\n",
    "        # only select the row field keys (locus and allele) and row fields 'AF' & 'AN' which are under 'variant_qc'\n",
    "        interm2 = interm.select_rows(interm['variant_qc']['AF'], interm['variant_qc']['AN'])  \n",
    "\n",
    "        # only include the second entry of the array from the row field 'AF' \n",
    "        interm3 = interm2.transmute_rows(AF = interm2.AF[1])\n",
    "\n",
    "        # add a row field with population name to keep track of which mt it came from \n",
    "        final = interm3.annotate_rows(pop = pair)\n",
    "        final.rows().show(5)\n",
    "    "
   ]
  },
  {
   "cell_type": "code",
   "execution_count": null,
   "metadata": {},
   "outputs": [],
   "source": [
    "%%time\n",
    "# actual function/run using all population pairs\n",
    "dict = {} # empty dictionary to hold final outputs \n",
    "for pairs in pair_com:\n",
    "    l = [] # empty list to hold the subsetted datasets \n",
    "    l.append(mt_var_pru_filt.filter_cols(mt_var_pru_filt['hgdp_tgp_meta']['Population'] == pairs[0])) # first population \n",
    "    l.append(mt_var_pru_filt.filter_cols(mt_var_pru_filt['hgdp_tgp_meta']['Population'] == pairs[1])) # second population \n",
    "    l.append(mt_var_pru_filt.filter_cols((mt_var_pru_filt['hgdp_tgp_meta']['Population'] == pairs[0]) | (mt_var_pru_filt['hgdp_tgp_meta']['Population'] == pairs[1]))) # first + second = total population\n",
    "    \n",
    "    # sanity check - the sample count of the first and second subset mts should be equal to the total subset mt \n",
    "    if l[0].count()[1] + l[1].count()[1] == l[2].count()[1]: \n",
    "        v = [] # empty list to hold output mts from running common variant statistics \n",
    "        # run common variant statistics for each population and their combined mt\n",
    "        v.append(hl.variant_qc(l[0])) # first population  \n",
    "        v.append(hl.variant_qc(l[1])) # second population \n",
    "        v.append(hl.variant_qc(l[2])) # both/total population\n",
    "        \n",
    "        # add to dictionary \n",
    "        dict[\"-\".join(pairs)] = v"
   ]
  },
  {
   "cell_type": "code",
   "execution_count": null,
   "metadata": {},
   "outputs": [],
   "source": [
    "len(dict)"
   ]
  },
  {
   "cell_type": "code",
   "execution_count": null,
   "metadata": {},
   "outputs": [],
   "source": [
    "dict"
   ]
  },
  {
   "cell_type": "code",
   "execution_count": null,
   "metadata": {},
   "outputs": [],
   "source": [
    "dict['CEU-YRI'][0]['variant_qc'].show(5)"
   ]
  },
  {
   "cell_type": "code",
   "execution_count": null,
   "metadata": {},
   "outputs": [],
   "source": [
    "dict['CEU-YRI'][1]['variant_qc'].show(5)"
   ]
  },
  {
   "cell_type": "code",
   "execution_count": null,
   "metadata": {},
   "outputs": [],
   "source": [
    "dict['CEU-YRI'][2]['variant_qc'].show(5)"
   ]
  },
  {
   "cell_type": "code",
   "execution_count": null,
   "metadata": {},
   "outputs": [],
   "source": [
    "# accessing dictionary element with index \n",
    "ex_dict[list(ex_dict)[0]][0]['variant_qc'].show(5)"
   ]
  },
  {
   "cell_type": "code",
   "execution_count": null,
   "metadata": {},
   "outputs": [],
   "source": [
    "for l in list(ex_dict):\n",
    "    print(ex_dict[l][1]['variant_qc']['AF'][1].show(5))"
   ]
  },
  {
   "cell_type": "code",
   "execution_count": null,
   "metadata": {},
   "outputs": [],
   "source": [
    "list(ex_dict)"
   ]
  },
  {
   "cell_type": "code",
   "execution_count": null,
   "metadata": {},
   "outputs": [],
   "source": [
    "CEU_af_freq = ex_dict[list(ex_dict)[0]][0]['variant_qc']['AF'][1]"
   ]
  },
  {
   "cell_type": "code",
   "execution_count": null,
   "metadata": {},
   "outputs": [],
   "source": [
    "play_mt = hl.utils.range_matrix_table(0, 6)"
   ]
  },
  {
   "cell_type": "code",
   "execution_count": null,
   "metadata": {},
   "outputs": [],
   "source": [
    "ex_dict[list(ex_dict)[0]][0].cols().show(5)"
   ]
  },
  {
   "cell_type": "code",
   "execution_count": null,
   "metadata": {},
   "outputs": [],
   "source": [
    "mt.select_rows(mt.r1, mt.r2,\n",
    "r3=hl.coalesce(mt.r1, mt.r2))\n",
    "\n",
    "mt.select_cols(mt.c2,\n",
    "sum=mt.c2+mt.c1)"
   ]
  },
  {
   "cell_type": "code",
   "execution_count": null,
   "metadata": {},
   "outputs": [],
   "source": [
    "play_mt = ex_dict[list(ex_dict)[0]][0]"
   ]
  },
  {
   "cell_type": "code",
   "execution_count": null,
   "metadata": {},
   "outputs": [],
   "source": [
    "row_subsetted_mt.cols().show(5)"
   ]
  },
  {
   "cell_type": "code",
   "execution_count": null,
   "metadata": {},
   "outputs": [],
   "source": [
    "CEU_af_freq = CEU_af_freq.annotate_cols(AN=ex_dict[list(ex_dict)[0]][0]['variant_qc']['AN'])"
   ]
  },
  {
   "cell_type": "code",
   "execution_count": null,
   "metadata": {},
   "outputs": [],
   "source": [
    "mtA = mtA.annotate_rows(phenos = hl.dict(hl.agg.collect((mtA.pheno, mtA.value))))\n",
    "mtB = mtB.annotate_cols(\n",
    "    phenos = mtA.rows()[mtB.col_key].phenos)"
   ]
  },
  {
   "cell_type": "code",
   "execution_count": null,
   "metadata": {
    "scrolled": true
   },
   "outputs": [],
   "source": [
    "# additional stuff \n",
    "\n",
    "CEU_var = hl.variant_qc(CEU_mt) \n",
    "CEU__YRI_var = hl.variant_qc(CEU_YRI_mt) \n",
    "a, b, c\n",
    "a -> ac\n",
    "B -> cb\n",
    "a -> ab\n",
    "CEU_var.row.show()\n",
    "CEU_mt['variant_qc']['AF'][0]*CEU_mt['variant_qc']['AF'][1]\n",
    "CEU_YRI_mt['variant_qc']['AF'][0]*CEU_YRI_mt['variant_qc']['AF'][1]"
   ]
  },
  {
   "cell_type": "markdown",
   "metadata": {},
   "source": [
    "-"
   ]
  },
  {
   "cell_type": "markdown",
   "metadata": {},
   "source": [
    "## junk code 2"
   ]
  },
  {
   "cell_type": "code",
   "execution_count": null,
   "metadata": {},
   "outputs": [],
   "source": [
    "# this code is if the alleles were split into their separate columns and if we expect a mismatch across popns \n",
    "\n",
    "# remove indels - only include single letter varients for each allele in both populations \n",
    "# this is b/c the FST formula is set up for single letter alleles \n",
    "#pop1 = CEU_final.filter_rows((CEU_final.A1.length() == 1) & (CEU_final.A2.length() == 1))\n",
    "#pop2 = CEU_YRI_final.filter_rows((CEU_YRI_final.A1.length() == 1) & (CEU_YRI_final.A2.length() == 1))\n",
    "\n",
    "\n",
    "# sanity check \n",
    "#A1 = pop1.A1.collect()\n",
    "#A1 =  list(set(A1)) # OR can also do: \n",
    "### from collections import OrderedDict \n",
    "### A1 = list(OrderedDict.fromkeys(A1))\n",
    "\n",
    "#print(A1) \n",
    "#len(A1) == 4\n",
    "\n",
    "# total # of snps at the beginning - 255666 \n",
    "# unique snps before removing indels - 2712 \n",
    "# total # of snps after removing indels - 221017 (34649 snps were indels for A1, A2 or both)\n",
    "# unique snps after removing indels - 4 ['C', 'A', 'T', 'G'] - which is what we expect \n",
    "\n",
    "\n",
    "\n",
    "## *use the same reference allele - A2 is minor allele here*  \n",
    "\n",
    "# get the minor alleles from both populations  \n",
    "#pop1_A2 = pop1.A2.collect()\n",
    "#pop2_A2 = pop2.A2.collect()\n",
    "\n",
    "\n",
    "# find values that are unequal \n",
    "#import numpy as np\n",
    "#switch1 = (np.array(pop1_A2) != np.array(pop2_A2))\n",
    "#print(switch1.all()) # all comparisons returned 'FALSE' which means that all variants that were compared are the same \n",
    "\n",
    "# sanity check \n",
    "#print(len(pop1_A2) == len(pop2_A2) == len(switch1)) # True \n",
    "\n",
    "\n",
    "### *if there is a variant mismatch among the minor alleles of the two populations*\n",
    "# in case there was a comparison that didn't match correctly among the minor alleles of the two populations, we would adjust the allele frequency(AF) accordingly   \n",
    "#new_frq = pop2.AF.collect() \n",
    "#new_frq = np.array(new_frq) # convert to numpy array for the next step\n",
    "\n",
    "# explanation (with an example) for what this does is right below it \n",
    "#new_frq[switch1] = 1-(new_frq[switch1]) \n",
    "# Example: for pop_1, A1 and A2 are 'T' and 'C' with AF of 0.25 \n",
    "# and for pop_2, A1 and A2 are 'C and 'T' with AF of 0.25\n",
    "# then since the same reference allele is not used (alleles don't correctly align) in this case, \n",
    "# we would subtract the AF of pop_2 from 1, to get the correct allele frequency \n",
    "# the AF of pop_2 with A1 and A2 oriented the same way as pop_1: 'T' and 'C', would be 1-0.25 = 0.75 (w/c is the correct AF)\n",
    "\n",
    "# if we wanted to convert array back to list \n",
    "#pop2_frq = new_frq.tolist() \n",
    "\n",
    "\n",
    "# junk code \n",
    "#pop2.rows().show(5)\n",
    "\n",
    "#p = pop2.filter_rows(str(pop2.locus) =='chr10:38960343')\n",
    "p.row.show()\n",
    "\n",
    "\n",
    "# for i in locus:\n",
    "#     if i =='chr1:94607079':\n",
    "#         print (\"True\")\n",
    "        \n",
    "sum(num == dup for num,dup in zip(locus, d))"
   ]
  },
  {
   "cell_type": "code",
   "execution_count": null,
   "metadata": {},
   "outputs": [],
   "source": [
    "# code to check if there are duplicates in a list and print them out \n",
    "#import collections\n",
    "#dup = [item for item, count in collections.Counter(key).items() if count > 1]\n",
    "#print('Num of duplicate loci: ' + str(len(dup))) \n",
    "#print(dup)"
   ]
  },
  {
   "cell_type": "code",
   "execution_count": null,
   "metadata": {},
   "outputs": [],
   "source": [
    "# which FST value is for which locus? \n",
    "key_freq1 = {key[i]: FREQpop1[i] for i in range(len(key))}\n",
    "key_freq2 = {key[i]: FREQpop2[i] for i in range(len(key))}\n",
    "\n",
    "\n",
    "key_n1 = {key[i]: n1[i] for i in range(len(key))}\n",
    "key_n2 = {key[i]: n2[i] for i in range(len(key))}\n",
    "\n",
    "# for key,value in zip (locus, FREQpop1):\n",
    "#     print(dict(key, value))\n",
    "#for v1,v2 in zip(list(locus_freq1.values())[0:5], list(locus_freq2.values())[0:5]):\n",
    "    #lq = ((n1*locus_freq1.values()) + (n2*locus_freq2.values())) / (n1+n2)\n",
    "    #print(key,value)"
   ]
  },
  {
   "cell_type": "code",
   "execution_count": null,
   "metadata": {},
   "outputs": [],
   "source": [
    "#locus #220945\n",
    "#len(set(FREQpop1))\n",
    "\n",
    "\n",
    "# check if there are duplicates in locus list and print them out - 72 duplicates  \n",
    "# import collections\n",
    "# d = [item for item, count in collections.Counter(locus).items() if count > 1]\n",
    "\n",
    "# list.sort(locus)\n",
    "#locus\n",
    "\n",
    "# from collections import Counter\n",
    "# [k for k,v in Counter(locus).items() if v>1]\n",
    "\n",
    "# where are each of the duplicated loci located?\n",
    "from collections import defaultdict\n",
    "\n",
    "D = defaultdict(list)\n",
    "for i,item in enumerate(locus):\n",
    "    D[item].append(i)\n",
    "D = {k:v for k,v in D.items() if len(v)>1}\n",
    "locus[6202]"
   ]
  },
  {
   "cell_type": "code",
   "execution_count": null,
   "metadata": {},
   "outputs": [],
   "source": [
    "bad_locus = locus[INCLUDE=='FALSE']\n",
    "\n",
    "# ave freq values that were not between 0 and 1 - returned FALSE to the conditions in the above chuck of code \n",
    "print(np.count_nonzero(INCLUDE==0))\n",
    "DONT_INCLUDE= (FREQ=='') & (FREQ>=1)\n",
    "np.count_nonzero(DONT_INCLUDE)"
   ]
  },
  {
   "cell_type": "code",
   "execution_count": null,
   "metadata": {},
   "outputs": [],
   "source": [
    "# convert the output from the preimp_qc module (qced.mt) into a vcf file in Hail \n",
    "import hail as hl \n",
    "mt = hl.read_matrix_table('gs://nepal-geno/GWASpy/Preimp_QC/Nepal_PTSD_GSA_Updated_May2021_qced.mt')\n",
    "hl.export_vcf(mt, 'gs://nepal-geno/Nepal_PTSD_GSA_Updated_May2021_qced.vcf.bgz')"
   ]
  }
 ],
 "metadata": {
  "kernelspec": {
   "display_name": "Python 3",
   "language": "python",
   "name": "python3"
  },
  "language_info": {
   "codemirror_mode": {
    "name": "ipython",
    "version": 3
   },
   "file_extension": ".py",
   "mimetype": "text/x-python",
   "name": "python",
   "nbconvert_exporter": "python",
   "pygments_lexer": "ipython3",
   "version": "3.7.9"
  }
 },
 "nbformat": 4,
 "nbformat_minor": 5
}
